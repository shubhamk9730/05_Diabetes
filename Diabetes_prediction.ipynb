{
 "cells": [
  {
   "cell_type": "markdown",
   "id": "1b2b6ddc",
   "metadata": {},
   "source": [
    "# Diabetes Prediction"
   ]
  },
  {
   "cell_type": "markdown",
   "id": "518e04e1",
   "metadata": {},
   "source": [
    "## Problem Statment"
   ]
  },
  {
   "cell_type": "raw",
   "id": "5e78a508",
   "metadata": {},
   "source": [
    "Predict for Diabetes with given Dataset."
   ]
  },
  {
   "cell_type": "markdown",
   "id": "b9ee2f1b",
   "metadata": {},
   "source": [
    "## Data Gathering"
   ]
  },
  {
   "cell_type": "code",
   "execution_count": 1,
   "id": "c52f0a58",
   "metadata": {},
   "outputs": [],
   "source": [
    "import numpy as np\n",
    "import pandas as pd"
   ]
  },
  {
   "cell_type": "code",
   "execution_count": 2,
   "id": "87437f54",
   "metadata": {},
   "outputs": [
    {
     "data": {
      "text/html": [
       "<div>\n",
       "<style scoped>\n",
       "    .dataframe tbody tr th:only-of-type {\n",
       "        vertical-align: middle;\n",
       "    }\n",
       "\n",
       "    .dataframe tbody tr th {\n",
       "        vertical-align: top;\n",
       "    }\n",
       "\n",
       "    .dataframe thead th {\n",
       "        text-align: right;\n",
       "    }\n",
       "</style>\n",
       "<table border=\"1\" class=\"dataframe\">\n",
       "  <thead>\n",
       "    <tr style=\"text-align: right;\">\n",
       "      <th></th>\n",
       "      <th>Glucose</th>\n",
       "      <th>BloodPressure</th>\n",
       "      <th>SkinThickness</th>\n",
       "      <th>Insulin</th>\n",
       "      <th>BMI</th>\n",
       "      <th>DiabetesPedigreeFunction</th>\n",
       "      <th>Age</th>\n",
       "      <th>Outcome</th>\n",
       "    </tr>\n",
       "  </thead>\n",
       "  <tbody>\n",
       "    <tr>\n",
       "      <th>0</th>\n",
       "      <td>148</td>\n",
       "      <td>50</td>\n",
       "      <td>35</td>\n",
       "      <td>0</td>\n",
       "      <td>33.6</td>\n",
       "      <td>0.627</td>\n",
       "      <td>50</td>\n",
       "      <td>1</td>\n",
       "    </tr>\n",
       "    <tr>\n",
       "      <th>1</th>\n",
       "      <td>85</td>\n",
       "      <td>66</td>\n",
       "      <td>29</td>\n",
       "      <td>0</td>\n",
       "      <td>26.6</td>\n",
       "      <td>0.351</td>\n",
       "      <td>31</td>\n",
       "      <td>0</td>\n",
       "    </tr>\n",
       "  </tbody>\n",
       "</table>\n",
       "</div>"
      ],
      "text/plain": [
       "   Glucose  BloodPressure  SkinThickness  Insulin   BMI  \\\n",
       "0      148             50             35        0  33.6   \n",
       "1       85             66             29        0  26.6   \n",
       "\n",
       "   DiabetesPedigreeFunction  Age  Outcome  \n",
       "0                     0.627   50        1  \n",
       "1                     0.351   31        0  "
      ]
     },
     "execution_count": 2,
     "metadata": {},
     "output_type": "execute_result"
    }
   ],
   "source": [
    "df = pd.read_csv('diabetes.csv')\n",
    "df.head(2)"
   ]
  },
  {
   "cell_type": "markdown",
   "id": "4d937eab",
   "metadata": {},
   "source": [
    "## EDA"
   ]
  },
  {
   "cell_type": "code",
   "execution_count": 3,
   "id": "426dca3c",
   "metadata": {},
   "outputs": [
    {
     "name": "stdout",
     "output_type": "stream",
     "text": [
      "<class 'pandas.core.frame.DataFrame'>\n",
      "RangeIndex: 768 entries, 0 to 767\n",
      "Data columns (total 8 columns):\n",
      " #   Column                    Non-Null Count  Dtype  \n",
      "---  ------                    --------------  -----  \n",
      " 0   Glucose                   768 non-null    int64  \n",
      " 1   BloodPressure             768 non-null    int64  \n",
      " 2   SkinThickness             768 non-null    int64  \n",
      " 3   Insulin                   768 non-null    int64  \n",
      " 4   BMI                       768 non-null    float64\n",
      " 5   DiabetesPedigreeFunction  768 non-null    float64\n",
      " 6   Age                       768 non-null    int64  \n",
      " 7   Outcome                   768 non-null    int64  \n",
      "dtypes: float64(2), int64(6)\n",
      "memory usage: 48.1 KB\n"
     ]
    }
   ],
   "source": [
    "df.info()"
   ]
  },
  {
   "cell_type": "code",
   "execution_count": 4,
   "id": "bee2c1d5",
   "metadata": {},
   "outputs": [
    {
     "data": {
      "text/plain": [
       "Glucose                       int64\n",
       "BloodPressure                 int64\n",
       "SkinThickness                 int64\n",
       "Insulin                       int64\n",
       "BMI                         float64\n",
       "DiabetesPedigreeFunction    float64\n",
       "Age                           int64\n",
       "Outcome                       int64\n",
       "dtype: object"
      ]
     },
     "execution_count": 4,
     "metadata": {},
     "output_type": "execute_result"
    }
   ],
   "source": [
    "df.dtypes"
   ]
  },
  {
   "cell_type": "markdown",
   "id": "58cc4ac8",
   "metadata": {},
   "source": [
    "### Data Check for Outliers"
   ]
  },
  {
   "cell_type": "code",
   "execution_count": 5,
   "id": "4be96bb7",
   "metadata": {},
   "outputs": [],
   "source": [
    "import seaborn as sns\n",
    "import matplotlib.pyplot as plt"
   ]
  },
  {
   "cell_type": "markdown",
   "id": "493fea88",
   "metadata": {},
   "source": [
    "### 1. Glucose"
   ]
  },
  {
   "cell_type": "markdown",
   "id": "7ae75706",
   "metadata": {},
   "source": [
    "### As per Medical Standard for Blood Glucose:-\n",
    "\n",
    "A blood sugar level less than 140 mg/dL (7.8 mmol/L) is normal. A reading of more than 200 mg/dL (11.1 mmol/L) after two hours means you have diabetes. A reading between 140 and 199 mg/dL (7.8 mmol/L and 11.0 mmol/L) means you have prediabetes."
   ]
  },
  {
   "cell_type": "code",
   "execution_count": 6,
   "id": "f9c19a85",
   "metadata": {},
   "outputs": [
    {
     "data": {
      "text/plain": [
       "count    768.000000\n",
       "mean     121.117188\n",
       "std       31.805091\n",
       "min        0.000000\n",
       "25%       99.000000\n",
       "50%      117.000000\n",
       "75%      142.000000\n",
       "max      199.000000\n",
       "Name: Glucose, dtype: float64"
      ]
     },
     "execution_count": 6,
     "metadata": {},
     "output_type": "execute_result"
    }
   ],
   "source": [
    "df['Glucose'].describe()"
   ]
  },
  {
   "cell_type": "markdown",
   "id": "409d2687",
   "metadata": {},
   "source": [
    "### DETECTION:- By,\n",
    "    1. boxplot, 2. z_score, 3. IQR"
   ]
  },
  {
   "cell_type": "code",
   "execution_count": 7,
   "id": "ed72235f",
   "metadata": {},
   "outputs": [
    {
     "name": "stderr",
     "output_type": "stream",
     "text": [
      "C:\\Users\\sai\\anaconda3\\lib\\site-packages\\seaborn\\_decorators.py:36: FutureWarning: Pass the following variable as a keyword arg: x. From version 0.12, the only valid positional argument will be `data`, and passing other arguments without an explicit keyword will result in an error or misinterpretation.\n",
      "  warnings.warn(\n"
     ]
    },
    {
     "data": {
      "text/plain": [
       "<AxesSubplot:xlabel='Glucose'>"
      ]
     },
     "execution_count": 7,
     "metadata": {},
     "output_type": "execute_result"
    },
    {
     "data": {
      "image/png": "[encoded data removed]",
      "text/plain": [
       "<Figure size 1440x360 with 1 Axes>"
      ]
     },
     "metadata": {
      "needs_background": "light"
     },
     "output_type": "display_data"
    }
   ],
   "source": [
    "#detect by boxplot\n",
    "\n",
    "plt.figure(figsize=(20,5))\n",
    "sns.boxplot(df['Glucose'])"
   ]
  },
  {
   "cell_type": "code",
   "execution_count": 8,
   "id": "172fb897",
   "metadata": {},
   "outputs": [],
   "source": [
    "# detect by Z_score method     ...formula, z_score = (value - mean) / std\n",
    "                               # ... ideal range -3 to +3 (Actually it is depend on Data type)\n",
    "\n",
    "from scipy.stats import zscore"
   ]
  },
  {
   "cell_type": "code",
   "execution_count": 9,
   "id": "54ccdb05",
   "metadata": {},
   "outputs": [
    {
     "data": {
      "text/plain": [
       "0      0.845787\n",
       "1      1.136319\n",
       "2      1.946957\n",
       "3      0.908711\n",
       "4      0.908711\n",
       "         ...   \n",
       "763    0.632927\n",
       "764    0.027775\n",
       "765    0.003687\n",
       "766    0.153623\n",
       "767    0.884623\n",
       "Name: Glucose, Length: 768, dtype: float64"
      ]
     },
     "execution_count": 9,
     "metadata": {},
     "output_type": "execute_result"
    }
   ],
   "source": [
    "z_score = np.abs(zscore(df['Glucose']))\n",
    "z_score"
   ]
  },
  {
   "cell_type": "code",
   "execution_count": 10,
   "id": "ff96e066",
   "metadata": {},
   "outputs": [
    {
     "data": {
      "text/plain": [
       "75     3.810589\n",
       "182    3.810589\n",
       "342    3.810589\n",
       "349    3.810589\n",
       "502    3.810589\n",
       "Name: Glucose, dtype: float64"
      ]
     },
     "execution_count": 10,
     "metadata": {},
     "output_type": "execute_result"
    }
   ],
   "source": [
    "outliers = z_score.loc[z_score > 3]    #suppose we rawly consider more than 3 z_score is outliers\n",
    "outliers"
   ]
  },
  {
   "cell_type": "code",
   "execution_count": 11,
   "id": "56ce73fa",
   "metadata": {},
   "outputs": [
    {
     "data": {
      "text/plain": [
       "Int64Index([75, 182, 342, 349, 502], dtype='int64')"
      ]
     },
     "execution_count": 11,
     "metadata": {},
     "output_type": "execute_result"
    }
   ],
   "source": [
    "outliers.index"
   ]
  },
  {
   "cell_type": "code",
   "execution_count": 12,
   "id": "97d6af50",
   "metadata": {},
   "outputs": [
    {
     "data": {
      "text/plain": [
       "5"
      ]
     },
     "execution_count": 12,
     "metadata": {},
     "output_type": "execute_result"
    }
   ],
   "source": [
    "outliers.value_counts().sum()"
   ]
  },
  {
   "cell_type": "code",
   "execution_count": 13,
   "id": "0e5c8201",
   "metadata": {},
   "outputs": [],
   "source": [
    "# Each columnhas 768 number of values, So\n",
    "# We procced to check outliers by IQR method (Interquartile Range Method),"
   ]
  },
  {
   "cell_type": "code",
   "execution_count": 14,
   "id": "c361708d",
   "metadata": {},
   "outputs": [
    {
     "name": "stdout",
     "output_type": "stream",
     "text": [
      "q1 : 99.0\n",
      "q2 : 117.0\n",
      "q3 : 142.0\n",
      "iqr : 43.0\n",
      "upper_tail : 206.5\n",
      "lower_tail : 34.5\n"
     ]
    }
   ],
   "source": [
    "q1= df['Glucose'].quantile(0.25)\n",
    "q2= df['Glucose'].quantile(0.50) #median\n",
    "q3= df['Glucose'].quantile(0.75)\n",
    "\n",
    "iqr= q3-q1\n",
    "\n",
    "upper_tail = q3 + 1.5*iqr\n",
    "lower_tail = q1 - 1.5*iqr\n",
    "\n",
    "print('q1 :', q1)\n",
    "print('q2 :', q2)\n",
    "print('q3 :', q3)\n",
    "print('iqr :', iqr)\n",
    "print('upper_tail :', upper_tail)\n",
    "print('lower_tail :', lower_tail)"
   ]
  },
  {
   "cell_type": "code",
   "execution_count": 15,
   "id": "fe883483",
   "metadata": {},
   "outputs": [
    {
     "data": {
      "text/plain": [
       "75     0\n",
       "182    0\n",
       "342    0\n",
       "349    0\n",
       "502    0\n",
       "Name: Glucose, dtype: int64"
      ]
     },
     "execution_count": 15,
     "metadata": {},
     "output_type": "execute_result"
    }
   ],
   "source": [
    "outl = df.loc[(df['Glucose'] < lower_tail) |\n",
    "                 (df['Glucose'] > upper_tail)]\n",
    "\n",
    "outl['Glucose']"
   ]
  },
  {
   "cell_type": "code",
   "execution_count": 16,
   "id": "fbc17906",
   "metadata": {},
   "outputs": [
    {
     "data": {
      "text/plain": [
       "Int64Index([75, 182, 342, 349, 502], dtype='int64')"
      ]
     },
     "execution_count": 16,
     "metadata": {},
     "output_type": "execute_result"
    }
   ],
   "source": [
    "outl.index"
   ]
  },
  {
   "cell_type": "code",
   "execution_count": 17,
   "id": "3e95c26f",
   "metadata": {},
   "outputs": [
    {
     "data": {
      "text/plain": [
       "5"
      ]
     },
     "execution_count": 17,
     "metadata": {},
     "output_type": "execute_result"
    }
   ],
   "source": [
    "outl['Glucose'].value_counts().sum()"
   ]
  },
  {
   "cell_type": "markdown",
   "id": "b36fe14c",
   "metadata": {},
   "source": [
    "## Obseravtions for ['Glucose'] Outliers:\n",
    "    Boxplot, z-score and IQR all three methods result is exctly same for detect outliers.\n",
    "    \n",
    "    1. In boxplot, outliers shown at lower tail side only.\n",
    "    2. In z_score method, outliers shown with indexing at lower tail side only.\n",
    "    3. In IQR method, result is exactly same as z_score."
   ]
  },
  {
   "cell_type": "markdown",
   "id": "513a6e0b",
   "metadata": {},
   "source": [
    "### HANDLE:- By,\n",
    "    1. Imputation (mean,median, min, max, lr_tail, up_tail, static value), \n",
    "    2. Transformation (Log, sqrt, cbrt, reciprocal (1/value), standardization)"
   ]
  },
  {
   "cell_type": "code",
   "execution_count": 18,
   "id": "4a16a80d",
   "metadata": {},
   "outputs": [
    {
     "data": {
      "text/plain": [
       "0      148\n",
       "1       85\n",
       "2      183\n",
       "3      150\n",
       "4      150\n",
       "      ... \n",
       "763    101\n",
       "764    122\n",
       "765    121\n",
       "766    126\n",
       "767     93\n",
       "Name: Glucose, Length: 763, dtype: int64"
      ]
     },
     "execution_count": 18,
     "metadata": {},
     "output_type": "execute_result"
    }
   ],
   "source": [
    "#Imputation technique\n",
    "#for Imputation technique, we calculate imputer (mean, median,...) from without outliers data.\n",
    "#So, for without outliers data we proceed as below,\n",
    "\n",
    "without_outliers = df.loc[(df['Glucose'] > lower_tail) &\n",
    "                 (df['Glucose'] < upper_tail)]\n",
    "\n",
    "without_outliers['Glucose']"
   ]
  },
  {
   "cell_type": "code",
   "execution_count": 19,
   "id": "724ad25b",
   "metadata": {},
   "outputs": [
    {
     "data": {
      "text/plain": [
       "763"
      ]
     },
     "execution_count": 19,
     "metadata": {},
     "output_type": "execute_result"
    }
   ],
   "source": [
    "without_outliers['Glucose'].value_counts().sum()"
   ]
  },
  {
   "cell_type": "code",
   "execution_count": 20,
   "id": "14f85ff8",
   "metadata": {},
   "outputs": [
    {
     "data": {
      "text/plain": [
       "121.91087811271298"
      ]
     },
     "execution_count": 20,
     "metadata": {},
     "output_type": "execute_result"
    }
   ],
   "source": [
    "mean = without_outliers['Glucose'].mean()\n",
    "mean"
   ]
  },
  {
   "cell_type": "code",
   "execution_count": 21,
   "id": "6577ce86",
   "metadata": {},
   "outputs": [
    {
     "data": {
      "text/plain": [
       "118.0"
      ]
     },
     "execution_count": 21,
     "metadata": {},
     "output_type": "execute_result"
    }
   ],
   "source": [
    "median = without_outliers['Glucose'].median()\n",
    "median"
   ]
  },
  {
   "cell_type": "code",
   "execution_count": 22,
   "id": "c15fbab8",
   "metadata": {},
   "outputs": [
    {
     "data": {
      "text/plain": [
       "44"
      ]
     },
     "execution_count": 22,
     "metadata": {},
     "output_type": "execute_result"
    }
   ],
   "source": [
    "minn = without_outliers['Glucose'].min()\n",
    "minn"
   ]
  },
  {
   "cell_type": "code",
   "execution_count": 23,
   "id": "cc3dde4a",
   "metadata": {},
   "outputs": [
    {
     "data": {
      "text/plain": [
       "199"
      ]
     },
     "execution_count": 23,
     "metadata": {},
     "output_type": "execute_result"
    }
   ],
   "source": [
    "maxx = without_outliers['Glucose'].max()\n",
    "maxx"
   ]
  },
  {
   "cell_type": "raw",
   "id": "1db7cc9c",
   "metadata": {},
   "source": [
    "We use 'mean' as a imputer for '5 outliers' which can be detect by IQR."
   ]
  },
  {
   "cell_type": "code",
   "execution_count": 24,
   "id": "44804d9a",
   "metadata": {},
   "outputs": [
    {
     "name": "stderr",
     "output_type": "stream",
     "text": [
      "C:\\Users\\sai\\anaconda3\\lib\\site-packages\\pandas\\core\\indexing.py:1732: SettingWithCopyWarning: \n",
      "A value is trying to be set on a copy of a slice from a DataFrame\n",
      "\n",
      "See the caveats in the documentation: https://pandas.pydata.org/pandas-docs/stable/user_guide/indexing.html#returning-a-view-versus-a-copy\n",
      "  self._setitem_single_block(indexer, value, name)\n"
     ]
    }
   ],
   "source": [
    "df['Glucose'].loc[(df['Glucose'] < lower_tail) |\n",
    "                 (df['Glucose'] > upper_tail)] = mean"
   ]
  },
  {
   "cell_type": "code",
   "execution_count": 25,
   "id": "606b0b1a",
   "metadata": {},
   "outputs": [
    {
     "data": {
      "text/html": [
       "<div>\n",
       "<style scoped>\n",
       "    .dataframe tbody tr th:only-of-type {\n",
       "        vertical-align: middle;\n",
       "    }\n",
       "\n",
       "    .dataframe tbody tr th {\n",
       "        vertical-align: top;\n",
       "    }\n",
       "\n",
       "    .dataframe thead th {\n",
       "        text-align: right;\n",
       "    }\n",
       "</style>\n",
       "<table border=\"1\" class=\"dataframe\">\n",
       "  <thead>\n",
       "    <tr style=\"text-align: right;\">\n",
       "      <th></th>\n",
       "      <th>Glucose</th>\n",
       "      <th>BloodPressure</th>\n",
       "      <th>SkinThickness</th>\n",
       "      <th>Insulin</th>\n",
       "      <th>BMI</th>\n",
       "      <th>DiabetesPedigreeFunction</th>\n",
       "      <th>Age</th>\n",
       "      <th>Outcome</th>\n",
       "    </tr>\n",
       "  </thead>\n",
       "  <tbody>\n",
       "  </tbody>\n",
       "</table>\n",
       "</div>"
      ],
      "text/plain": [
       "Empty DataFrame\n",
       "Columns: [Glucose, BloodPressure, SkinThickness, Insulin, BMI, DiabetesPedigreeFunction, Age, Outcome]\n",
       "Index: []"
      ]
     },
     "execution_count": 25,
     "metadata": {},
     "output_type": "execute_result"
    }
   ],
   "source": [
    "df.loc[(df['Glucose'] < lower_tail) |\n",
    "                 (df['Glucose'] > upper_tail)]"
   ]
  },
  {
   "cell_type": "code",
   "execution_count": 26,
   "id": "e0cb3ab1",
   "metadata": {},
   "outputs": [
    {
     "data": {
      "text/plain": [
       "768"
      ]
     },
     "execution_count": 26,
     "metadata": {},
     "output_type": "execute_result"
    }
   ],
   "source": [
    "without_outliers = df.loc[(df['Glucose'] > lower_tail) &\n",
    "                 (df['Glucose'] < upper_tail)]\n",
    "\n",
    "without_outliers['Glucose'].value_counts().sum()"
   ]
  },
  {
   "cell_type": "code",
   "execution_count": 27,
   "id": "6126ab81",
   "metadata": {},
   "outputs": [
    {
     "data": {
      "text/plain": [
       "0    500\n",
       "1    268\n",
       "Name: Outcome, dtype: int64"
      ]
     },
     "execution_count": 27,
     "metadata": {},
     "output_type": "execute_result"
    }
   ],
   "source": [
    "df['Outcome'].value_counts()"
   ]
  },
  {
   "cell_type": "markdown",
   "id": "de415d56",
   "metadata": {},
   "source": [
    "### Now, all 768 values are comes in a norml range, there is no outliers present."
   ]
  },
  {
   "cell_type": "markdown",
   "id": "5a3cbc20",
   "metadata": {},
   "source": [
    "# BloodPressure                             "
   ]
  },
  {
   "cell_type": "code",
   "execution_count": 28,
   "id": "b38fab13",
   "metadata": {},
   "outputs": [
    {
     "data": {
      "text/plain": [
       "count    768.000000\n",
       "mean      69.076823\n",
       "std       19.367794\n",
       "min        0.000000\n",
       "25%       62.000000\n",
       "50%       72.000000\n",
       "75%       80.000000\n",
       "max      122.000000\n",
       "Name: BloodPressure, dtype: float64"
      ]
     },
     "execution_count": 28,
     "metadata": {},
     "output_type": "execute_result"
    }
   ],
   "source": [
    "df['BloodPressure'].describe()"
   ]
  },
  {
   "cell_type": "code",
   "execution_count": 29,
   "id": "3b2324c7",
   "metadata": {},
   "outputs": [
    {
     "name": "stderr",
     "output_type": "stream",
     "text": [
      "C:\\Users\\sai\\anaconda3\\lib\\site-packages\\seaborn\\_decorators.py:36: FutureWarning: Pass the following variable as a keyword arg: x. From version 0.12, the only valid positional argument will be `data`, and passing other arguments without an explicit keyword will result in an error or misinterpretation.\n",
      "  warnings.warn(\n"
     ]
    },
    {
     "data": {
      "text/plain": [
       "<AxesSubplot:xlabel='BloodPressure'>"
      ]
     },
     "execution_count": 29,
     "metadata": {},
     "output_type": "execute_result"
    },
    {
     "data": {
      "image/png": "[encoded data removed]",
      "text/plain": [
       "<Figure size 1440x360 with 1 Axes>"
      ]
     },
     "metadata": {
      "needs_background": "light"
     },
     "output_type": "display_data"
    }
   ],
   "source": [
    "plt.figure(figsize=(20,5))\n",
    "sns.boxplot(df['BloodPressure'])"
   ]
  },
  {
   "cell_type": "code",
   "execution_count": 30,
   "id": "ba834bdf",
   "metadata": {},
   "outputs": [
    {
     "data": {
      "text/plain": [
       "0      0.985618\n",
       "1      0.158966\n",
       "2      0.262298\n",
       "3      0.158966\n",
       "4      1.502276\n",
       "         ...   \n",
       "763    0.357691\n",
       "764    0.047697\n",
       "765    0.151028\n",
       "766    0.468961\n",
       "767    0.047697\n",
       "Name: BloodPressure, Length: 768, dtype: float64"
      ]
     },
     "execution_count": 30,
     "metadata": {},
     "output_type": "execute_result"
    }
   ],
   "source": [
    "#By z_score\n",
    "z_score = np.abs(zscore(df['BloodPressure']))\n",
    "z_score"
   ]
  },
  {
   "cell_type": "code",
   "execution_count": 31,
   "id": "10a31806",
   "metadata": {},
   "outputs": [
    {
     "data": {
      "text/plain": [
       "7      3.568906\n",
       "15     3.568906\n",
       "49     3.568906\n",
       "60     3.568906\n",
       "78     3.568906\n",
       "81     3.568906\n",
       "172    3.568906\n",
       "193    3.568906\n",
       "222    3.568906\n",
       "261    3.568906\n",
       "266    3.568906\n",
       "269    3.568906\n",
       "300    3.568906\n",
       "332    3.568906\n",
       "336    3.568906\n",
       "347    3.568906\n",
       "357    3.568906\n",
       "426    3.568906\n",
       "430    3.568906\n",
       "435    3.568906\n",
       "453    3.568906\n",
       "468    3.568906\n",
       "484    3.568906\n",
       "494    3.568906\n",
       "522    3.568906\n",
       "533    3.568906\n",
       "535    3.568906\n",
       "589    3.568906\n",
       "601    3.568906\n",
       "604    3.568906\n",
       "619    3.568906\n",
       "643    3.568906\n",
       "697    3.568906\n",
       "703    3.568906\n",
       "706    3.568906\n",
       "Name: BloodPressure, dtype: float64"
      ]
     },
     "execution_count": 31,
     "metadata": {},
     "output_type": "execute_result"
    }
   ],
   "source": [
    "outlier_zs= z_score.loc[z_score > 3]\n",
    "outlier_zs"
   ]
  },
  {
   "cell_type": "code",
   "execution_count": 32,
   "id": "08ade519",
   "metadata": {},
   "outputs": [
    {
     "data": {
      "text/plain": [
       "Int64Index([  7,  15,  49,  60,  78,  81, 172, 193, 222, 261, 266, 269, 300,\n",
       "            332, 336, 347, 357, 426, 430, 435, 453, 468, 484, 494, 522, 533,\n",
       "            535, 589, 601, 604, 619, 643, 697, 703, 706],\n",
       "           dtype='int64')"
      ]
     },
     "execution_count": 32,
     "metadata": {},
     "output_type": "execute_result"
    }
   ],
   "source": [
    "outlier_zs.index"
   ]
  },
  {
   "cell_type": "code",
   "execution_count": 33,
   "id": "17d904fb",
   "metadata": {},
   "outputs": [
    {
     "data": {
      "text/plain": [
       "35"
      ]
     },
     "execution_count": 33,
     "metadata": {},
     "output_type": "execute_result"
    }
   ],
   "source": [
    "outlier_zs.value_counts().sum()"
   ]
  },
  {
   "cell_type": "code",
   "execution_count": 34,
   "id": "d9ea593b",
   "metadata": {},
   "outputs": [
    {
     "name": "stdout",
     "output_type": "stream",
     "text": [
      "q1 : 62.0\n",
      "q2 : 72.0\n",
      "q3 : 80.0\n",
      "iqr : 18.0\n",
      "upper_tail : 107.0\n",
      "lower_tail : 35.0\n"
     ]
    }
   ],
   "source": [
    "#By IQR\n",
    "\n",
    "q1= df['BloodPressure'].quantile(0.25)\n",
    "q2= df['BloodPressure'].quantile(0.50)\n",
    "q3= df['BloodPressure'].quantile(0.75)\n",
    "\n",
    "iqr = q3-q1\n",
    "\n",
    "upper_tail = q3 + 1.5*iqr\n",
    "lower_tail = q1 - 1.5*iqr\n",
    "\n",
    "print('q1 :', q1)\n",
    "print('q2 :', q2)\n",
    "print('q3 :', q3)\n",
    "print('iqr :', iqr)\n",
    "print('upper_tail :', upper_tail)\n",
    "print('lower_tail :', lower_tail)"
   ]
  },
  {
   "cell_type": "code",
   "execution_count": 35,
   "id": "d81f63fe",
   "metadata": {},
   "outputs": [
    {
     "data": {
      "text/plain": [
       "7        0\n",
       "15       0\n",
       "18      30\n",
       "43     110\n",
       "49       0\n",
       "60       0\n",
       "78       0\n",
       "81       0\n",
       "84     108\n",
       "106    122\n",
       "125     30\n",
       "172      0\n",
       "177    110\n",
       "193      0\n",
       "222      0\n",
       "261      0\n",
       "266      0\n",
       "269      0\n",
       "300      0\n",
       "332      0\n",
       "336      0\n",
       "347      0\n",
       "357      0\n",
       "362    108\n",
       "426      0\n",
       "430      0\n",
       "435      0\n",
       "453      0\n",
       "468      0\n",
       "484      0\n",
       "494      0\n",
       "522      0\n",
       "533      0\n",
       "535      0\n",
       "549    110\n",
       "589      0\n",
       "597     24\n",
       "601      0\n",
       "604      0\n",
       "619      0\n",
       "643      0\n",
       "691    114\n",
       "697      0\n",
       "703      0\n",
       "706      0\n",
       "Name: BloodPressure, dtype: int64"
      ]
     },
     "execution_count": 35,
     "metadata": {},
     "output_type": "execute_result"
    }
   ],
   "source": [
    "outlier_iqr = df.loc[(df['BloodPressure'] < lower_tail) |\n",
    "                    (df['BloodPressure'] > upper_tail)]\n",
    "\n",
    "outlier_iqr['BloodPressure']"
   ]
  },
  {
   "cell_type": "code",
   "execution_count": 36,
   "id": "5fa804fb",
   "metadata": {},
   "outputs": [
    {
     "data": {
      "text/plain": [
       "45"
      ]
     },
     "execution_count": 36,
     "metadata": {},
     "output_type": "execute_result"
    }
   ],
   "source": [
    "outlier_iqr['BloodPressure'].value_counts().sum()"
   ]
  },
  {
   "cell_type": "raw",
   "id": "ccc33a45",
   "metadata": {},
   "source": [
    "In z_score we find '35' outliers (which z_score is greater than 3) on both up and low tail side.\n",
    "In IQR we find '50' outliers on both up and low tail side.\n",
    "boxplot also visualise outliers on both up and low tail side. \n",
    "\n",
    "We Go with IQR."
   ]
  },
  {
   "cell_type": "code",
   "execution_count": 37,
   "id": "73bb26f2",
   "metadata": {},
   "outputs": [
    {
     "data": {
      "text/plain": [
       "0      50\n",
       "1      66\n",
       "2      64\n",
       "3      66\n",
       "4      40\n",
       "       ..\n",
       "763    76\n",
       "764    70\n",
       "765    72\n",
       "766    60\n",
       "767    70\n",
       "Name: BloodPressure, Length: 723, dtype: int64"
      ]
     },
     "execution_count": 37,
     "metadata": {},
     "output_type": "execute_result"
    }
   ],
   "source": [
    "without_out = df.loc[(df['BloodPressure'] > lower_tail) &\n",
    "                    (df['BloodPressure'] < upper_tail)]\n",
    "without_out['BloodPressure']"
   ]
  },
  {
   "cell_type": "code",
   "execution_count": 38,
   "id": "9a130cd0",
   "metadata": {},
   "outputs": [
    {
     "data": {
      "text/plain": [
       "72.17842323651452"
      ]
     },
     "execution_count": 38,
     "metadata": {},
     "output_type": "execute_result"
    }
   ],
   "source": [
    "mean = without_out['BloodPressure'].mean()\n",
    "mean"
   ]
  },
  {
   "cell_type": "code",
   "execution_count": 39,
   "id": "9e7125fb",
   "metadata": {},
   "outputs": [
    {
     "data": {
      "text/plain": [
       "72.0"
      ]
     },
     "execution_count": 39,
     "metadata": {},
     "output_type": "execute_result"
    }
   ],
   "source": [
    "median = without_out['BloodPressure'].median()\n",
    "median"
   ]
  },
  {
   "cell_type": "code",
   "execution_count": 40,
   "id": "b0451147",
   "metadata": {},
   "outputs": [
    {
     "data": {
      "text/plain": [
       "107.0"
      ]
     },
     "execution_count": 40,
     "metadata": {},
     "output_type": "execute_result"
    }
   ],
   "source": [
    "upper_tail"
   ]
  },
  {
   "cell_type": "code",
   "execution_count": 41,
   "id": "ac6c9327",
   "metadata": {},
   "outputs": [
    {
     "data": {
      "text/plain": [
       "35.0"
      ]
     },
     "execution_count": 41,
     "metadata": {},
     "output_type": "execute_result"
    }
   ],
   "source": [
    "lower_tail"
   ]
  },
  {
   "cell_type": "code",
   "execution_count": 42,
   "id": "1d90db84",
   "metadata": {},
   "outputs": [
    {
     "data": {
      "text/plain": [
       "106"
      ]
     },
     "execution_count": 42,
     "metadata": {},
     "output_type": "execute_result"
    }
   ],
   "source": [
    "maxx = without_out['BloodPressure'].max()\n",
    "maxx"
   ]
  },
  {
   "cell_type": "code",
   "execution_count": 43,
   "id": "446904d3",
   "metadata": {},
   "outputs": [
    {
     "data": {
      "text/plain": [
       "38"
      ]
     },
     "execution_count": 43,
     "metadata": {},
     "output_type": "execute_result"
    }
   ],
   "source": [
    "minn = without_out['BloodPressure'].min()\n",
    "minn"
   ]
  },
  {
   "cell_type": "code",
   "execution_count": 44,
   "id": "3d8ab812",
   "metadata": {},
   "outputs": [],
   "source": [
    "#Impute putliers by mean"
   ]
  },
  {
   "cell_type": "code",
   "execution_count": 45,
   "id": "e568181b",
   "metadata": {},
   "outputs": [
    {
     "name": "stderr",
     "output_type": "stream",
     "text": [
      "C:\\Users\\sai\\anaconda3\\lib\\site-packages\\pandas\\core\\indexing.py:1732: SettingWithCopyWarning: \n",
      "A value is trying to be set on a copy of a slice from a DataFrame\n",
      "\n",
      "See the caveats in the documentation: https://pandas.pydata.org/pandas-docs/stable/user_guide/indexing.html#returning-a-view-versus-a-copy\n",
      "  self._setitem_single_block(indexer, value, name)\n"
     ]
    }
   ],
   "source": [
    "df['BloodPressure'].loc[(df['BloodPressure'] < lower_tail) |\n",
    "                    (df['BloodPressure'] > upper_tail)] = mean"
   ]
  },
  {
   "cell_type": "code",
   "execution_count": 46,
   "id": "9a923b91",
   "metadata": {},
   "outputs": [
    {
     "data": {
      "text/plain": [
       "0"
      ]
     },
     "execution_count": 46,
     "metadata": {},
     "output_type": "execute_result"
    }
   ],
   "source": [
    "df['BloodPressure'].loc[(df['BloodPressure'] < lower_tail) |\n",
    "                    (df['BloodPressure'] > upper_tail)].value_counts().sum()"
   ]
  },
  {
   "cell_type": "code",
   "execution_count": 47,
   "id": "b1937496",
   "metadata": {},
   "outputs": [
    {
     "data": {
      "text/plain": [
       "0    500\n",
       "1    268\n",
       "Name: Outcome, dtype: int64"
      ]
     },
     "execution_count": 47,
     "metadata": {},
     "output_type": "execute_result"
    }
   ],
   "source": [
    "df['Outcome'].value_counts()"
   ]
  },
  {
   "cell_type": "markdown",
   "id": "1d6c8b5b",
   "metadata": {},
   "source": [
    "# SkinThickness                 "
   ]
  },
  {
   "cell_type": "code",
   "execution_count": 48,
   "id": "3f7209d2",
   "metadata": {},
   "outputs": [
    {
     "data": {
      "text/plain": [
       "count    768.000000\n",
       "mean      20.536458\n",
       "std       15.952218\n",
       "min        0.000000\n",
       "25%        0.000000\n",
       "50%       23.000000\n",
       "75%       32.000000\n",
       "max       99.000000\n",
       "Name: SkinThickness, dtype: float64"
      ]
     },
     "execution_count": 48,
     "metadata": {},
     "output_type": "execute_result"
    }
   ],
   "source": [
    "df['SkinThickness'].describe()"
   ]
  },
  {
   "cell_type": "code",
   "execution_count": 49,
   "id": "3fe16332",
   "metadata": {},
   "outputs": [
    {
     "data": {
      "text/plain": [
       "<AxesSubplot:xlabel='SkinThickness', ylabel='Density'>"
      ]
     },
     "execution_count": 49,
     "metadata": {},
     "output_type": "execute_result"
    },
    {
     "data": {
      "image/png": "[encoded data removed]",
      "text/plain": [
       "<Figure size 432x288 with 1 Axes>"
      ]
     },
     "metadata": {
      "needs_background": "light"
     },
     "output_type": "display_data"
    }
   ],
   "source": [
    "sns.kdeplot(df['SkinThickness'])"
   ]
  },
  {
   "cell_type": "code",
   "execution_count": 50,
   "id": "c2b10b0a",
   "metadata": {},
   "outputs": [
    {
     "name": "stderr",
     "output_type": "stream",
     "text": [
      "C:\\Users\\sai\\anaconda3\\lib\\site-packages\\seaborn\\_decorators.py:36: FutureWarning: Pass the following variable as a keyword arg: x. From version 0.12, the only valid positional argument will be `data`, and passing other arguments without an explicit keyword will result in an error or misinterpretation.\n",
      "  warnings.warn(\n"
     ]
    },
    {
     "data": {
      "text/plain": [
       "<AxesSubplot:xlabel='SkinThickness'>"
      ]
     },
     "execution_count": 50,
     "metadata": {},
     "output_type": "execute_result"
    },
    {
     "data": {
      "image/png": "[encoded data removed]",
      "text/plain": [
       "<Figure size 1440x216 with 1 Axes>"
      ]
     },
     "metadata": {
      "needs_background": "light"
     },
     "output_type": "display_data"
    }
   ],
   "source": [
    "plt.figure(figsize= (20,3))\n",
    "sns.boxplot(df['SkinThickness'])"
   ]
  },
  {
   "cell_type": "code",
   "execution_count": 51,
   "id": "424b4473",
   "metadata": {},
   "outputs": [
    {
     "data": {
      "text/plain": [
       "0      0.907270\n",
       "1      0.530902\n",
       "2      1.288212\n",
       "3      0.154533\n",
       "4      0.907270\n",
       "         ...   \n",
       "763    1.722735\n",
       "764    0.405445\n",
       "765    0.154533\n",
       "766    1.288212\n",
       "767    0.656358\n",
       "Name: SkinThickness, Length: 768, dtype: float64"
      ]
     },
     "execution_count": 51,
     "metadata": {},
     "output_type": "execute_result"
    }
   ],
   "source": [
    "z_score_st = np.abs(zscore(df['SkinThickness']))\n",
    "z_score_st"
   ]
  },
  {
   "cell_type": "code",
   "execution_count": 52,
   "id": "75e1d57e",
   "metadata": {},
   "outputs": [
    {
     "data": {
      "text/plain": [
       "579    4.921866\n",
       "Name: SkinThickness, dtype: float64"
      ]
     },
     "execution_count": 52,
     "metadata": {},
     "output_type": "execute_result"
    }
   ],
   "source": [
    "outliers_st= z_score_st.loc[z_score_st > 3]\n",
    "outliers_st"
   ]
  },
  {
   "cell_type": "code",
   "execution_count": 53,
   "id": "c83ea0c7",
   "metadata": {},
   "outputs": [
    {
     "data": {
      "text/plain": [
       "Int64Index([579], dtype='int64')"
      ]
     },
     "execution_count": 53,
     "metadata": {},
     "output_type": "execute_result"
    }
   ],
   "source": [
    "outliers_st.index"
   ]
  },
  {
   "cell_type": "code",
   "execution_count": 54,
   "id": "16ce4d62",
   "metadata": {},
   "outputs": [
    {
     "data": {
      "text/plain": [
       "1"
      ]
     },
     "execution_count": 54,
     "metadata": {},
     "output_type": "execute_result"
    }
   ],
   "source": [
    "outliers_st.value_counts().sum()"
   ]
  },
  {
   "cell_type": "code",
   "execution_count": 55,
   "id": "c1912156",
   "metadata": {},
   "outputs": [
    {
     "name": "stdout",
     "output_type": "stream",
     "text": [
      "q1 : 0.0\n",
      "q2 : 23.0\n",
      "q3 : 32.0\n",
      "iqr : 32.0\n",
      "upper_tail : 80.0\n",
      "lower_tail : -48.0\n"
     ]
    }
   ],
   "source": [
    "q1 = df['SkinThickness'].quantile(0.25)\n",
    "q2 = df['SkinThickness'].quantile(0.50)\n",
    "q3 = df['SkinThickness'].quantile(0.75)\n",
    "\n",
    "iqr= q3-q1\n",
    "\n",
    "upper_tail= q3 + 1.5*iqr\n",
    "lower_tail= q1 - 1.5*iqr\n",
    "\n",
    "print('q1 :', q1)\n",
    "print('q2 :', q2)\n",
    "print('q3 :', q3)\n",
    "print('iqr :', iqr)\n",
    "print('upper_tail :', upper_tail)\n",
    "print('lower_tail :', lower_tail)"
   ]
  },
  {
   "cell_type": "code",
   "execution_count": 56,
   "id": "ef6e9952",
   "metadata": {},
   "outputs": [
    {
     "data": {
      "text/plain": [
       "579    99\n",
       "Name: SkinThickness, dtype: int64"
      ]
     },
     "execution_count": 56,
     "metadata": {},
     "output_type": "execute_result"
    }
   ],
   "source": [
    "outlier_iqr = df.loc[(df['SkinThickness'] < lower_tail) |\n",
    "                    (df['SkinThickness'] > upper_tail)]\n",
    "\n",
    "outlier_iqr['SkinThickness']"
   ]
  },
  {
   "cell_type": "raw",
   "id": "a29c1b04",
   "metadata": {},
   "source": [
    "Observation:-\n",
    "    z_score outlier = index 579 & value 99.0   (up tail side)\n",
    "        iqr outlier=  index 579 & value 99.0   (up tail side)\n",
    "    Z_score & IQR method both are give same result for to detect the outliers so we can use anyone for Handling Outlier i.e. Imputation/Transformation."
   ]
  },
  {
   "cell_type": "code",
   "execution_count": 57,
   "id": "853bbcd3",
   "metadata": {},
   "outputs": [
    {
     "data": {
      "text/plain": [
       "0      35\n",
       "1      29\n",
       "2       0\n",
       "3      23\n",
       "4      35\n",
       "       ..\n",
       "763    48\n",
       "764    27\n",
       "765    23\n",
       "766     0\n",
       "767    31\n",
       "Name: SkinThickness, Length: 767, dtype: int64"
      ]
     },
     "execution_count": 57,
     "metadata": {},
     "output_type": "execute_result"
    }
   ],
   "source": [
    "without_out= df.loc[(df['SkinThickness'] > lower_tail) &\n",
    "                    (df['SkinThickness'] < upper_tail)]\n",
    "without_out['SkinThickness']"
   ]
  },
  {
   "cell_type": "code",
   "execution_count": 58,
   "id": "9eae482b",
   "metadata": {},
   "outputs": [
    {
     "data": {
      "text/plain": [
       "20.434159061277704"
      ]
     },
     "execution_count": 58,
     "metadata": {},
     "output_type": "execute_result"
    }
   ],
   "source": [
    "mean = without_out['SkinThickness'].mean()\n",
    "mean"
   ]
  },
  {
   "cell_type": "code",
   "execution_count": 59,
   "id": "1578b2e2",
   "metadata": {},
   "outputs": [
    {
     "name": "stderr",
     "output_type": "stream",
     "text": [
      "C:\\Users\\sai\\anaconda3\\lib\\site-packages\\pandas\\core\\indexing.py:1732: SettingWithCopyWarning: \n",
      "A value is trying to be set on a copy of a slice from a DataFrame\n",
      "\n",
      "See the caveats in the documentation: https://pandas.pydata.org/pandas-docs/stable/user_guide/indexing.html#returning-a-view-versus-a-copy\n",
      "  self._setitem_single_block(indexer, value, name)\n"
     ]
    }
   ],
   "source": [
    " df['SkinThickness'].loc[(df['SkinThickness'] < lower_tail) |\n",
    "                    (df['SkinThickness'] > upper_tail)]= mean"
   ]
  },
  {
   "cell_type": "code",
   "execution_count": 60,
   "id": "cae058a2",
   "metadata": {},
   "outputs": [
    {
     "data": {
      "text/plain": [
       "0"
      ]
     },
     "execution_count": 60,
     "metadata": {},
     "output_type": "execute_result"
    }
   ],
   "source": [
    " df['SkinThickness'].loc[(df['SkinThickness'] < lower_tail) |\n",
    "                    (df['SkinThickness'] > upper_tail)].value_counts().sum()"
   ]
  },
  {
   "cell_type": "code",
   "execution_count": 61,
   "id": "a5bf8ec4",
   "metadata": {},
   "outputs": [
    {
     "data": {
      "text/plain": [
       "0    500\n",
       "1    268\n",
       "Name: Outcome, dtype: int64"
      ]
     },
     "execution_count": 61,
     "metadata": {},
     "output_type": "execute_result"
    }
   ],
   "source": [
    "df['Outcome'].value_counts()"
   ]
  },
  {
   "cell_type": "markdown",
   "id": "3d33a085",
   "metadata": {},
   "source": [
    "# Insulin                       "
   ]
  },
  {
   "cell_type": "code",
   "execution_count": 62,
   "id": "32ee2359",
   "metadata": {},
   "outputs": [
    {
     "data": {
      "text/plain": [
       "count    768.000000\n",
       "mean      79.799479\n",
       "std      115.244002\n",
       "min        0.000000\n",
       "25%        0.000000\n",
       "50%       30.500000\n",
       "75%      127.250000\n",
       "max      846.000000\n",
       "Name: Insulin, dtype: float64"
      ]
     },
     "execution_count": 62,
     "metadata": {},
     "output_type": "execute_result"
    }
   ],
   "source": [
    "df['Insulin'].describe()"
   ]
  },
  {
   "cell_type": "code",
   "execution_count": 63,
   "id": "7b7494a5",
   "metadata": {},
   "outputs": [
    {
     "data": {
      "text/plain": [
       "<AxesSubplot:xlabel='Insulin', ylabel='Density'>"
      ]
     },
     "execution_count": 63,
     "metadata": {},
     "output_type": "execute_result"
    },
    {
     "data": {
      "image/png": "[encoded data removed]",
      "text/plain": [
       "<Figure size 432x288 with 1 Axes>"
      ]
     },
     "metadata": {
      "needs_background": "light"
     },
     "output_type": "display_data"
    }
   ],
   "source": [
    "sns.kdeplot(df['Insulin'])"
   ]
  },
  {
   "cell_type": "code",
   "execution_count": 64,
   "id": "6ae3de37",
   "metadata": {},
   "outputs": [],
   "source": [
    "# pd.skew(df['Insulin'])"
   ]
  },
  {
   "cell_type": "code",
   "execution_count": 65,
   "id": "458c2027",
   "metadata": {},
   "outputs": [
    {
     "name": "stderr",
     "output_type": "stream",
     "text": [
      "C:\\Users\\sai\\anaconda3\\lib\\site-packages\\seaborn\\_decorators.py:36: FutureWarning: Pass the following variable as a keyword arg: x. From version 0.12, the only valid positional argument will be `data`, and passing other arguments without an explicit keyword will result in an error or misinterpretation.\n",
      "  warnings.warn(\n"
     ]
    },
    {
     "data": {
      "text/plain": [
       "<AxesSubplot:xlabel='Insulin'>"
      ]
     },
     "execution_count": 65,
     "metadata": {},
     "output_type": "execute_result"
    },
    {
     "data": {
      "image/png": "[encoded data removed]",
      "text/plain": [
       "<Figure size 1440x216 with 1 Axes>"
      ]
     },
     "metadata": {
      "needs_background": "light"
     },
     "output_type": "display_data"
    }
   ],
   "source": [
    "plt.figure(figsize= (20,3))\n",
    "sns.boxplot(df['Insulin'])"
   ]
  },
  {
   "cell_type": "code",
   "execution_count": 66,
   "id": "dd445bab",
   "metadata": {},
   "outputs": [
    {
     "data": {
      "text/plain": [
       "0      0.692891\n",
       "1      0.692891\n",
       "2      0.692891\n",
       "3      0.123302\n",
       "4      0.765836\n",
       "         ...   \n",
       "763    0.870031\n",
       "764    0.692891\n",
       "765    0.279594\n",
       "766    0.692891\n",
       "767    0.692891\n",
       "Name: Insulin, Length: 768, dtype: float64"
      ]
     },
     "execution_count": 66,
     "metadata": {},
     "output_type": "execute_result"
    }
   ],
   "source": [
    "# Outliers check by z_score method\n",
    "\n",
    "zscore_ins= np.abs(zscore(df['Insulin']))\n",
    "zscore_ins"
   ]
  },
  {
   "cell_type": "code",
   "execution_count": 67,
   "id": "ea9383e0",
   "metadata": {},
   "outputs": [
    {
     "data": {
      "text/plain": [
       "8      4.021922\n",
       "13     6.652839\n",
       "111    3.605143\n",
       "153    3.518314\n",
       "186    3.605143\n",
       "220    3.457534\n",
       "228    5.767184\n",
       "247    5.211479\n",
       "286    4.039288\n",
       "370    3.344656\n",
       "409    4.334506\n",
       "415    3.422802\n",
       "486    3.474899\n",
       "584    4.516847\n",
       "645    3.127584\n",
       "655    3.995873\n",
       "695    3.474899\n",
       "753    3.735386\n",
       "Name: Insulin, dtype: float64"
      ]
     },
     "execution_count": 67,
     "metadata": {},
     "output_type": "execute_result"
    }
   ],
   "source": [
    "outliers_zs = zscore_ins.loc[(zscore_ins > 3)]\n",
    "outliers_zs"
   ]
  },
  {
   "cell_type": "code",
   "execution_count": 68,
   "id": "b3413fb3",
   "metadata": {},
   "outputs": [
    {
     "data": {
      "text/plain": [
       "Int64Index([  8,  13, 111, 153, 186, 220, 228, 247, 286, 370, 409, 415, 486,\n",
       "            584, 645, 655, 695, 753],\n",
       "           dtype='int64')"
      ]
     },
     "execution_count": 68,
     "metadata": {},
     "output_type": "execute_result"
    }
   ],
   "source": [
    "outliers_zs.index\n"
   ]
  },
  {
   "cell_type": "code",
   "execution_count": 69,
   "id": "70ad9a88",
   "metadata": {},
   "outputs": [
    {
     "data": {
      "text/plain": [
       "18"
      ]
     },
     "execution_count": 69,
     "metadata": {},
     "output_type": "execute_result"
    }
   ],
   "source": [
    "outliers_zs.value_counts().sum()"
   ]
  },
  {
   "cell_type": "code",
   "execution_count": 70,
   "id": "38e3c21d",
   "metadata": {},
   "outputs": [],
   "source": [
    "# Outliers check by IQR"
   ]
  },
  {
   "cell_type": "code",
   "execution_count": 71,
   "id": "2636b9ca",
   "metadata": {},
   "outputs": [
    {
     "name": "stdout",
     "output_type": "stream",
     "text": [
      "q1 : 0.0\n",
      "q2 : 30.5\n",
      "q3 : 127.25\n",
      "iqr : 127.25\n",
      "upper_tail : 318.125\n",
      "lower_tail : -190.875\n"
     ]
    }
   ],
   "source": [
    "q1 = df['Insulin'].quantile(0.25)\n",
    "q2 = df['Insulin'].quantile(0.50)\n",
    "q3 = df['Insulin'].quantile(0.75)\n",
    "\n",
    "iqr = q3 - q1\n",
    "\n",
    "upper_tail= q3 + 1.5*iqr\n",
    "lower_tail= q1 - 1.5*iqr\n",
    "\n",
    "print('q1 :', q1)\n",
    "print('q2 :', q2)\n",
    "print('q3 :', q3)\n",
    "print('iqr :', iqr)\n",
    "print('upper_tail :', upper_tail)\n",
    "print('lower_tail :', lower_tail)"
   ]
  },
  {
   "cell_type": "code",
   "execution_count": 72,
   "id": "ae3f09be",
   "metadata": {},
   "outputs": [
    {
     "data": {
      "text/plain": [
       "8      543\n",
       "13     846\n",
       "54     342\n",
       "111    495\n",
       "139    325\n",
       "153    485\n",
       "186    495\n",
       "220    478\n",
       "228    744\n",
       "231    370\n",
       "247    680\n",
       "248    402\n",
       "258    375\n",
       "286    545\n",
       "296    360\n",
       "360    325\n",
       "370    465\n",
       "375    325\n",
       "392    415\n",
       "409    579\n",
       "415    474\n",
       "480    328\n",
       "486    480\n",
       "519    326\n",
       "574    330\n",
       "584    600\n",
       "612    321\n",
       "645    440\n",
       "655    540\n",
       "695    480\n",
       "707    335\n",
       "710    387\n",
       "715    392\n",
       "753    510\n",
       "Name: Insulin, dtype: int64"
      ]
     },
     "execution_count": 72,
     "metadata": {},
     "output_type": "execute_result"
    }
   ],
   "source": [
    "outlier_iqr = df.loc[(df['Insulin'] < lower_tail) |\n",
    "                    (df['Insulin'] > upper_tail)]\n",
    "\n",
    "outlier_iqr['Insulin']"
   ]
  },
  {
   "cell_type": "code",
   "execution_count": 73,
   "id": "0d5ab421",
   "metadata": {},
   "outputs": [
    {
     "data": {
      "text/plain": [
       "Int64Index([  8,  13,  54, 111, 139, 153, 186, 220, 228, 231, 247, 248, 258,\n",
       "            286, 296, 360, 370, 375, 392, 409, 415, 480, 486, 519, 574, 584,\n",
       "            612, 645, 655, 695, 707, 710, 715, 753],\n",
       "           dtype='int64')"
      ]
     },
     "execution_count": 73,
     "metadata": {},
     "output_type": "execute_result"
    }
   ],
   "source": [
    "outlier_iqr['Insulin'].index"
   ]
  },
  {
   "cell_type": "code",
   "execution_count": 74,
   "id": "cb1ca8ba",
   "metadata": {},
   "outputs": [
    {
     "data": {
      "text/plain": [
       "34"
      ]
     },
     "execution_count": 74,
     "metadata": {},
     "output_type": "execute_result"
    }
   ],
   "source": [
    "outlier_iqr['Insulin'].value_counts().sum()"
   ]
  },
  {
   "cell_type": "raw",
   "id": "3c39a52c",
   "metadata": {},
   "source": [
    "OBSERVATIONS:-\n",
    "       1. in z_score method 18 outliers found (zscore value greater than 3).\n",
    "       2. in IQR method 35 utliers found.\n",
    "           both the method all outliers are uppertail side."
   ]
  },
  {
   "cell_type": "code",
   "execution_count": 75,
   "id": "7b2462ca",
   "metadata": {},
   "outputs": [
    {
     "data": {
      "text/plain": [
       "0        0\n",
       "1        0\n",
       "2        0\n",
       "3       94\n",
       "4      168\n",
       "      ... \n",
       "763    180\n",
       "764      0\n",
       "765    112\n",
       "766      0\n",
       "767      0\n",
       "Name: Insulin, Length: 734, dtype: int64"
      ]
     },
     "execution_count": 75,
     "metadata": {},
     "output_type": "execute_result"
    }
   ],
   "source": [
    "#Handling Outliers\n",
    "\n",
    "without_outliers = df.loc[(df['Insulin']> lower_tail) &\n",
    "                         (df['Insulin'] < upper_tail)]\n",
    "\n",
    "without_outliers['Insulin']"
   ]
  },
  {
   "cell_type": "code",
   "execution_count": 76,
   "id": "c8b19cf1",
   "metadata": {},
   "outputs": [
    {
     "data": {
      "text/plain": [
       "734"
      ]
     },
     "execution_count": 76,
     "metadata": {},
     "output_type": "execute_result"
    }
   ],
   "source": [
    "without_outliers['Insulin'].value_counts().sum()"
   ]
  },
  {
   "cell_type": "code",
   "execution_count": 77,
   "id": "9e39eab6",
   "metadata": {},
   "outputs": [
    {
     "data": {
      "text/plain": [
       "62.328337874659404"
      ]
     },
     "execution_count": 77,
     "metadata": {},
     "output_type": "execute_result"
    }
   ],
   "source": [
    "mean = without_outliers['Insulin'].mean()\n",
    "mean"
   ]
  },
  {
   "cell_type": "code",
   "execution_count": 78,
   "id": "b4c59578",
   "metadata": {},
   "outputs": [
    {
     "data": {
      "text/plain": [
       "0.0"
      ]
     },
     "execution_count": 78,
     "metadata": {},
     "output_type": "execute_result"
    }
   ],
   "source": [
    "median = without_outliers['Insulin'].median()\n",
    "median"
   ]
  },
  {
   "cell_type": "code",
   "execution_count": 79,
   "id": "44cea79d",
   "metadata": {},
   "outputs": [
    {
     "data": {
      "text/plain": [
       "-190.875"
      ]
     },
     "execution_count": 79,
     "metadata": {},
     "output_type": "execute_result"
    }
   ],
   "source": [
    "lower_tail"
   ]
  },
  {
   "cell_type": "code",
   "execution_count": 80,
   "id": "33c594a9",
   "metadata": {},
   "outputs": [
    {
     "data": {
      "text/plain": [
       "318.125"
      ]
     },
     "execution_count": 80,
     "metadata": {},
     "output_type": "execute_result"
    }
   ],
   "source": [
    "upper_tail"
   ]
  },
  {
   "cell_type": "code",
   "execution_count": 81,
   "id": "a0615a66",
   "metadata": {},
   "outputs": [
    {
     "name": "stderr",
     "output_type": "stream",
     "text": [
      "C:\\Users\\sai\\anaconda3\\lib\\site-packages\\pandas\\core\\indexing.py:1732: SettingWithCopyWarning: \n",
      "A value is trying to be set on a copy of a slice from a DataFrame\n",
      "\n",
      "See the caveats in the documentation: https://pandas.pydata.org/pandas-docs/stable/user_guide/indexing.html#returning-a-view-versus-a-copy\n",
      "  self._setitem_single_block(indexer, value, name)\n"
     ]
    }
   ],
   "source": [
    "# we are Impute ''MEAN'' for Outliers\n",
    "\n",
    "df['Insulin'].loc[(df['Insulin'] < lower_tail) |\n",
    "                    (df['Insulin'] > upper_tail)]= mean"
   ]
  },
  {
   "cell_type": "code",
   "execution_count": 82,
   "id": "dd742c8b",
   "metadata": {},
   "outputs": [
    {
     "data": {
      "text/plain": [
       "0"
      ]
     },
     "execution_count": 82,
     "metadata": {},
     "output_type": "execute_result"
    }
   ],
   "source": [
    "df['Insulin'].loc[(df['Insulin'] < lower_tail) |\n",
    "                    (df['Insulin'] > upper_tail)].value_counts().sum()"
   ]
  },
  {
   "cell_type": "code",
   "execution_count": 83,
   "id": "261fc5fa",
   "metadata": {},
   "outputs": [
    {
     "data": {
      "text/plain": [
       "0    500\n",
       "1    268\n",
       "Name: Outcome, dtype: int64"
      ]
     },
     "execution_count": 83,
     "metadata": {},
     "output_type": "execute_result"
    }
   ],
   "source": [
    "df['Outcome'].value_counts()"
   ]
  },
  {
   "cell_type": "markdown",
   "id": "39e1982c",
   "metadata": {},
   "source": [
    "# BMI                         "
   ]
  },
  {
   "cell_type": "code",
   "execution_count": 84,
   "id": "b2282ad1",
   "metadata": {},
   "outputs": [
    {
     "data": {
      "text/plain": [
       "count    768.000000\n",
       "mean      31.992578\n",
       "std        7.884160\n",
       "min        0.000000\n",
       "25%       27.300000\n",
       "50%       32.000000\n",
       "75%       36.600000\n",
       "max       67.100000\n",
       "Name: BMI, dtype: float64"
      ]
     },
     "execution_count": 84,
     "metadata": {},
     "output_type": "execute_result"
    }
   ],
   "source": [
    "df['BMI'].describe()"
   ]
  },
  {
   "cell_type": "code",
   "execution_count": 85,
   "id": "041433d7",
   "metadata": {},
   "outputs": [
    {
     "data": {
      "text/plain": [
       "<AxesSubplot:xlabel='BMI', ylabel='Density'>"
      ]
     },
     "execution_count": 85,
     "metadata": {},
     "output_type": "execute_result"
    },
    {
     "data": {
      "image/png": "[encoded data removed]",
      "text/plain": [
       "<Figure size 432x288 with 1 Axes>"
      ]
     },
     "metadata": {
      "needs_background": "light"
     },
     "output_type": "display_data"
    }
   ],
   "source": [
    "sns.kdeplot(df['BMI'])"
   ]
  },
  {
   "cell_type": "code",
   "execution_count": 86,
   "id": "96ba78fc",
   "metadata": {},
   "outputs": [
    {
     "name": "stderr",
     "output_type": "stream",
     "text": [
      "C:\\Users\\sai\\anaconda3\\lib\\site-packages\\seaborn\\_decorators.py:36: FutureWarning: Pass the following variable as a keyword arg: x. From version 0.12, the only valid positional argument will be `data`, and passing other arguments without an explicit keyword will result in an error or misinterpretation.\n",
      "  warnings.warn(\n"
     ]
    },
    {
     "data": {
      "text/plain": [
       "<AxesSubplot:xlabel='BMI'>"
      ]
     },
     "execution_count": 86,
     "metadata": {},
     "output_type": "execute_result"
    },
    {
     "data": {
      "image/png": "[encoded data removed]",
      "text/plain": [
       "<Figure size 1440x288 with 1 Axes>"
      ]
     },
     "metadata": {
      "needs_background": "light"
     },
     "output_type": "display_data"
    }
   ],
   "source": [
    "plt.figure(figsize=(20,4))\n",
    "sns.boxplot(df['BMI'])"
   ]
  },
  {
   "cell_type": "code",
   "execution_count": 87,
   "id": "7015380f",
   "metadata": {},
   "outputs": [
    {
     "data": {
      "text/plain": [
       "0      0.204013\n",
       "1      0.684422\n",
       "2      1.103255\n",
       "3      0.494043\n",
       "4      1.409746\n",
       "         ...   \n",
       "763    0.115169\n",
       "764    0.610154\n",
       "765    0.735190\n",
       "766    0.240205\n",
       "767    0.202129\n",
       "Name: BMI, Length: 768, dtype: float64"
      ]
     },
     "execution_count": 87,
     "metadata": {},
     "output_type": "execute_result"
    }
   ],
   "source": [
    "# Detection by z_score\n",
    "\n",
    "z_score_BMI = np.abs(zscore(df['BMI']))\n",
    "z_score_BMI"
   ]
  },
  {
   "cell_type": "code",
   "execution_count": 88,
   "id": "062e8741",
   "metadata": {},
   "outputs": [
    {
     "data": {
      "text/plain": [
       "9      4.060474\n",
       "49     4.060474\n",
       "60     4.060474\n",
       "81     4.060474\n",
       "84     2.133185\n",
       "99     2.247413\n",
       "120    2.691630\n",
       "125    2.920085\n",
       "145    4.060474\n",
       "154    2.018958\n",
       "155    2.285488\n",
       "177    4.455807\n",
       "193    2.577403\n",
       "247    2.577403\n",
       "303    2.653554\n",
       "335    2.018958\n",
       "371    4.060474\n",
       "378    2.069726\n",
       "426    4.060474\n",
       "445    3.478529\n",
       "494    4.060474\n",
       "522    4.060474\n",
       "673    3.211999\n",
       "681    2.234721\n",
       "684    4.060474\n",
       "706    4.060474\n",
       "746    2.196645\n",
       "Name: BMI, dtype: float64"
      ]
     },
     "execution_count": 88,
     "metadata": {},
     "output_type": "execute_result"
    }
   ],
   "source": [
    "outliers_zs= z_score_BMI.loc[(z_score_BMI > 2)]\n",
    "outliers_zs"
   ]
  },
  {
   "cell_type": "code",
   "execution_count": 89,
   "id": "a990e40b",
   "metadata": {},
   "outputs": [
    {
     "data": {
      "text/plain": [
       "Int64Index([  9,  49,  60,  81,  84,  99, 120, 125, 145, 154, 155, 177, 193,\n",
       "            247, 303, 335, 371, 378, 426, 445, 494, 522, 673, 681, 684, 706,\n",
       "            746],\n",
       "           dtype='int64')"
      ]
     },
     "execution_count": 89,
     "metadata": {},
     "output_type": "execute_result"
    }
   ],
   "source": [
    "outliers_zs.index"
   ]
  },
  {
   "cell_type": "code",
   "execution_count": 90,
   "id": "fe29b4d4",
   "metadata": {},
   "outputs": [
    {
     "data": {
      "text/plain": [
       "27"
      ]
     },
     "execution_count": 90,
     "metadata": {},
     "output_type": "execute_result"
    }
   ],
   "source": [
    "outliers_zs.value_counts().sum()"
   ]
  },
  {
   "cell_type": "code",
   "execution_count": 91,
   "id": "879445a8",
   "metadata": {},
   "outputs": [
    {
     "name": "stdout",
     "output_type": "stream",
     "text": [
      "q1 : 27.3\n",
      "q2 : 32.0\n",
      "q3 : 36.6\n",
      "iqr : 9.3\n",
      "upper_tail : 50.550000000000004\n",
      "lower_tail : 13.35\n"
     ]
    }
   ],
   "source": [
    "# by IQR method,\n",
    "q1= df['BMI'].quantile(0.25)\n",
    "q2= df['BMI'].quantile(0.50)\n",
    "q3= df['BMI'].quantile(0.75)\n",
    "\n",
    "iqr = q3 - q1\n",
    "\n",
    "upper_tail= q3 + 1.5*iqr\n",
    "lower_tail= q1 - 1.5*iqr\n",
    "\n",
    "print('q1 :', q1)\n",
    "print('q2 :', q2)\n",
    "print('q3 :', q3)\n",
    "print('iqr :', iqr)\n",
    "print('upper_tail :', upper_tail)\n",
    "print('lower_tail :', lower_tail)"
   ]
  },
  {
   "cell_type": "code",
   "execution_count": 92,
   "id": "6802da3d",
   "metadata": {},
   "outputs": [
    {
     "data": {
      "text/plain": [
       "9       0.0\n",
       "49      0.0\n",
       "60      0.0\n",
       "81      0.0\n",
       "120    53.2\n",
       "125    55.0\n",
       "145     0.0\n",
       "177    67.1\n",
       "193    52.3\n",
       "247    52.3\n",
       "303    52.9\n",
       "371     0.0\n",
       "426     0.0\n",
       "445    59.4\n",
       "494     0.0\n",
       "522     0.0\n",
       "673    57.3\n",
       "684     0.0\n",
       "706     0.0\n",
       "Name: BMI, dtype: float64"
      ]
     },
     "execution_count": 92,
     "metadata": {},
     "output_type": "execute_result"
    }
   ],
   "source": [
    "outliers_iqr = df.loc[(df['BMI'] < lower_tail) |\n",
    "                     (df['BMI'] > upper_tail)]\n",
    "\n",
    "outliers_iqr['BMI']"
   ]
  },
  {
   "cell_type": "code",
   "execution_count": 93,
   "id": "672510c6",
   "metadata": {},
   "outputs": [
    {
     "data": {
      "text/plain": [
       "Int64Index([  9,  49,  60,  81, 120, 125, 145, 177, 193, 247, 303, 371, 426,\n",
       "            445, 494, 522, 673, 684, 706],\n",
       "           dtype='int64')"
      ]
     },
     "execution_count": 93,
     "metadata": {},
     "output_type": "execute_result"
    }
   ],
   "source": [
    "outliers_iqr['BMI'].index"
   ]
  },
  {
   "cell_type": "code",
   "execution_count": 94,
   "id": "bb6d27c8",
   "metadata": {},
   "outputs": [
    {
     "data": {
      "text/plain": [
       "19"
      ]
     },
     "execution_count": 94,
     "metadata": {},
     "output_type": "execute_result"
    }
   ],
   "source": [
    "outliers_iqr['BMI'].value_counts().sum()"
   ]
  },
  {
   "cell_type": "raw",
   "id": "9640ebd5",
   "metadata": {},
   "source": [
    "OBSERVATION:-\n",
    "    1. zscore method numbers of outliers are 54\n",
    "    2. iqr method number of outliers are 56"
   ]
  },
  {
   "cell_type": "code",
   "execution_count": 95,
   "id": "9a79036f",
   "metadata": {},
   "outputs": [
    {
     "data": {
      "text/plain": [
       "0      33.6\n",
       "1      26.6\n",
       "2      23.3\n",
       "3      28.1\n",
       "4      43.1\n",
       "       ... \n",
       "763    32.9\n",
       "764    36.8\n",
       "765    26.2\n",
       "766    30.1\n",
       "767    30.4\n",
       "Name: BMI, Length: 749, dtype: float64"
      ]
     },
     "execution_count": 95,
     "metadata": {},
     "output_type": "execute_result"
    }
   ],
   "source": [
    "# Imputation by use IQR,\n",
    "\n",
    "without_out = df.loc[(df['BMI'] > lower_tail) &\n",
    "                    (df['BMI'] < upper_tail)]\n",
    "without_out['BMI']"
   ]
  },
  {
   "cell_type": "code",
   "execution_count": 96,
   "id": "618dc4ca",
   "metadata": {},
   "outputs": [
    {
     "data": {
      "text/plain": [
       "32.204005340453925"
      ]
     },
     "execution_count": 96,
     "metadata": {},
     "output_type": "execute_result"
    }
   ],
   "source": [
    "mean = without_out['BMI'].mean()\n",
    "mean"
   ]
  },
  {
   "cell_type": "code",
   "execution_count": 97,
   "id": "4598c641",
   "metadata": {},
   "outputs": [
    {
     "data": {
      "text/plain": [
       "32.0"
      ]
     },
     "execution_count": 97,
     "metadata": {},
     "output_type": "execute_result"
    }
   ],
   "source": [
    "median = without_out['BMI'].median()\n",
    "median"
   ]
  },
  {
   "cell_type": "code",
   "execution_count": 98,
   "id": "a55fcd9b",
   "metadata": {},
   "outputs": [
    {
     "data": {
      "text/plain": [
       "18.2"
      ]
     },
     "execution_count": 98,
     "metadata": {},
     "output_type": "execute_result"
    }
   ],
   "source": [
    "minn = without_out['BMI'].min()\n",
    "minn"
   ]
  },
  {
   "cell_type": "code",
   "execution_count": 99,
   "id": "bc1d464f",
   "metadata": {},
   "outputs": [
    {
     "data": {
      "text/plain": [
       "50.0"
      ]
     },
     "execution_count": 99,
     "metadata": {},
     "output_type": "execute_result"
    }
   ],
   "source": [
    "maxx = without_out['BMI'].max()\n",
    "maxx"
   ]
  },
  {
   "cell_type": "code",
   "execution_count": 100,
   "id": "ebb1fa86",
   "metadata": {},
   "outputs": [
    {
     "data": {
      "text/plain": [
       "13.35"
      ]
     },
     "execution_count": 100,
     "metadata": {},
     "output_type": "execute_result"
    }
   ],
   "source": [
    "lower_tail"
   ]
  },
  {
   "cell_type": "code",
   "execution_count": 101,
   "id": "8cc84075",
   "metadata": {},
   "outputs": [
    {
     "data": {
      "text/plain": [
       "50.550000000000004"
      ]
     },
     "execution_count": 101,
     "metadata": {},
     "output_type": "execute_result"
    }
   ],
   "source": [
    "upper_tail"
   ]
  },
  {
   "cell_type": "raw",
   "id": "cfaea206",
   "metadata": {},
   "source": [
    "If your BMI is less than 18.5, it falls within the underweight range. If your BMI is 18.5 to 24.9, it falls within the normal or Healthy Weight range. If your BMI is 25.0 to 29.9, it falls within the overweight range. If your BMI is 30.0 or higher, it falls within the obese range."
   ]
  },
  {
   "cell_type": "code",
   "execution_count": 102,
   "id": "9040994f",
   "metadata": {},
   "outputs": [],
   "source": [
    "# we use mean (32.99) imputer for BMI"
   ]
  },
  {
   "cell_type": "code",
   "execution_count": 103,
   "id": "77481f09",
   "metadata": {},
   "outputs": [
    {
     "name": "stderr",
     "output_type": "stream",
     "text": [
      "C:\\Users\\sai\\anaconda3\\lib\\site-packages\\pandas\\core\\indexing.py:1732: SettingWithCopyWarning: \n",
      "A value is trying to be set on a copy of a slice from a DataFrame\n",
      "\n",
      "See the caveats in the documentation: https://pandas.pydata.org/pandas-docs/stable/user_guide/indexing.html#returning-a-view-versus-a-copy\n",
      "  self._setitem_single_block(indexer, value, name)\n"
     ]
    }
   ],
   "source": [
    "df['BMI'].loc[(df['BMI'] < lower_tail) |\n",
    "                     (df['BMI'] > upper_tail)]= mean"
   ]
  },
  {
   "cell_type": "code",
   "execution_count": 104,
   "id": "4b66511a",
   "metadata": {},
   "outputs": [
    {
     "data": {
      "text/plain": [
       "0"
      ]
     },
     "execution_count": 104,
     "metadata": {},
     "output_type": "execute_result"
    }
   ],
   "source": [
    "df['BMI'].loc[(df['BMI'] < lower_tail) |\n",
    "                     (df['BMI'] > upper_tail)].value_counts().sum()"
   ]
  },
  {
   "cell_type": "code",
   "execution_count": 105,
   "id": "622dc6fa",
   "metadata": {},
   "outputs": [
    {
     "data": {
      "text/plain": [
       "0    500\n",
       "1    268\n",
       "Name: Outcome, dtype: int64"
      ]
     },
     "execution_count": 105,
     "metadata": {},
     "output_type": "execute_result"
    }
   ],
   "source": [
    "df['Outcome'].value_counts()"
   ]
  },
  {
   "cell_type": "markdown",
   "id": "e1fd6f38",
   "metadata": {},
   "source": [
    "# DiabetesPedigreeFunction    "
   ]
  },
  {
   "cell_type": "code",
   "execution_count": 106,
   "id": "838486d2",
   "metadata": {},
   "outputs": [
    {
     "data": {
      "text/plain": [
       "count    768.000000\n",
       "mean       0.471876\n",
       "std        0.331329\n",
       "min        0.078000\n",
       "25%        0.243750\n",
       "50%        0.372500\n",
       "75%        0.626250\n",
       "max        2.420000\n",
       "Name: DiabetesPedigreeFunction, dtype: float64"
      ]
     },
     "execution_count": 106,
     "metadata": {},
     "output_type": "execute_result"
    }
   ],
   "source": [
    "df['DiabetesPedigreeFunction'].describe()"
   ]
  },
  {
   "cell_type": "code",
   "execution_count": 107,
   "id": "d54aec62",
   "metadata": {},
   "outputs": [
    {
     "data": {
      "text/plain": [
       "<AxesSubplot:xlabel='DiabetesPedigreeFunction', ylabel='Density'>"
      ]
     },
     "execution_count": 107,
     "metadata": {},
     "output_type": "execute_result"
    },
    {
     "data": {
      "image/png": "[encoded data removed]",
      "text/plain": [
       "<Figure size 432x288 with 1 Axes>"
      ]
     },
     "metadata": {
      "needs_background": "light"
     },
     "output_type": "display_data"
    }
   ],
   "source": [
    "sns.kdeplot(df['DiabetesPedigreeFunction'])"
   ]
  },
  {
   "cell_type": "code",
   "execution_count": 108,
   "id": "24daa16f",
   "metadata": {},
   "outputs": [
    {
     "name": "stderr",
     "output_type": "stream",
     "text": [
      "C:\\Users\\sai\\anaconda3\\lib\\site-packages\\seaborn\\_decorators.py:36: FutureWarning: Pass the following variable as a keyword arg: x. From version 0.12, the only valid positional argument will be `data`, and passing other arguments without an explicit keyword will result in an error or misinterpretation.\n",
      "  warnings.warn(\n"
     ]
    },
    {
     "data": {
      "text/plain": [
       "<AxesSubplot:xlabel='DiabetesPedigreeFunction'>"
      ]
     },
     "execution_count": 108,
     "metadata": {},
     "output_type": "execute_result"
    },
    {
     "data": {
      "image/png": "[encoded data removed]",
      "text/plain": [
       "<Figure size 1800x288 with 1 Axes>"
      ]
     },
     "metadata": {
      "needs_background": "light"
     },
     "output_type": "display_data"
    }
   ],
   "source": [
    "plt.figure(figsize=(25,4))\n",
    "sns.boxplot(df['DiabetesPedigreeFunction'])"
   ]
  },
  {
   "cell_type": "code",
   "execution_count": 109,
   "id": "16a71530",
   "metadata": {},
   "outputs": [
    {
     "data": {
      "text/plain": [
       "0      0.468492\n",
       "1      0.365061\n",
       "2      0.604397\n",
       "3      0.920763\n",
       "4      5.484909\n",
       "         ...   \n",
       "763    0.908682\n",
       "764    0.398282\n",
       "765    0.685193\n",
       "766    0.371101\n",
       "767    0.473785\n",
       "Name: DiabetesPedigreeFunction, Length: 768, dtype: float64"
      ]
     },
     "execution_count": 109,
     "metadata": {},
     "output_type": "execute_result"
    }
   ],
   "source": [
    "z_score= np.abs(zscore(df['DiabetesPedigreeFunction']))\n",
    "z_score"
   ]
  },
  {
   "cell_type": "code",
   "execution_count": 110,
   "id": "9f588f8a",
   "metadata": {},
   "outputs": [
    {
     "data": {
      "text/plain": [
       "4      5.484909\n",
       "12     2.926869\n",
       "39     2.772843\n",
       "45     4.291962\n",
       "58     3.953709\n",
       "100    2.265463\n",
       "147    2.803044\n",
       "152    2.165799\n",
       "187    2.564454\n",
       "218    2.271503\n",
       "228    5.608734\n",
       "243    2.555394\n",
       "245    2.238282\n",
       "259    2.661098\n",
       "270    2.005732\n",
       "292    2.271503\n",
       "308    2.775863\n",
       "330    3.032573\n",
       "370    5.028871\n",
       "371    3.802703\n",
       "383    2.404388\n",
       "395    3.407067\n",
       "408    2.171839\n",
       "434    2.011773\n",
       "445    5.883565\n",
       "487    2.075195\n",
       "493    2.029893\n",
       "534    2.353046\n",
       "588    2.060095\n",
       "593    3.706059\n",
       "606    2.374187\n",
       "618    2.446670\n",
       "621    3.703039\n",
       "622    2.987271\n",
       "657    2.084255\n",
       "659    2.476871\n",
       "661    2.784923\n",
       "744    2.120497\n",
       "750    2.144658\n",
       "Name: DiabetesPedigreeFunction, dtype: float64"
      ]
     },
     "execution_count": 110,
     "metadata": {},
     "output_type": "execute_result"
    }
   ],
   "source": [
    "outliers= z_score.loc[(z_score > 2)]\n",
    "outliers"
   ]
  },
  {
   "cell_type": "code",
   "execution_count": 111,
   "id": "146ad353",
   "metadata": {},
   "outputs": [
    {
     "data": {
      "text/plain": [
       "Int64Index([  4,  12,  39,  45,  58, 100, 147, 152, 187, 218, 228, 243, 245,\n",
       "            259, 270, 292, 308, 330, 370, 371, 383, 395, 408, 434, 445, 487,\n",
       "            493, 534, 588, 593, 606, 618, 621, 622, 657, 659, 661, 744, 750],\n",
       "           dtype='int64')"
      ]
     },
     "execution_count": 111,
     "metadata": {},
     "output_type": "execute_result"
    }
   ],
   "source": [
    "outliers.index"
   ]
  },
  {
   "cell_type": "code",
   "execution_count": 112,
   "id": "ee248cba",
   "metadata": {},
   "outputs": [
    {
     "data": {
      "text/plain": [
       "39"
      ]
     },
     "execution_count": 112,
     "metadata": {},
     "output_type": "execute_result"
    }
   ],
   "source": [
    "outliers.value_counts().sum()"
   ]
  },
  {
   "cell_type": "code",
   "execution_count": 113,
   "id": "c811f36f",
   "metadata": {},
   "outputs": [
    {
     "name": "stdout",
     "output_type": "stream",
     "text": [
      "q1 : 0.24375\n",
      "q2 : 0.3725\n",
      "q3 : 0.62625\n",
      "iqr : 0.38249999999999995\n",
      "upper_tail : 1.2\n",
      "lower_tail : -0.32999999999999996\n"
     ]
    }
   ],
   "source": [
    "#IQR,\n",
    "\n",
    "q1 = df['DiabetesPedigreeFunction'].quantile(0.25)\n",
    "q2 = df['DiabetesPedigreeFunction'].quantile(0.50)\n",
    "q3 = df['DiabetesPedigreeFunction'].quantile(0.75)\n",
    "\n",
    "iqr= q3-q1\n",
    "\n",
    "upper_tail= q3 + 1.5*iqr\n",
    "lower_tail= q1 - 1.5*iqr\n",
    "\n",
    "print('q1 :', q1)\n",
    "print('q2 :', q2)\n",
    "print('q3 :', q3)\n",
    "print('iqr :', iqr)\n",
    "print('upper_tail :', upper_tail)\n",
    "print('lower_tail :', lower_tail)"
   ]
  },
  {
   "cell_type": "code",
   "execution_count": 114,
   "id": "6bd7b0d9",
   "metadata": {},
   "outputs": [
    {
     "data": {
      "text/plain": [
       "0    500\n",
       "1    268\n",
       "Name: Outcome, dtype: int64"
      ]
     },
     "execution_count": 114,
     "metadata": {},
     "output_type": "execute_result"
    }
   ],
   "source": [
    "df['Outcome'].value_counts()"
   ]
  },
  {
   "cell_type": "code",
   "execution_count": 115,
   "id": "febb1480",
   "metadata": {},
   "outputs": [
    {
     "data": {
      "text/plain": [
       "4      2.288\n",
       "12     1.441\n",
       "39     1.390\n",
       "45     1.893\n",
       "58     1.781\n",
       "100    1.222\n",
       "147    1.400\n",
       "187    1.321\n",
       "218    1.224\n",
       "228    2.329\n",
       "243    1.318\n",
       "245    1.213\n",
       "259    1.353\n",
       "292    1.224\n",
       "308    1.391\n",
       "330    1.476\n",
       "370    2.137\n",
       "371    1.731\n",
       "383    1.268\n",
       "395    1.600\n",
       "445    2.420\n",
       "534    1.251\n",
       "593    1.699\n",
       "606    1.258\n",
       "618    1.282\n",
       "621    1.698\n",
       "622    1.461\n",
       "659    1.292\n",
       "661    1.394\n",
       "Name: DiabetesPedigreeFunction, dtype: float64"
      ]
     },
     "execution_count": 115,
     "metadata": {},
     "output_type": "execute_result"
    }
   ],
   "source": [
    "outliers = df.loc[(df['DiabetesPedigreeFunction'] < lower_tail) |\n",
    "                 (df['DiabetesPedigreeFunction'] > upper_tail)]\n",
    "outliers['DiabetesPedigreeFunction']"
   ]
  },
  {
   "cell_type": "code",
   "execution_count": 116,
   "id": "864faca4",
   "metadata": {},
   "outputs": [
    {
     "data": {
      "text/plain": [
       "29"
      ]
     },
     "execution_count": 116,
     "metadata": {},
     "output_type": "execute_result"
    }
   ],
   "source": [
    "outliers['DiabetesPedigreeFunction'].value_counts().sum()"
   ]
  },
  {
   "cell_type": "raw",
   "id": "b6d60d8c",
   "metadata": {},
   "source": [
    "OBSERVATIONS:\n",
    "    1. In zscore method (zscore more than 2) 91 outliers found.\n",
    "    2. In iqr method 98 outliers found."
   ]
  },
  {
   "cell_type": "raw",
   "id": "fb2440df",
   "metadata": {},
   "source": [
    "We go with IQR for imputation,"
   ]
  },
  {
   "cell_type": "code",
   "execution_count": 117,
   "id": "49e63c7d",
   "metadata": {},
   "outputs": [
    {
     "data": {
      "text/plain": [
       "0      0.627\n",
       "1      0.351\n",
       "2      0.672\n",
       "3      0.167\n",
       "5      0.201\n",
       "       ...  \n",
       "763    0.171\n",
       "764    0.340\n",
       "765    0.245\n",
       "766    0.349\n",
       "767    0.315\n",
       "Name: DiabetesPedigreeFunction, Length: 739, dtype: float64"
      ]
     },
     "execution_count": 117,
     "metadata": {},
     "output_type": "execute_result"
    }
   ],
   "source": [
    "without_ot = df.loc[(df['DiabetesPedigreeFunction'] > lower_tail) &\n",
    "                   (df['DiabetesPedigreeFunction'] < upper_tail)]\n",
    "\n",
    "without_ot['DiabetesPedigreeFunction']"
   ]
  },
  {
   "cell_type": "code",
   "execution_count": 118,
   "id": "793e3a29",
   "metadata": {},
   "outputs": [
    {
     "data": {
      "text/plain": [
       "0.42983220568335573"
      ]
     },
     "execution_count": 118,
     "metadata": {},
     "output_type": "execute_result"
    }
   ],
   "source": [
    "mean = without_ot['DiabetesPedigreeFunction'].mean()\n",
    "mean"
   ]
  },
  {
   "cell_type": "code",
   "execution_count": 119,
   "id": "c1a037c3",
   "metadata": {},
   "outputs": [
    {
     "data": {
      "text/plain": [
       "0.356"
      ]
     },
     "execution_count": 119,
     "metadata": {},
     "output_type": "execute_result"
    }
   ],
   "source": [
    "median = without_ot['DiabetesPedigreeFunction'].median()\n",
    "median"
   ]
  },
  {
   "cell_type": "code",
   "execution_count": 120,
   "id": "628f1e32",
   "metadata": {},
   "outputs": [
    {
     "name": "stderr",
     "output_type": "stream",
     "text": [
      "C:\\Users\\sai\\anaconda3\\lib\\site-packages\\pandas\\core\\indexing.py:1732: SettingWithCopyWarning: \n",
      "A value is trying to be set on a copy of a slice from a DataFrame\n",
      "\n",
      "See the caveats in the documentation: https://pandas.pydata.org/pandas-docs/stable/user_guide/indexing.html#returning-a-view-versus-a-copy\n",
      "  self._setitem_single_block(indexer, value, name)\n"
     ]
    }
   ],
   "source": [
    "df['DiabetesPedigreeFunction'].loc[(df['DiabetesPedigreeFunction'] < lower_tail) |\n",
    "                 (df['DiabetesPedigreeFunction'] > upper_tail)] = mean"
   ]
  },
  {
   "cell_type": "code",
   "execution_count": 121,
   "id": "e378f403",
   "metadata": {},
   "outputs": [
    {
     "data": {
      "text/plain": [
       "0"
      ]
     },
     "execution_count": 121,
     "metadata": {},
     "output_type": "execute_result"
    }
   ],
   "source": [
    "df['DiabetesPedigreeFunction'].loc[(df['DiabetesPedigreeFunction'] < lower_tail) |\n",
    "                 (df['DiabetesPedigreeFunction'] > upper_tail)].value_counts().sum()"
   ]
  },
  {
   "cell_type": "markdown",
   "id": "225d0a35",
   "metadata": {},
   "source": [
    "# Age   "
   ]
  },
  {
   "cell_type": "code",
   "execution_count": 122,
   "id": "89e5bf4e",
   "metadata": {},
   "outputs": [
    {
     "data": {
      "text/plain": [
       "count    768.000000\n",
       "mean      33.243490\n",
       "std       11.758182\n",
       "min       21.000000\n",
       "25%       24.000000\n",
       "50%       29.000000\n",
       "75%       41.000000\n",
       "max       81.000000\n",
       "Name: Age, dtype: float64"
      ]
     },
     "execution_count": 122,
     "metadata": {},
     "output_type": "execute_result"
    }
   ],
   "source": [
    "df['Age'].describe()"
   ]
  },
  {
   "cell_type": "code",
   "execution_count": 123,
   "id": "809594ed",
   "metadata": {},
   "outputs": [
    {
     "data": {
      "text/plain": [
       "<AxesSubplot:xlabel='Age', ylabel='Density'>"
      ]
     },
     "execution_count": 123,
     "metadata": {},
     "output_type": "execute_result"
    },
    {
     "data": {
      "image/png": "[encoded data removed]",
      "text/plain": [
       "<Figure size 432x288 with 1 Axes>"
      ]
     },
     "metadata": {
      "needs_background": "light"
     },
     "output_type": "display_data"
    }
   ],
   "source": [
    "sns.kdeplot(df['Age'])"
   ]
  },
  {
   "cell_type": "code",
   "execution_count": 124,
   "id": "5a73f0a0",
   "metadata": {},
   "outputs": [
    {
     "name": "stderr",
     "output_type": "stream",
     "text": [
      "C:\\Users\\sai\\anaconda3\\lib\\site-packages\\seaborn\\_decorators.py:36: FutureWarning: Pass the following variable as a keyword arg: x. From version 0.12, the only valid positional argument will be `data`, and passing other arguments without an explicit keyword will result in an error or misinterpretation.\n",
      "  warnings.warn(\n"
     ]
    },
    {
     "data": {
      "text/plain": [
       "<AxesSubplot:xlabel='Age'>"
      ]
     },
     "execution_count": 124,
     "metadata": {},
     "output_type": "execute_result"
    },
    {
     "data": {
      "image/png": "[encoded data removed]",
      "text/plain": [
       "<Figure size 1440x288 with 1 Axes>"
      ]
     },
     "metadata": {
      "needs_background": "light"
     },
     "output_type": "display_data"
    }
   ],
   "source": [
    "plt.figure(figsize= (20,4))\n",
    "sns.boxplot(df['Age'])"
   ]
  },
  {
   "cell_type": "code",
   "execution_count": 125,
   "id": "56aa6c09",
   "metadata": {},
   "outputs": [
    {
     "data": {
      "text/plain": [
       "0      1.426022\n",
       "1      0.190927\n",
       "2      1.596227\n",
       "3      1.041953\n",
       "4      0.020722\n",
       "         ...   \n",
       "763    2.532356\n",
       "764    0.531337\n",
       "765    0.276029\n",
       "766    1.170715\n",
       "767    0.871747\n",
       "Name: Age, Length: 768, dtype: float64"
      ]
     },
     "execution_count": 125,
     "metadata": {},
     "output_type": "execute_result"
    }
   ],
   "source": [
    "# ZSOCRE,\n",
    "\n",
    "z_score= np.abs(zscore(df['Age']))\n",
    "z_score"
   ]
  },
  {
   "cell_type": "code",
   "execution_count": 126,
   "id": "6f2bff4e",
   "metadata": {},
   "outputs": [
    {
     "data": {
      "text/plain": [
       "30     2.277048\n",
       "93     2.277048\n",
       "115    2.362151\n",
       "123    3.042971\n",
       "129    2.447253\n",
       "148    2.702561\n",
       "186    2.277048\n",
       "212    2.277048\n",
       "221    2.787664\n",
       "223    2.362151\n",
       "263    2.532356\n",
       "294    2.702561\n",
       "361    2.532356\n",
       "362    2.702561\n",
       "363    2.872766\n",
       "453    3.298279\n",
       "456    2.447253\n",
       "459    4.064202\n",
       "479    2.532356\n",
       "489    2.872766\n",
       "495    2.787664\n",
       "509    2.617459\n",
       "519    2.277048\n",
       "537    2.872766\n",
       "552    2.787664\n",
       "579    2.447253\n",
       "582    2.447253\n",
       "666    3.128074\n",
       "674    2.957869\n",
       "684    3.042971\n",
       "759    2.787664\n",
       "763    2.532356\n",
       "Name: Age, dtype: float64"
      ]
     },
     "execution_count": 126,
     "metadata": {},
     "output_type": "execute_result"
    }
   ],
   "source": [
    "outliers = z_score.loc[(z_score > 2.2)]\n",
    "outliers"
   ]
  },
  {
   "cell_type": "code",
   "execution_count": 127,
   "id": "9afee5e0",
   "metadata": {},
   "outputs": [
    {
     "data": {
      "text/plain": [
       "Int64Index([ 30,  93, 115, 123, 129, 148, 186, 212, 221, 223, 263, 294, 361,\n",
       "            362, 363, 453, 456, 459, 479, 489, 495, 509, 519, 537, 552, 579,\n",
       "            582, 666, 674, 684, 759, 763],\n",
       "           dtype='int64')"
      ]
     },
     "execution_count": 127,
     "metadata": {},
     "output_type": "execute_result"
    }
   ],
   "source": [
    "outliers.index"
   ]
  },
  {
   "cell_type": "code",
   "execution_count": 128,
   "id": "4a55cd2c",
   "metadata": {},
   "outputs": [
    {
     "data": {
      "text/plain": [
       "32"
      ]
     },
     "execution_count": 128,
     "metadata": {},
     "output_type": "execute_result"
    }
   ],
   "source": [
    "outliers.value_counts().sum()"
   ]
  },
  {
   "cell_type": "code",
   "execution_count": 129,
   "id": "5d7ff05a",
   "metadata": {},
   "outputs": [
    {
     "name": "stdout",
     "output_type": "stream",
     "text": [
      "q1 : 24.0\n",
      "q2 : 29.0\n",
      "q3 : 41.0\n",
      "iqr : 17.0\n",
      "upper_tail : 66.5\n",
      "lower_tail : -1.5\n"
     ]
    }
   ],
   "source": [
    "# IQR,\n",
    "\n",
    "q1= df['Age'].quantile(0.25)\n",
    "q2= df['Age'].quantile(0.50)\n",
    "q3= df['Age'].quantile(0.75)\n",
    "\n",
    "iqr= q3-q1\n",
    "\n",
    "upper_tail= q3 + 1.5*iqr\n",
    "lower_tail= q1 - 1.5*iqr\n",
    "\n",
    "print('q1 :', q1)\n",
    "print('q2 :', q2)\n",
    "print('q3 :', q3)\n",
    "print('iqr :', iqr)\n",
    "print('upper_tail :', upper_tail)\n",
    "print('lower_tail :', lower_tail)"
   ]
  },
  {
   "cell_type": "code",
   "execution_count": 130,
   "id": "f10b9c03",
   "metadata": {},
   "outputs": [
    {
     "data": {
      "text/plain": [
       "123    69\n",
       "363    67\n",
       "453    72\n",
       "459    81\n",
       "489    67\n",
       "537    67\n",
       "666    70\n",
       "674    68\n",
       "684    69\n",
       "Name: Age, dtype: int64"
      ]
     },
     "execution_count": 130,
     "metadata": {},
     "output_type": "execute_result"
    }
   ],
   "source": [
    "outliers = df.loc[(df['Age'] < lower_tail) |\n",
    "                 (df['Age'] > upper_tail)]\n",
    "outliers['Age']"
   ]
  },
  {
   "cell_type": "code",
   "execution_count": 131,
   "id": "37710266",
   "metadata": {},
   "outputs": [
    {
     "data": {
      "text/plain": [
       "9"
      ]
     },
     "execution_count": 131,
     "metadata": {},
     "output_type": "execute_result"
    }
   ],
   "source": [
    "outliers['Age'].value_counts().sum()"
   ]
  },
  {
   "cell_type": "raw",
   "id": "faa0bc60",
   "metadata": {},
   "source": [
    "OBSERVATION:- \n",
    "    1. found 14 outliers by zscore (more than 2.2)\n",
    "    2. found 13 outliers by iqr"
   ]
  },
  {
   "cell_type": "code",
   "execution_count": 132,
   "id": "aa634b34",
   "metadata": {},
   "outputs": [
    {
     "data": {
      "text/plain": [
       "0      50\n",
       "1      31\n",
       "2      52\n",
       "3      21\n",
       "4      33\n",
       "       ..\n",
       "763    63\n",
       "764    27\n",
       "765    30\n",
       "766    47\n",
       "767    23\n",
       "Name: Age, Length: 759, dtype: int64"
      ]
     },
     "execution_count": 132,
     "metadata": {},
     "output_type": "execute_result"
    }
   ],
   "source": [
    "without_ot = df.loc[(df['Age'] > lower_tail) &\n",
    "                   (df['Age'] < upper_tail)]\n",
    "without_ot['Age']"
   ]
  },
  {
   "cell_type": "code",
   "execution_count": 133,
   "id": "461565ae",
   "metadata": {},
   "outputs": [
    {
     "data": {
      "text/plain": [
       "32.80764163372859"
      ]
     },
     "execution_count": 133,
     "metadata": {},
     "output_type": "execute_result"
    }
   ],
   "source": [
    "mean= without_ot['Age'].mean()\n",
    "mean"
   ]
  },
  {
   "cell_type": "code",
   "execution_count": 134,
   "id": "3921daa1",
   "metadata": {},
   "outputs": [
    {
     "data": {
      "text/plain": [
       "66"
      ]
     },
     "execution_count": 134,
     "metadata": {},
     "output_type": "execute_result"
    }
   ],
   "source": [
    "maxx = without_ot['Age'].max()\n",
    "maxx"
   ]
  },
  {
   "cell_type": "code",
   "execution_count": 135,
   "id": "6aae56d6",
   "metadata": {},
   "outputs": [
    {
     "name": "stderr",
     "output_type": "stream",
     "text": [
      "C:\\Users\\sai\\anaconda3\\lib\\site-packages\\pandas\\core\\indexing.py:1732: SettingWithCopyWarning: \n",
      "A value is trying to be set on a copy of a slice from a DataFrame\n",
      "\n",
      "See the caveats in the documentation: https://pandas.pydata.org/pandas-docs/stable/user_guide/indexing.html#returning-a-view-versus-a-copy\n",
      "  self._setitem_single_block(indexer, value, name)\n"
     ]
    }
   ],
   "source": [
    "df['Age'].loc[(df['Age'] < lower_tail) |\n",
    "                 (df['Age'] > upper_tail)]= mean"
   ]
  },
  {
   "cell_type": "code",
   "execution_count": 136,
   "id": "7880ecf3",
   "metadata": {},
   "outputs": [
    {
     "data": {
      "text/plain": [
       "0"
      ]
     },
     "execution_count": 136,
     "metadata": {},
     "output_type": "execute_result"
    }
   ],
   "source": [
    "df['Age'].loc[(df['Age'] < lower_tail) |\n",
    "                 (df['Age'] > upper_tail)].value_counts().sum()"
   ]
  },
  {
   "cell_type": "code",
   "execution_count": 137,
   "id": "5ad04934",
   "metadata": {},
   "outputs": [
    {
     "data": {
      "text/html": [
       "<div>\n",
       "<style scoped>\n",
       "    .dataframe tbody tr th:only-of-type {\n",
       "        vertical-align: middle;\n",
       "    }\n",
       "\n",
       "    .dataframe tbody tr th {\n",
       "        vertical-align: top;\n",
       "    }\n",
       "\n",
       "    .dataframe thead th {\n",
       "        text-align: right;\n",
       "    }\n",
       "</style>\n",
       "<table border=\"1\" class=\"dataframe\">\n",
       "  <thead>\n",
       "    <tr style=\"text-align: right;\">\n",
       "      <th></th>\n",
       "      <th>Glucose</th>\n",
       "      <th>BloodPressure</th>\n",
       "      <th>SkinThickness</th>\n",
       "      <th>Insulin</th>\n",
       "      <th>BMI</th>\n",
       "      <th>DiabetesPedigreeFunction</th>\n",
       "      <th>Age</th>\n",
       "      <th>Outcome</th>\n",
       "    </tr>\n",
       "  </thead>\n",
       "  <tbody>\n",
       "    <tr>\n",
       "      <th>count</th>\n",
       "      <td>768.000000</td>\n",
       "      <td>768.000000</td>\n",
       "      <td>768.000000</td>\n",
       "      <td>768.000000</td>\n",
       "      <td>768.000000</td>\n",
       "      <td>768.000000</td>\n",
       "      <td>768.000000</td>\n",
       "      <td>768.000000</td>\n",
       "    </tr>\n",
       "    <tr>\n",
       "      <th>mean</th>\n",
       "      <td>121.910878</td>\n",
       "      <td>72.178423</td>\n",
       "      <td>20.434159</td>\n",
       "      <td>62.328338</td>\n",
       "      <td>32.204005</td>\n",
       "      <td>0.429832</td>\n",
       "      <td>32.807642</td>\n",
       "      <td>0.348958</td>\n",
       "    </tr>\n",
       "    <tr>\n",
       "      <th>std</th>\n",
       "      <td>30.254073</td>\n",
       "      <td>11.175382</td>\n",
       "      <td>15.698281</td>\n",
       "      <td>77.358761</td>\n",
       "      <td>6.410480</td>\n",
       "      <td>0.244918</td>\n",
       "      <td>11.045710</td>\n",
       "      <td>0.476951</td>\n",
       "    </tr>\n",
       "    <tr>\n",
       "      <th>min</th>\n",
       "      <td>44.000000</td>\n",
       "      <td>38.000000</td>\n",
       "      <td>0.000000</td>\n",
       "      <td>0.000000</td>\n",
       "      <td>18.200000</td>\n",
       "      <td>0.078000</td>\n",
       "      <td>21.000000</td>\n",
       "      <td>0.000000</td>\n",
       "    </tr>\n",
       "    <tr>\n",
       "      <th>25%</th>\n",
       "      <td>100.000000</td>\n",
       "      <td>64.000000</td>\n",
       "      <td>0.000000</td>\n",
       "      <td>0.000000</td>\n",
       "      <td>27.500000</td>\n",
       "      <td>0.243750</td>\n",
       "      <td>24.000000</td>\n",
       "      <td>0.000000</td>\n",
       "    </tr>\n",
       "    <tr>\n",
       "      <th>50%</th>\n",
       "      <td>118.000000</td>\n",
       "      <td>72.178423</td>\n",
       "      <td>23.000000</td>\n",
       "      <td>30.500000</td>\n",
       "      <td>32.204005</td>\n",
       "      <td>0.372500</td>\n",
       "      <td>29.000000</td>\n",
       "      <td>0.000000</td>\n",
       "    </tr>\n",
       "    <tr>\n",
       "      <th>75%</th>\n",
       "      <td>142.000000</td>\n",
       "      <td>80.000000</td>\n",
       "      <td>32.000000</td>\n",
       "      <td>110.000000</td>\n",
       "      <td>36.300000</td>\n",
       "      <td>0.582250</td>\n",
       "      <td>40.000000</td>\n",
       "      <td>1.000000</td>\n",
       "    </tr>\n",
       "    <tr>\n",
       "      <th>max</th>\n",
       "      <td>199.000000</td>\n",
       "      <td>106.000000</td>\n",
       "      <td>63.000000</td>\n",
       "      <td>318.000000</td>\n",
       "      <td>50.000000</td>\n",
       "      <td>1.191000</td>\n",
       "      <td>66.000000</td>\n",
       "      <td>1.000000</td>\n",
       "    </tr>\n",
       "  </tbody>\n",
       "</table>\n",
       "</div>"
      ],
      "text/plain": [
       "          Glucose  BloodPressure  SkinThickness     Insulin         BMI  \\\n",
       "count  768.000000     768.000000     768.000000  768.000000  768.000000   \n",
       "mean   121.910878      72.178423      20.434159   62.328338   32.204005   \n",
       "std     30.254073      11.175382      15.698281   77.358761    6.410480   \n",
       "min     44.000000      38.000000       0.000000    0.000000   18.200000   \n",
       "25%    100.000000      64.000000       0.000000    0.000000   27.500000   \n",
       "50%    118.000000      72.178423      23.000000   30.500000   32.204005   \n",
       "75%    142.000000      80.000000      32.000000  110.000000   36.300000   \n",
       "max    199.000000     106.000000      63.000000  318.000000   50.000000   \n",
       "\n",
       "       DiabetesPedigreeFunction         Age     Outcome  \n",
       "count                768.000000  768.000000  768.000000  \n",
       "mean                   0.429832   32.807642    0.348958  \n",
       "std                    0.244918   11.045710    0.476951  \n",
       "min                    0.078000   21.000000    0.000000  \n",
       "25%                    0.243750   24.000000    0.000000  \n",
       "50%                    0.372500   29.000000    0.000000  \n",
       "75%                    0.582250   40.000000    1.000000  \n",
       "max                    1.191000   66.000000    1.000000  "
      ]
     },
     "execution_count": 137,
     "metadata": {},
     "output_type": "execute_result"
    }
   ],
   "source": [
    "df.describe()"
   ]
  },
  {
   "cell_type": "code",
   "execution_count": 138,
   "id": "1290a548",
   "metadata": {},
   "outputs": [
    {
     "data": {
      "text/plain": [
       "0    500\n",
       "1    268\n",
       "Name: Outcome, dtype: int64"
      ]
     },
     "execution_count": 138,
     "metadata": {},
     "output_type": "execute_result"
    }
   ],
   "source": [
    "df['Outcome'].value_counts()"
   ]
  },
  {
   "cell_type": "code",
   "execution_count": 139,
   "id": "25bf1fa9",
   "metadata": {},
   "outputs": [
    {
     "name": "stderr",
     "output_type": "stream",
     "text": [
      "C:\\Users\\sai\\anaconda3\\lib\\site-packages\\seaborn\\_decorators.py:36: FutureWarning: Pass the following variable as a keyword arg: x. From version 0.12, the only valid positional argument will be `data`, and passing other arguments without an explicit keyword will result in an error or misinterpretation.\n",
      "  warnings.warn(\n"
     ]
    },
    {
     "data": {
      "text/plain": [
       "<AxesSubplot:xlabel='Outcome', ylabel='count'>"
      ]
     },
     "execution_count": 139,
     "metadata": {},
     "output_type": "execute_result"
    },
    {
     "data": {
      "image/png": "[encoded data removed]",
      "text/plain": [
       "<Figure size 432x288 with 1 Axes>"
      ]
     },
     "metadata": {
      "needs_background": "light"
     },
     "output_type": "display_data"
    }
   ],
   "source": [
    "sns.countplot(df['Outcome'])"
   ]
  },
  {
   "cell_type": "markdown",
   "id": "3dfac3e0",
   "metadata": {},
   "source": [
    "# Feature Selection"
   ]
  },
  {
   "cell_type": "code",
   "execution_count": 140,
   "id": "14f898b0",
   "metadata": {},
   "outputs": [
    {
     "data": {
      "text/html": [
       "<div>\n",
       "<style scoped>\n",
       "    .dataframe tbody tr th:only-of-type {\n",
       "        vertical-align: middle;\n",
       "    }\n",
       "\n",
       "    .dataframe tbody tr th {\n",
       "        vertical-align: top;\n",
       "    }\n",
       "\n",
       "    .dataframe thead th {\n",
       "        text-align: right;\n",
       "    }\n",
       "</style>\n",
       "<table border=\"1\" class=\"dataframe\">\n",
       "  <thead>\n",
       "    <tr style=\"text-align: right;\">\n",
       "      <th></th>\n",
       "      <th>Glucose</th>\n",
       "      <th>BloodPressure</th>\n",
       "      <th>SkinThickness</th>\n",
       "      <th>Insulin</th>\n",
       "      <th>BMI</th>\n",
       "      <th>DiabetesPedigreeFunction</th>\n",
       "      <th>Age</th>\n",
       "      <th>Outcome</th>\n",
       "    </tr>\n",
       "  </thead>\n",
       "  <tbody>\n",
       "    <tr>\n",
       "      <th>Glucose</th>\n",
       "      <td>1.000000</td>\n",
       "      <td>0.201339</td>\n",
       "      <td>0.053218</td>\n",
       "      <td>0.199794</td>\n",
       "      <td>0.229713</td>\n",
       "      <td>0.076729</td>\n",
       "      <td>0.267601</td>\n",
       "      <td>0.489601</td>\n",
       "    </tr>\n",
       "    <tr>\n",
       "      <th>BloodPressure</th>\n",
       "      <td>0.201339</td>\n",
       "      <td>1.000000</td>\n",
       "      <td>0.022405</td>\n",
       "      <td>-0.050531</td>\n",
       "      <td>0.270764</td>\n",
       "      <td>0.020058</td>\n",
       "      <td>0.321997</td>\n",
       "      <td>0.161178</td>\n",
       "    </tr>\n",
       "    <tr>\n",
       "      <th>SkinThickness</th>\n",
       "      <td>0.053218</td>\n",
       "      <td>0.022405</td>\n",
       "      <td>1.000000</td>\n",
       "      <td>0.488532</td>\n",
       "      <td>0.373476</td>\n",
       "      <td>0.156550</td>\n",
       "      <td>-0.112254</td>\n",
       "      <td>0.067055</td>\n",
       "    </tr>\n",
       "    <tr>\n",
       "      <th>Insulin</th>\n",
       "      <td>0.199794</td>\n",
       "      <td>-0.050531</td>\n",
       "      <td>0.488532</td>\n",
       "      <td>1.000000</td>\n",
       "      <td>0.178098</td>\n",
       "      <td>0.204686</td>\n",
       "      <td>-0.076092</td>\n",
       "      <td>0.086371</td>\n",
       "    </tr>\n",
       "    <tr>\n",
       "      <th>BMI</th>\n",
       "      <td>0.229713</td>\n",
       "      <td>0.270764</td>\n",
       "      <td>0.373476</td>\n",
       "      <td>0.178098</td>\n",
       "      <td>1.000000</td>\n",
       "      <td>0.125599</td>\n",
       "      <td>0.072432</td>\n",
       "      <td>0.300738</td>\n",
       "    </tr>\n",
       "    <tr>\n",
       "      <th>DiabetesPedigreeFunction</th>\n",
       "      <td>0.076729</td>\n",
       "      <td>0.020058</td>\n",
       "      <td>0.156550</td>\n",
       "      <td>0.204686</td>\n",
       "      <td>0.125599</td>\n",
       "      <td>1.000000</td>\n",
       "      <td>0.043224</td>\n",
       "      <td>0.156548</td>\n",
       "    </tr>\n",
       "    <tr>\n",
       "      <th>Age</th>\n",
       "      <td>0.267601</td>\n",
       "      <td>0.321997</td>\n",
       "      <td>-0.112254</td>\n",
       "      <td>-0.076092</td>\n",
       "      <td>0.072432</td>\n",
       "      <td>0.043224</td>\n",
       "      <td>1.000000</td>\n",
       "      <td>0.265338</td>\n",
       "    </tr>\n",
       "    <tr>\n",
       "      <th>Outcome</th>\n",
       "      <td>0.489601</td>\n",
       "      <td>0.161178</td>\n",
       "      <td>0.067055</td>\n",
       "      <td>0.086371</td>\n",
       "      <td>0.300738</td>\n",
       "      <td>0.156548</td>\n",
       "      <td>0.265338</td>\n",
       "      <td>1.000000</td>\n",
       "    </tr>\n",
       "  </tbody>\n",
       "</table>\n",
       "</div>"
      ],
      "text/plain": [
       "                           Glucose  BloodPressure  SkinThickness   Insulin  \\\n",
       "Glucose                   1.000000       0.201339       0.053218  0.199794   \n",
       "BloodPressure             0.201339       1.000000       0.022405 -0.050531   \n",
       "SkinThickness             0.053218       0.022405       1.000000  0.488532   \n",
       "Insulin                   0.199794      -0.050531       0.488532  1.000000   \n",
       "BMI                       0.229713       0.270764       0.373476  0.178098   \n",
       "DiabetesPedigreeFunction  0.076729       0.020058       0.156550  0.204686   \n",
       "Age                       0.267601       0.321997      -0.112254 -0.076092   \n",
       "Outcome                   0.489601       0.161178       0.067055  0.086371   \n",
       "\n",
       "                               BMI  DiabetesPedigreeFunction       Age  \\\n",
       "Glucose                   0.229713                  0.076729  0.267601   \n",
       "BloodPressure             0.270764                  0.020058  0.321997   \n",
       "SkinThickness             0.373476                  0.156550 -0.112254   \n",
       "Insulin                   0.178098                  0.204686 -0.076092   \n",
       "BMI                       1.000000                  0.125599  0.072432   \n",
       "DiabetesPedigreeFunction  0.125599                  1.000000  0.043224   \n",
       "Age                       0.072432                  0.043224  1.000000   \n",
       "Outcome                   0.300738                  0.156548  0.265338   \n",
       "\n",
       "                           Outcome  \n",
       "Glucose                   0.489601  \n",
       "BloodPressure             0.161178  \n",
       "SkinThickness             0.067055  \n",
       "Insulin                   0.086371  \n",
       "BMI                       0.300738  \n",
       "DiabetesPedigreeFunction  0.156548  \n",
       "Age                       0.265338  \n",
       "Outcome                   1.000000  "
      ]
     },
     "execution_count": 140,
     "metadata": {},
     "output_type": "execute_result"
    }
   ],
   "source": [
    "df.corr()"
   ]
  },
  {
   "cell_type": "code",
   "execution_count": 141,
   "id": "0fe670e9",
   "metadata": {},
   "outputs": [
    {
     "data": {
      "text/plain": [
       "<AxesSubplot:>"
      ]
     },
     "execution_count": 141,
     "metadata": {},
     "output_type": "execute_result"
    },
    {
     "data": {
      "image/png": "[encoded data removed]",
      "text/plain": [
       "<Figure size 1440x432 with 2 Axes>"
      ]
     },
     "metadata": {
      "needs_background": "light"
     },
     "output_type": "display_data"
    }
   ],
   "source": [
    "plt.figure(figsize=(20,6))\n",
    "sns.heatmap(df.corr(), annot=True)"
   ]
  },
  {
   "cell_type": "markdown",
   "id": "b2159215",
   "metadata": {},
   "source": [
    "# Model Training"
   ]
  },
  {
   "cell_type": "raw",
   "id": "0ed18699",
   "metadata": {},
   "source": [
    "Outcomes is Categorical (Diabetes Yes (1) or No (0)) so possible algorithm is,\n",
    "1. Linear Regression.\n",
    "2. Logistic Regression.\n",
    "3. KNN classifier\n",
    "4. DT classifier"
   ]
  },
  {
   "cell_type": "code",
   "execution_count": 142,
   "id": "4a29e9aa",
   "metadata": {},
   "outputs": [],
   "source": [
    "from sklearn.linear_model import LinearRegression\n",
    "from sklearn.linear_model import LogisticRegression\n",
    "from sklearn.neighbors import KNeighborsClassifier\n",
    "from sklearn.tree import DecisionTreeClassifier"
   ]
  },
  {
   "cell_type": "markdown",
   "id": "1ba5d64c",
   "metadata": {},
   "source": [
    "# LR"
   ]
  },
  {
   "cell_type": "code",
   "execution_count": 143,
   "id": "320a7c25",
   "metadata": {},
   "outputs": [],
   "source": [
    "LR = LinearRegression()"
   ]
  },
  {
   "cell_type": "code",
   "execution_count": 144,
   "id": "810104ac",
   "metadata": {},
   "outputs": [],
   "source": [
    "x= df.drop('Outcome', axis=1)\n",
    "y= df['Outcome']"
   ]
  },
  {
   "cell_type": "code",
   "execution_count": 145,
   "id": "8bb3cd37",
   "metadata": {},
   "outputs": [
    {
     "data": {
      "text/html": [
       "<div>\n",
       "<style scoped>\n",
       "    .dataframe tbody tr th:only-of-type {\n",
       "        vertical-align: middle;\n",
       "    }\n",
       "\n",
       "    .dataframe tbody tr th {\n",
       "        vertical-align: top;\n",
       "    }\n",
       "\n",
       "    .dataframe thead th {\n",
       "        text-align: right;\n",
       "    }\n",
       "</style>\n",
       "<table border=\"1\" class=\"dataframe\">\n",
       "  <thead>\n",
       "    <tr style=\"text-align: right;\">\n",
       "      <th></th>\n",
       "      <th>Glucose</th>\n",
       "      <th>BloodPressure</th>\n",
       "      <th>SkinThickness</th>\n",
       "      <th>Insulin</th>\n",
       "      <th>BMI</th>\n",
       "      <th>DiabetesPedigreeFunction</th>\n",
       "      <th>Age</th>\n",
       "    </tr>\n",
       "  </thead>\n",
       "  <tbody>\n",
       "    <tr>\n",
       "      <th>0</th>\n",
       "      <td>148.0</td>\n",
       "      <td>50.0</td>\n",
       "      <td>35.0</td>\n",
       "      <td>0.0</td>\n",
       "      <td>33.6</td>\n",
       "      <td>0.627</td>\n",
       "      <td>50.0</td>\n",
       "    </tr>\n",
       "    <tr>\n",
       "      <th>1</th>\n",
       "      <td>85.0</td>\n",
       "      <td>66.0</td>\n",
       "      <td>29.0</td>\n",
       "      <td>0.0</td>\n",
       "      <td>26.6</td>\n",
       "      <td>0.351</td>\n",
       "      <td>31.0</td>\n",
       "    </tr>\n",
       "  </tbody>\n",
       "</table>\n",
       "</div>"
      ],
      "text/plain": [
       "   Glucose  BloodPressure  SkinThickness  Insulin   BMI  \\\n",
       "0    148.0           50.0           35.0      0.0  33.6   \n",
       "1     85.0           66.0           29.0      0.0  26.6   \n",
       "\n",
       "   DiabetesPedigreeFunction   Age  \n",
       "0                     0.627  50.0  \n",
       "1                     0.351  31.0  "
      ]
     },
     "execution_count": 145,
     "metadata": {},
     "output_type": "execute_result"
    }
   ],
   "source": [
    "x.head(2)"
   ]
  },
  {
   "cell_type": "code",
   "execution_count": 146,
   "id": "491c3730",
   "metadata": {},
   "outputs": [
    {
     "data": {
      "text/plain": [
       "0    1\n",
       "1    0\n",
       "Name: Outcome, dtype: int64"
      ]
     },
     "execution_count": 146,
     "metadata": {},
     "output_type": "execute_result"
    }
   ],
   "source": [
    "y.head(2)"
   ]
  },
  {
   "cell_type": "code",
   "execution_count": 147,
   "id": "f0eca3e8",
   "metadata": {},
   "outputs": [],
   "source": [
    "from sklearn.model_selection import train_test_split"
   ]
  },
  {
   "cell_type": "code",
   "execution_count": 148,
   "id": "f9945e38",
   "metadata": {},
   "outputs": [],
   "source": [
    "x_train, x_test, y_train, y_test = train_test_split(x,y, test_size=0.25, random_state= 15)"
   ]
  },
  {
   "cell_type": "code",
   "execution_count": 149,
   "id": "a6e59f5b",
   "metadata": {},
   "outputs": [
    {
     "data": {
      "text/html": [
       "<div>\n",
       "<style scoped>\n",
       "    .dataframe tbody tr th:only-of-type {\n",
       "        vertical-align: middle;\n",
       "    }\n",
       "\n",
       "    .dataframe tbody tr th {\n",
       "        vertical-align: top;\n",
       "    }\n",
       "\n",
       "    .dataframe thead th {\n",
       "        text-align: right;\n",
       "    }\n",
       "</style>\n",
       "<table border=\"1\" class=\"dataframe\">\n",
       "  <thead>\n",
       "    <tr style=\"text-align: right;\">\n",
       "      <th></th>\n",
       "      <th>Glucose</th>\n",
       "      <th>BloodPressure</th>\n",
       "      <th>SkinThickness</th>\n",
       "      <th>Insulin</th>\n",
       "      <th>BMI</th>\n",
       "      <th>DiabetesPedigreeFunction</th>\n",
       "      <th>Age</th>\n",
       "    </tr>\n",
       "  </thead>\n",
       "  <tbody>\n",
       "    <tr>\n",
       "      <th>548</th>\n",
       "      <td>164.0</td>\n",
       "      <td>82.0</td>\n",
       "      <td>43.0</td>\n",
       "      <td>67.0</td>\n",
       "      <td>32.8</td>\n",
       "      <td>0.341</td>\n",
       "      <td>50.0</td>\n",
       "    </tr>\n",
       "    <tr>\n",
       "      <th>161</th>\n",
       "      <td>102.0</td>\n",
       "      <td>74.0</td>\n",
       "      <td>40.0</td>\n",
       "      <td>105.0</td>\n",
       "      <td>37.2</td>\n",
       "      <td>0.204</td>\n",
       "      <td>45.0</td>\n",
       "    </tr>\n",
       "  </tbody>\n",
       "</table>\n",
       "</div>"
      ],
      "text/plain": [
       "     Glucose  BloodPressure  SkinThickness  Insulin   BMI  \\\n",
       "548    164.0           82.0           43.0     67.0  32.8   \n",
       "161    102.0           74.0           40.0    105.0  37.2   \n",
       "\n",
       "     DiabetesPedigreeFunction   Age  \n",
       "548                     0.341  50.0  \n",
       "161                     0.204  45.0  "
      ]
     },
     "execution_count": 149,
     "metadata": {},
     "output_type": "execute_result"
    }
   ],
   "source": [
    "x_train.head(2)"
   ]
  },
  {
   "cell_type": "code",
   "execution_count": 150,
   "id": "3e41fea8",
   "metadata": {},
   "outputs": [
    {
     "data": {
      "text/html": [
       "<div>\n",
       "<style scoped>\n",
       "    .dataframe tbody tr th:only-of-type {\n",
       "        vertical-align: middle;\n",
       "    }\n",
       "\n",
       "    .dataframe tbody tr th {\n",
       "        vertical-align: top;\n",
       "    }\n",
       "\n",
       "    .dataframe thead th {\n",
       "        text-align: right;\n",
       "    }\n",
       "</style>\n",
       "<table border=\"1\" class=\"dataframe\">\n",
       "  <thead>\n",
       "    <tr style=\"text-align: right;\">\n",
       "      <th></th>\n",
       "      <th>Glucose</th>\n",
       "      <th>BloodPressure</th>\n",
       "      <th>SkinThickness</th>\n",
       "      <th>Insulin</th>\n",
       "      <th>BMI</th>\n",
       "      <th>DiabetesPedigreeFunction</th>\n",
       "      <th>Age</th>\n",
       "    </tr>\n",
       "  </thead>\n",
       "  <tbody>\n",
       "    <tr>\n",
       "      <th>343</th>\n",
       "      <td>122.0</td>\n",
       "      <td>86.0</td>\n",
       "      <td>0.0</td>\n",
       "      <td>0.0</td>\n",
       "      <td>34.7</td>\n",
       "      <td>0.290</td>\n",
       "      <td>33.0</td>\n",
       "    </tr>\n",
       "    <tr>\n",
       "      <th>728</th>\n",
       "      <td>175.0</td>\n",
       "      <td>88.0</td>\n",
       "      <td>0.0</td>\n",
       "      <td>0.0</td>\n",
       "      <td>22.9</td>\n",
       "      <td>0.326</td>\n",
       "      <td>22.0</td>\n",
       "    </tr>\n",
       "  </tbody>\n",
       "</table>\n",
       "</div>"
      ],
      "text/plain": [
       "     Glucose  BloodPressure  SkinThickness  Insulin   BMI  \\\n",
       "343    122.0           86.0            0.0      0.0  34.7   \n",
       "728    175.0           88.0            0.0      0.0  22.9   \n",
       "\n",
       "     DiabetesPedigreeFunction   Age  \n",
       "343                     0.290  33.0  \n",
       "728                     0.326  22.0  "
      ]
     },
     "execution_count": 150,
     "metadata": {},
     "output_type": "execute_result"
    }
   ],
   "source": [
    "x_test.head(2)"
   ]
  },
  {
   "cell_type": "code",
   "execution_count": 151,
   "id": "cb4e2366",
   "metadata": {},
   "outputs": [
    {
     "data": {
      "text/html": [
       "<style>#sk-container-id-1 {color: black;background-color: white;}#sk-container-id-1 pre{padding: 0;}#sk-container-id-1 div.sk-toggleable {background-color: white;}#sk-container-id-1 label.sk-toggleable__label {cursor: pointer;display: block;width: 100%;margin-bottom: 0;padding: 0.3em;box-sizing: border-box;text-align: center;}#sk-container-id-1 label.sk-toggleable__label-arrow:before {content: \"▸\";float: left;margin-right: 0.25em;color: #696969;}#sk-container-id-1 label.sk-toggleable__label-arrow:hover:before {color: black;}#sk-container-id-1 div.sk-estimator:hover label.sk-toggleable__label-arrow:before {color: black;}#sk-container-id-1 div.sk-toggleable__content {max-height: 0;max-width: 0;overflow: hidden;text-align: left;background-color: #f0f8ff;}#sk-container-id-1 div.sk-toggleable__content pre {margin: 0.2em;color: black;border-radius: 0.25em;background-color: #f0f8ff;}#sk-container-id-1 input.sk-toggleable__control:checked~div.sk-toggleable__content {max-height: 200px;max-width: 100%;overflow: auto;}#sk-container-id-1 input.sk-toggleable__control:checked~label.sk-toggleable__label-arrow:before {content: \"▾\";}#sk-container-id-1 div.sk-estimator input.sk-toggleable__control:checked~label.sk-toggleable__label {background-color: #d4ebff;}#sk-container-id-1 div.sk-label input.sk-toggleable__control:checked~label.sk-toggleable__label {background-color: #d4ebff;}#sk-container-id-1 input.sk-hidden--visually {border: 0;clip: rect(1px 1px 1px 1px);clip: rect(1px, 1px, 1px, 1px);height: 1px;margin: -1px;overflow: hidden;padding: 0;position: absolute;width: 1px;}#sk-container-id-1 div.sk-estimator {font-family: monospace;background-color: #f0f8ff;border: 1px dotted black;border-radius: 0.25em;box-sizing: border-box;margin-bottom: 0.5em;}#sk-container-id-1 div.sk-estimator:hover {background-color: #d4ebff;}#sk-container-id-1 div.sk-parallel-item::after {content: \"\";width: 100%;border-bottom: 1px solid gray;flex-grow: 1;}#sk-container-id-1 div.sk-label:hover label.sk-toggleable__label {background-color: #d4ebff;}#sk-container-id-1 div.sk-serial::before {content: \"\";position: absolute;border-left: 1px solid gray;box-sizing: border-box;top: 0;bottom: 0;left: 50%;z-index: 0;}#sk-container-id-1 div.sk-serial {display: flex;flex-direction: column;align-items: center;background-color: white;padding-right: 0.2em;padding-left: 0.2em;position: relative;}#sk-container-id-1 div.sk-item {position: relative;z-index: 1;}#sk-container-id-1 div.sk-parallel {display: flex;align-items: stretch;justify-content: center;background-color: white;position: relative;}#sk-container-id-1 div.sk-item::before, #sk-container-id-1 div.sk-parallel-item::before {content: \"\";position: absolute;border-left: 1px solid gray;box-sizing: border-box;top: 0;bottom: 0;left: 50%;z-index: -1;}#sk-container-id-1 div.sk-parallel-item {display: flex;flex-direction: column;z-index: 1;position: relative;background-color: white;}#sk-container-id-1 div.sk-parallel-item:first-child::after {align-self: flex-end;width: 50%;}#sk-container-id-1 div.sk-parallel-item:last-child::after {align-self: flex-start;width: 50%;}#sk-container-id-1 div.sk-parallel-item:only-child::after {width: 0;}#sk-container-id-1 div.sk-dashed-wrapped {border: 1px dashed gray;margin: 0 0.4em 0.5em 0.4em;box-sizing: border-box;padding-bottom: 0.4em;background-color: white;}#sk-container-id-1 div.sk-label label {font-family: monospace;font-weight: bold;display: inline-block;line-height: 1.2em;}#sk-container-id-1 div.sk-label-container {text-align: center;}#sk-container-id-1 div.sk-container {/* jupyter's `normalize.less` sets `[hidden] { display: none; }` but bootstrap.min.css set `[hidden] { display: none !important; }` so we also need the `!important` here to be able to override the default hidden behavior on the sphinx rendered scikit-learn.org. See: https://github.com/scikit-learn/scikit-learn/issues/21755 */display: inline-block !important;position: relative;}#sk-container-id-1 div.sk-text-repr-fallback {display: none;}</style><div id=\"sk-container-id-1\" class=\"sk-top-container\"><div class=\"sk-text-repr-fallback\"><pre>LinearRegression()</pre><b>In a Jupyter environment, please rerun this cell to show the HTML representation or trust the notebook. <br />On GitHub, the HTML representation is unable to render, please try loading this page with nbviewer.org.</b></div><div class=\"sk-container\" hidden><div class=\"sk-item\"><div class=\"sk-estimator sk-toggleable\"><input class=\"sk-toggleable__control sk-hidden--visually\" id=\"sk-estimator-id-1\" type=\"checkbox\" checked><label for=\"sk-estimator-id-1\" class=\"sk-toggleable__label sk-toggleable__label-arrow\">LinearRegression</label><div class=\"sk-toggleable__content\"><pre>LinearRegression()</pre></div></div></div></div></div>"
      ],
      "text/plain": [
       "LinearRegression()"
      ]
     },
     "execution_count": 151,
     "metadata": {},
     "output_type": "execute_result"
    }
   ],
   "source": [
    "LR.fit(x_train, y_train)"
   ]
  },
  {
   "cell_type": "code",
   "execution_count": 152,
   "id": "999f4453",
   "metadata": {},
   "outputs": [
    {
     "name": "stdout",
     "output_type": "stream",
     "text": [
      "MSE : 0.15345950361999083\n",
      "RMSE : 0.3917390759421261\n",
      "MAE : 0.3227069922329524\n",
      "r2 : 0.330561037761803\n"
     ]
    }
   ],
   "source": [
    "from sklearn.metrics import mean_squared_error as mse, mean_absolute_error as mae, r2_score\n",
    "\n",
    "# Evaluate for Training,\n",
    "\n",
    "y_pred_train= LR.predict(x_train)\n",
    "\n",
    "MSE =mse(y_train, y_pred_train)\n",
    "print('MSE :', MSE)\n",
    "\n",
    "RMSE= np.sqrt(MSE)\n",
    "print('RMSE :', RMSE)\n",
    "\n",
    "MAE = mae(y_train, y_pred_train)\n",
    "print('MAE :', MAE)\n",
    "\n",
    "r2= r2_score(y_train, y_pred_train)\n",
    "print('r2 :', r2)"
   ]
  },
  {
   "cell_type": "code",
   "execution_count": 153,
   "id": "b85f3bcc",
   "metadata": {},
   "outputs": [
    {
     "name": "stdout",
     "output_type": "stream",
     "text": [
      "MSE : 0.17158158732195186\n",
      "RMSE : 0.41422407863613125\n",
      "MAE : 0.3347026857350734\n",
      "r2 : 0.22170744001028253\n"
     ]
    }
   ],
   "source": [
    "# Evaluate for Testing,\n",
    "\n",
    "y_pred_test= LR.predict(x_test)\n",
    "\n",
    "MSE =mse(y_test, y_pred_test)\n",
    "print('MSE :', MSE)\n",
    "\n",
    "RMSE= np.sqrt(MSE)\n",
    "print('RMSE :', RMSE)\n",
    "\n",
    "MAE = mae(y_test, y_pred_test)\n",
    "print('MAE :', MAE)\n",
    "\n",
    "r2= r2_score(y_test, y_pred_test)\n",
    "print('r2 :', r2)"
   ]
  },
  {
   "cell_type": "markdown",
   "id": "72e12f90",
   "metadata": {},
   "source": [
    "# LO Reg"
   ]
  },
  {
   "cell_type": "code",
   "execution_count": 154,
   "id": "b58b58e4",
   "metadata": {},
   "outputs": [],
   "source": [
    "x_train, x_test, y_train, y_test = train_test_split(x,y, test_size=0.25, random_state= 15, stratify=y)"
   ]
  },
  {
   "cell_type": "code",
   "execution_count": 155,
   "id": "64e05dae",
   "metadata": {},
   "outputs": [],
   "source": [
    "LO =LogisticRegression()"
   ]
  },
  {
   "cell_type": "code",
   "execution_count": 156,
   "id": "94323c84",
   "metadata": {},
   "outputs": [
    {
     "data": {
      "text/html": [
       "<style>#sk-container-id-2 {color: black;background-color: white;}#sk-container-id-2 pre{padding: 0;}#sk-container-id-2 div.sk-toggleable {background-color: white;}#sk-container-id-2 label.sk-toggleable__label {cursor: pointer;display: block;width: 100%;margin-bottom: 0;padding: 0.3em;box-sizing: border-box;text-align: center;}#sk-container-id-2 label.sk-toggleable__label-arrow:before {content: \"▸\";float: left;margin-right: 0.25em;color: #696969;}#sk-container-id-2 label.sk-toggleable__label-arrow:hover:before {color: black;}#sk-container-id-2 div.sk-estimator:hover label.sk-toggleable__label-arrow:before {color: black;}#sk-container-id-2 div.sk-toggleable__content {max-height: 0;max-width: 0;overflow: hidden;text-align: left;background-color: #f0f8ff;}#sk-container-id-2 div.sk-toggleable__content pre {margin: 0.2em;color: black;border-radius: 0.25em;background-color: #f0f8ff;}#sk-container-id-2 input.sk-toggleable__control:checked~div.sk-toggleable__content {max-height: 200px;max-width: 100%;overflow: auto;}#sk-container-id-2 input.sk-toggleable__control:checked~label.sk-toggleable__label-arrow:before {content: \"▾\";}#sk-container-id-2 div.sk-estimator input.sk-toggleable__control:checked~label.sk-toggleable__label {background-color: #d4ebff;}#sk-container-id-2 div.sk-label input.sk-toggleable__control:checked~label.sk-toggleable__label {background-color: #d4ebff;}#sk-container-id-2 input.sk-hidden--visually {border: 0;clip: rect(1px 1px 1px 1px);clip: rect(1px, 1px, 1px, 1px);height: 1px;margin: -1px;overflow: hidden;padding: 0;position: absolute;width: 1px;}#sk-container-id-2 div.sk-estimator {font-family: monospace;background-color: #f0f8ff;border: 1px dotted black;border-radius: 0.25em;box-sizing: border-box;margin-bottom: 0.5em;}#sk-container-id-2 div.sk-estimator:hover {background-color: #d4ebff;}#sk-container-id-2 div.sk-parallel-item::after {content: \"\";width: 100%;border-bottom: 1px solid gray;flex-grow: 1;}#sk-container-id-2 div.sk-label:hover label.sk-toggleable__label {background-color: #d4ebff;}#sk-container-id-2 div.sk-serial::before {content: \"\";position: absolute;border-left: 1px solid gray;box-sizing: border-box;top: 0;bottom: 0;left: 50%;z-index: 0;}#sk-container-id-2 div.sk-serial {display: flex;flex-direction: column;align-items: center;background-color: white;padding-right: 0.2em;padding-left: 0.2em;position: relative;}#sk-container-id-2 div.sk-item {position: relative;z-index: 1;}#sk-container-id-2 div.sk-parallel {display: flex;align-items: stretch;justify-content: center;background-color: white;position: relative;}#sk-container-id-2 div.sk-item::before, #sk-container-id-2 div.sk-parallel-item::before {content: \"\";position: absolute;border-left: 1px solid gray;box-sizing: border-box;top: 0;bottom: 0;left: 50%;z-index: -1;}#sk-container-id-2 div.sk-parallel-item {display: flex;flex-direction: column;z-index: 1;position: relative;background-color: white;}#sk-container-id-2 div.sk-parallel-item:first-child::after {align-self: flex-end;width: 50%;}#sk-container-id-2 div.sk-parallel-item:last-child::after {align-self: flex-start;width: 50%;}#sk-container-id-2 div.sk-parallel-item:only-child::after {width: 0;}#sk-container-id-2 div.sk-dashed-wrapped {border: 1px dashed gray;margin: 0 0.4em 0.5em 0.4em;box-sizing: border-box;padding-bottom: 0.4em;background-color: white;}#sk-container-id-2 div.sk-label label {font-family: monospace;font-weight: bold;display: inline-block;line-height: 1.2em;}#sk-container-id-2 div.sk-label-container {text-align: center;}#sk-container-id-2 div.sk-container {/* jupyter's `normalize.less` sets `[hidden] { display: none; }` but bootstrap.min.css set `[hidden] { display: none !important; }` so we also need the `!important` here to be able to override the default hidden behavior on the sphinx rendered scikit-learn.org. See: https://github.com/scikit-learn/scikit-learn/issues/21755 */display: inline-block !important;position: relative;}#sk-container-id-2 div.sk-text-repr-fallback {display: none;}</style><div id=\"sk-container-id-2\" class=\"sk-top-container\"><div class=\"sk-text-repr-fallback\"><pre>LogisticRegression()</pre><b>In a Jupyter environment, please rerun this cell to show the HTML representation or trust the notebook. <br />On GitHub, the HTML representation is unable to render, please try loading this page with nbviewer.org.</b></div><div class=\"sk-container\" hidden><div class=\"sk-item\"><div class=\"sk-estimator sk-toggleable\"><input class=\"sk-toggleable__control sk-hidden--visually\" id=\"sk-estimator-id-2\" type=\"checkbox\" checked><label for=\"sk-estimator-id-2\" class=\"sk-toggleable__label sk-toggleable__label-arrow\">LogisticRegression</label><div class=\"sk-toggleable__content\"><pre>LogisticRegression()</pre></div></div></div></div></div>"
      ],
      "text/plain": [
       "LogisticRegression()"
      ]
     },
     "execution_count": 156,
     "metadata": {},
     "output_type": "execute_result"
    }
   ],
   "source": [
    "LO.fit(x_train,y_train)"
   ]
  },
  {
   "cell_type": "code",
   "execution_count": 157,
   "id": "a226115f",
   "metadata": {},
   "outputs": [
    {
     "name": "stdout",
     "output_type": "stream",
     "text": [
      "[[330  45]\n",
      " [ 81 120]]\n",
      "************************************************************************************************************************\n",
      "0.78125\n",
      "************************************************************************************************************************\n",
      "              precision    recall  f1-score   support\n",
      "\n",
      "           0       0.80      0.88      0.84       375\n",
      "           1       0.73      0.60      0.66       201\n",
      "\n",
      "    accuracy                           0.78       576\n",
      "   macro avg       0.77      0.74      0.75       576\n",
      "weighted avg       0.78      0.78      0.78       576\n",
      "\n"
     ]
    }
   ],
   "source": [
    "# Evaluation for Training,\n",
    "\n",
    "from sklearn.metrics import confusion_matrix, accuracy_score, classification_report\n",
    "\n",
    "y_pred_train= LO.predict(x_train)\n",
    "\n",
    "cnf = confusion_matrix(y_train, y_pred_train)\n",
    "print(cnf)\n",
    "\n",
    "print('****'*30)\n",
    "\n",
    "acc = accuracy_score(y_train, y_pred_train)\n",
    "print(acc)\n",
    "\n",
    "print('****'*30)\n",
    "\n",
    "clf_r = classification_report(y_train, y_pred_train)\n",
    "print(clf_r)"
   ]
  },
  {
   "cell_type": "code",
   "execution_count": 158,
   "id": "38f79be0",
   "metadata": {},
   "outputs": [
    {
     "name": "stdout",
     "output_type": "stream",
     "text": [
      "[[109  16]\n",
      " [ 32  35]]\n",
      "************************************************************************************************************************\n",
      "0.75\n",
      "************************************************************************************************************************\n",
      "              precision    recall  f1-score   support\n",
      "\n",
      "           0       0.77      0.87      0.82       125\n",
      "           1       0.69      0.52      0.59        67\n",
      "\n",
      "    accuracy                           0.75       192\n",
      "   macro avg       0.73      0.70      0.71       192\n",
      "weighted avg       0.74      0.75      0.74       192\n",
      "\n"
     ]
    }
   ],
   "source": [
    "# Evaluation for Testing,\n",
    "\n",
    "y_pred_test= LO.predict(x_test)\n",
    "\n",
    "cnf = confusion_matrix(y_test, y_pred_test)\n",
    "print(cnf)\n",
    "\n",
    "print('****'*30)\n",
    "\n",
    "acc = accuracy_score(y_test, y_pred_test)\n",
    "print(acc)\n",
    "\n",
    "print('****'*30)\n",
    "\n",
    "clf_r = classification_report(y_test, y_pred_test)\n",
    "print(clf_r)"
   ]
  },
  {
   "cell_type": "markdown",
   "id": "dec09ded",
   "metadata": {},
   "source": [
    "# KNN classifier"
   ]
  },
  {
   "cell_type": "code",
   "execution_count": 159,
   "id": "0520b743",
   "metadata": {},
   "outputs": [],
   "source": [
    "KNN = KNeighborsClassifier()"
   ]
  },
  {
   "cell_type": "code",
   "execution_count": 160,
   "id": "acf9b6fd",
   "metadata": {},
   "outputs": [
    {
     "data": {
      "text/html": [
       "<style>#sk-container-id-3 {color: black;background-color: white;}#sk-container-id-3 pre{padding: 0;}#sk-container-id-3 div.sk-toggleable {background-color: white;}#sk-container-id-3 label.sk-toggleable__label {cursor: pointer;display: block;width: 100%;margin-bottom: 0;padding: 0.3em;box-sizing: border-box;text-align: center;}#sk-container-id-3 label.sk-toggleable__label-arrow:before {content: \"▸\";float: left;margin-right: 0.25em;color: #696969;}#sk-container-id-3 label.sk-toggleable__label-arrow:hover:before {color: black;}#sk-container-id-3 div.sk-estimator:hover label.sk-toggleable__label-arrow:before {color: black;}#sk-container-id-3 div.sk-toggleable__content {max-height: 0;max-width: 0;overflow: hidden;text-align: left;background-color: #f0f8ff;}#sk-container-id-3 div.sk-toggleable__content pre {margin: 0.2em;color: black;border-radius: 0.25em;background-color: #f0f8ff;}#sk-container-id-3 input.sk-toggleable__control:checked~div.sk-toggleable__content {max-height: 200px;max-width: 100%;overflow: auto;}#sk-container-id-3 input.sk-toggleable__control:checked~label.sk-toggleable__label-arrow:before {content: \"▾\";}#sk-container-id-3 div.sk-estimator input.sk-toggleable__control:checked~label.sk-toggleable__label {background-color: #d4ebff;}#sk-container-id-3 div.sk-label input.sk-toggleable__control:checked~label.sk-toggleable__label {background-color: #d4ebff;}#sk-container-id-3 input.sk-hidden--visually {border: 0;clip: rect(1px 1px 1px 1px);clip: rect(1px, 1px, 1px, 1px);height: 1px;margin: -1px;overflow: hidden;padding: 0;position: absolute;width: 1px;}#sk-container-id-3 div.sk-estimator {font-family: monospace;background-color: #f0f8ff;border: 1px dotted black;border-radius: 0.25em;box-sizing: border-box;margin-bottom: 0.5em;}#sk-container-id-3 div.sk-estimator:hover {background-color: #d4ebff;}#sk-container-id-3 div.sk-parallel-item::after {content: \"\";width: 100%;border-bottom: 1px solid gray;flex-grow: 1;}#sk-container-id-3 div.sk-label:hover label.sk-toggleable__label {background-color: #d4ebff;}#sk-container-id-3 div.sk-serial::before {content: \"\";position: absolute;border-left: 1px solid gray;box-sizing: border-box;top: 0;bottom: 0;left: 50%;z-index: 0;}#sk-container-id-3 div.sk-serial {display: flex;flex-direction: column;align-items: center;background-color: white;padding-right: 0.2em;padding-left: 0.2em;position: relative;}#sk-container-id-3 div.sk-item {position: relative;z-index: 1;}#sk-container-id-3 div.sk-parallel {display: flex;align-items: stretch;justify-content: center;background-color: white;position: relative;}#sk-container-id-3 div.sk-item::before, #sk-container-id-3 div.sk-parallel-item::before {content: \"\";position: absolute;border-left: 1px solid gray;box-sizing: border-box;top: 0;bottom: 0;left: 50%;z-index: -1;}#sk-container-id-3 div.sk-parallel-item {display: flex;flex-direction: column;z-index: 1;position: relative;background-color: white;}#sk-container-id-3 div.sk-parallel-item:first-child::after {align-self: flex-end;width: 50%;}#sk-container-id-3 div.sk-parallel-item:last-child::after {align-self: flex-start;width: 50%;}#sk-container-id-3 div.sk-parallel-item:only-child::after {width: 0;}#sk-container-id-3 div.sk-dashed-wrapped {border: 1px dashed gray;margin: 0 0.4em 0.5em 0.4em;box-sizing: border-box;padding-bottom: 0.4em;background-color: white;}#sk-container-id-3 div.sk-label label {font-family: monospace;font-weight: bold;display: inline-block;line-height: 1.2em;}#sk-container-id-3 div.sk-label-container {text-align: center;}#sk-container-id-3 div.sk-container {/* jupyter's `normalize.less` sets `[hidden] { display: none; }` but bootstrap.min.css set `[hidden] { display: none !important; }` so we also need the `!important` here to be able to override the default hidden behavior on the sphinx rendered scikit-learn.org. See: https://github.com/scikit-learn/scikit-learn/issues/21755 */display: inline-block !important;position: relative;}#sk-container-id-3 div.sk-text-repr-fallback {display: none;}</style><div id=\"sk-container-id-3\" class=\"sk-top-container\"><div class=\"sk-text-repr-fallback\"><pre>KNeighborsClassifier()</pre><b>In a Jupyter environment, please rerun this cell to show the HTML representation or trust the notebook. <br />On GitHub, the HTML representation is unable to render, please try loading this page with nbviewer.org.</b></div><div class=\"sk-container\" hidden><div class=\"sk-item\"><div class=\"sk-estimator sk-toggleable\"><input class=\"sk-toggleable__control sk-hidden--visually\" id=\"sk-estimator-id-3\" type=\"checkbox\" checked><label for=\"sk-estimator-id-3\" class=\"sk-toggleable__label sk-toggleable__label-arrow\">KNeighborsClassifier</label><div class=\"sk-toggleable__content\"><pre>KNeighborsClassifier()</pre></div></div></div></div></div>"
      ],
      "text/plain": [
       "KNeighborsClassifier()"
      ]
     },
     "execution_count": 160,
     "metadata": {},
     "output_type": "execute_result"
    }
   ],
   "source": [
    "KNN.fit(x_train, y_train)"
   ]
  },
  {
   "cell_type": "code",
   "execution_count": 161,
   "id": "31d49b48",
   "metadata": {},
   "outputs": [
    {
     "name": "stdout",
     "output_type": "stream",
     "text": [
      "[[336  39]\n",
      " [ 69 132]]\n",
      "************************************************************************************************************************\n",
      "0.8125\n",
      "************************************************************************************************************************\n",
      "              precision    recall  f1-score   support\n",
      "\n",
      "           0       0.83      0.90      0.86       375\n",
      "           1       0.77      0.66      0.71       201\n",
      "\n",
      "    accuracy                           0.81       576\n",
      "   macro avg       0.80      0.78      0.79       576\n",
      "weighted avg       0.81      0.81      0.81       576\n",
      "\n"
     ]
    }
   ],
   "source": [
    "# Evaluation for Training,\n",
    "\n",
    "\n",
    "y_pred_train= KNN.predict(x_train)\n",
    "\n",
    "cnf = confusion_matrix(y_train, y_pred_train)\n",
    "print(cnf)\n",
    "\n",
    "print('****'*30)\n",
    "\n",
    "acc = accuracy_score(y_train, y_pred_train)\n",
    "print(acc)\n",
    "\n",
    "print('****'*30)\n",
    "\n",
    "clf_r = classification_report(y_train, y_pred_train)\n",
    "print(clf_r)"
   ]
  },
  {
   "cell_type": "code",
   "execution_count": 162,
   "id": "7ca27561",
   "metadata": {},
   "outputs": [
    {
     "name": "stdout",
     "output_type": "stream",
     "text": [
      "[[100  25]\n",
      " [ 32  35]]\n",
      "************************************************************************************************************************\n",
      "0.703125\n",
      "************************************************************************************************************************\n",
      "              precision    recall  f1-score   support\n",
      "\n",
      "           0       0.76      0.80      0.78       125\n",
      "           1       0.58      0.52      0.55        67\n",
      "\n",
      "    accuracy                           0.70       192\n",
      "   macro avg       0.67      0.66      0.66       192\n",
      "weighted avg       0.70      0.70      0.70       192\n",
      "\n"
     ]
    }
   ],
   "source": [
    "# Evaluation for Testing,\n",
    "\n",
    "y_pred_test= KNN.predict(x_test)\n",
    "\n",
    "cnf = confusion_matrix(y_test, y_pred_test)\n",
    "print(cnf)\n",
    "\n",
    "print('****'*30)\n",
    "\n",
    "acc = accuracy_score(y_test, y_pred_test)\n",
    "print(acc)\n",
    "\n",
    "print('****'*30)\n",
    "\n",
    "clf_r = classification_report(y_test, y_pred_test)\n",
    "print(clf_r)"
   ]
  },
  {
   "cell_type": "markdown",
   "id": "f378670f",
   "metadata": {},
   "source": [
    "## KNN_Scaling Model"
   ]
  },
  {
   "cell_type": "code",
   "execution_count": 163,
   "id": "c2a65505",
   "metadata": {},
   "outputs": [],
   "source": [
    "from sklearn.preprocessing import MinMaxScaler, StandardScaler"
   ]
  },
  {
   "cell_type": "markdown",
   "id": "3fbea022",
   "metadata": {},
   "source": [
    "### 1. Normalisation"
   ]
  },
  {
   "cell_type": "code",
   "execution_count": 164,
   "id": "512e7b60",
   "metadata": {},
   "outputs": [],
   "source": [
    "NS = MinMaxScaler()"
   ]
  },
  {
   "cell_type": "code",
   "execution_count": 165,
   "id": "bb4bfaf4",
   "metadata": {},
   "outputs": [
    {
     "data": {
      "text/html": [
       "<style>#sk-container-id-4 {color: black;background-color: white;}#sk-container-id-4 pre{padding: 0;}#sk-container-id-4 div.sk-toggleable {background-color: white;}#sk-container-id-4 label.sk-toggleable__label {cursor: pointer;display: block;width: 100%;margin-bottom: 0;padding: 0.3em;box-sizing: border-box;text-align: center;}#sk-container-id-4 label.sk-toggleable__label-arrow:before {content: \"▸\";float: left;margin-right: 0.25em;color: #696969;}#sk-container-id-4 label.sk-toggleable__label-arrow:hover:before {color: black;}#sk-container-id-4 div.sk-estimator:hover label.sk-toggleable__label-arrow:before {color: black;}#sk-container-id-4 div.sk-toggleable__content {max-height: 0;max-width: 0;overflow: hidden;text-align: left;background-color: #f0f8ff;}#sk-container-id-4 div.sk-toggleable__content pre {margin: 0.2em;color: black;border-radius: 0.25em;background-color: #f0f8ff;}#sk-container-id-4 input.sk-toggleable__control:checked~div.sk-toggleable__content {max-height: 200px;max-width: 100%;overflow: auto;}#sk-container-id-4 input.sk-toggleable__control:checked~label.sk-toggleable__label-arrow:before {content: \"▾\";}#sk-container-id-4 div.sk-estimator input.sk-toggleable__control:checked~label.sk-toggleable__label {background-color: #d4ebff;}#sk-container-id-4 div.sk-label input.sk-toggleable__control:checked~label.sk-toggleable__label {background-color: #d4ebff;}#sk-container-id-4 input.sk-hidden--visually {border: 0;clip: rect(1px 1px 1px 1px);clip: rect(1px, 1px, 1px, 1px);height: 1px;margin: -1px;overflow: hidden;padding: 0;position: absolute;width: 1px;}#sk-container-id-4 div.sk-estimator {font-family: monospace;background-color: #f0f8ff;border: 1px dotted black;border-radius: 0.25em;box-sizing: border-box;margin-bottom: 0.5em;}#sk-container-id-4 div.sk-estimator:hover {background-color: #d4ebff;}#sk-container-id-4 div.sk-parallel-item::after {content: \"\";width: 100%;border-bottom: 1px solid gray;flex-grow: 1;}#sk-container-id-4 div.sk-label:hover label.sk-toggleable__label {background-color: #d4ebff;}#sk-container-id-4 div.sk-serial::before {content: \"\";position: absolute;border-left: 1px solid gray;box-sizing: border-box;top: 0;bottom: 0;left: 50%;z-index: 0;}#sk-container-id-4 div.sk-serial {display: flex;flex-direction: column;align-items: center;background-color: white;padding-right: 0.2em;padding-left: 0.2em;position: relative;}#sk-container-id-4 div.sk-item {position: relative;z-index: 1;}#sk-container-id-4 div.sk-parallel {display: flex;align-items: stretch;justify-content: center;background-color: white;position: relative;}#sk-container-id-4 div.sk-item::before, #sk-container-id-4 div.sk-parallel-item::before {content: \"\";position: absolute;border-left: 1px solid gray;box-sizing: border-box;top: 0;bottom: 0;left: 50%;z-index: -1;}#sk-container-id-4 div.sk-parallel-item {display: flex;flex-direction: column;z-index: 1;position: relative;background-color: white;}#sk-container-id-4 div.sk-parallel-item:first-child::after {align-self: flex-end;width: 50%;}#sk-container-id-4 div.sk-parallel-item:last-child::after {align-self: flex-start;width: 50%;}#sk-container-id-4 div.sk-parallel-item:only-child::after {width: 0;}#sk-container-id-4 div.sk-dashed-wrapped {border: 1px dashed gray;margin: 0 0.4em 0.5em 0.4em;box-sizing: border-box;padding-bottom: 0.4em;background-color: white;}#sk-container-id-4 div.sk-label label {font-family: monospace;font-weight: bold;display: inline-block;line-height: 1.2em;}#sk-container-id-4 div.sk-label-container {text-align: center;}#sk-container-id-4 div.sk-container {/* jupyter's `normalize.less` sets `[hidden] { display: none; }` but bootstrap.min.css set `[hidden] { display: none !important; }` so we also need the `!important` here to be able to override the default hidden behavior on the sphinx rendered scikit-learn.org. See: https://github.com/scikit-learn/scikit-learn/issues/21755 */display: inline-block !important;position: relative;}#sk-container-id-4 div.sk-text-repr-fallback {display: none;}</style><div id=\"sk-container-id-4\" class=\"sk-top-container\"><div class=\"sk-text-repr-fallback\"><pre>MinMaxScaler()</pre><b>In a Jupyter environment, please rerun this cell to show the HTML representation or trust the notebook. <br />On GitHub, the HTML representation is unable to render, please try loading this page with nbviewer.org.</b></div><div class=\"sk-container\" hidden><div class=\"sk-item\"><div class=\"sk-estimator sk-toggleable\"><input class=\"sk-toggleable__control sk-hidden--visually\" id=\"sk-estimator-id-4\" type=\"checkbox\" checked><label for=\"sk-estimator-id-4\" class=\"sk-toggleable__label sk-toggleable__label-arrow\">MinMaxScaler</label><div class=\"sk-toggleable__content\"><pre>MinMaxScaler()</pre></div></div></div></div></div>"
      ],
      "text/plain": [
       "MinMaxScaler()"
      ]
     },
     "execution_count": 165,
     "metadata": {},
     "output_type": "execute_result"
    }
   ],
   "source": [
    "NS.fit(x_train)"
   ]
  },
  {
   "cell_type": "code",
   "execution_count": 166,
   "id": "ba09ab37",
   "metadata": {},
   "outputs": [
    {
     "data": {
      "text/html": [
       "<div>\n",
       "<style scoped>\n",
       "    .dataframe tbody tr th:only-of-type {\n",
       "        vertical-align: middle;\n",
       "    }\n",
       "\n",
       "    .dataframe tbody tr th {\n",
       "        vertical-align: top;\n",
       "    }\n",
       "\n",
       "    .dataframe thead th {\n",
       "        text-align: right;\n",
       "    }\n",
       "</style>\n",
       "<table border=\"1\" class=\"dataframe\">\n",
       "  <thead>\n",
       "    <tr style=\"text-align: right;\">\n",
       "      <th></th>\n",
       "      <th>Glucose</th>\n",
       "      <th>BloodPressure</th>\n",
       "      <th>SkinThickness</th>\n",
       "      <th>Insulin</th>\n",
       "      <th>BMI</th>\n",
       "      <th>DiabetesPedigreeFunction</th>\n",
       "      <th>Age</th>\n",
       "    </tr>\n",
       "  </thead>\n",
       "  <tbody>\n",
       "    <tr>\n",
       "      <th>0</th>\n",
       "      <td>0.265734</td>\n",
       "      <td>0.484848</td>\n",
       "      <td>0.285714</td>\n",
       "      <td>0.0</td>\n",
       "      <td>0.155556</td>\n",
       "      <td>0.461608</td>\n",
       "      <td>0.777778</td>\n",
       "    </tr>\n",
       "    <tr>\n",
       "      <th>1</th>\n",
       "      <td>0.167832</td>\n",
       "      <td>0.393939</td>\n",
       "      <td>0.476190</td>\n",
       "      <td>0.0</td>\n",
       "      <td>0.253968</td>\n",
       "      <td>0.206865</td>\n",
       "      <td>0.444444</td>\n",
       "    </tr>\n",
       "  </tbody>\n",
       "</table>\n",
       "</div>"
      ],
      "text/plain": [
       "    Glucose  BloodPressure  SkinThickness  Insulin       BMI  \\\n",
       "0  0.265734       0.484848       0.285714      0.0  0.155556   \n",
       "1  0.167832       0.393939       0.476190      0.0  0.253968   \n",
       "\n",
       "   DiabetesPedigreeFunction       Age  \n",
       "0                  0.461608  0.777778  \n",
       "1                  0.206865  0.444444  "
      ]
     },
     "execution_count": 166,
     "metadata": {},
     "output_type": "execute_result"
    }
   ],
   "source": [
    "#For Training Evaluation\n",
    "\n",
    "transform_train = NS.transform(x_train)\n",
    "x_train_NS = pd.DataFrame(transform_train, columns= x.columns)\n",
    "x_train_NS.head(2)"
   ]
  },
  {
   "cell_type": "code",
   "execution_count": 167,
   "id": "5749efc9",
   "metadata": {},
   "outputs": [
    {
     "data": {
      "text/html": [
       "<style>#sk-container-id-5 {color: black;background-color: white;}#sk-container-id-5 pre{padding: 0;}#sk-container-id-5 div.sk-toggleable {background-color: white;}#sk-container-id-5 label.sk-toggleable__label {cursor: pointer;display: block;width: 100%;margin-bottom: 0;padding: 0.3em;box-sizing: border-box;text-align: center;}#sk-container-id-5 label.sk-toggleable__label-arrow:before {content: \"▸\";float: left;margin-right: 0.25em;color: #696969;}#sk-container-id-5 label.sk-toggleable__label-arrow:hover:before {color: black;}#sk-container-id-5 div.sk-estimator:hover label.sk-toggleable__label-arrow:before {color: black;}#sk-container-id-5 div.sk-toggleable__content {max-height: 0;max-width: 0;overflow: hidden;text-align: left;background-color: #f0f8ff;}#sk-container-id-5 div.sk-toggleable__content pre {margin: 0.2em;color: black;border-radius: 0.25em;background-color: #f0f8ff;}#sk-container-id-5 input.sk-toggleable__control:checked~div.sk-toggleable__content {max-height: 200px;max-width: 100%;overflow: auto;}#sk-container-id-5 input.sk-toggleable__control:checked~label.sk-toggleable__label-arrow:before {content: \"▾\";}#sk-container-id-5 div.sk-estimator input.sk-toggleable__control:checked~label.sk-toggleable__label {background-color: #d4ebff;}#sk-container-id-5 div.sk-label input.sk-toggleable__control:checked~label.sk-toggleable__label {background-color: #d4ebff;}#sk-container-id-5 input.sk-hidden--visually {border: 0;clip: rect(1px 1px 1px 1px);clip: rect(1px, 1px, 1px, 1px);height: 1px;margin: -1px;overflow: hidden;padding: 0;position: absolute;width: 1px;}#sk-container-id-5 div.sk-estimator {font-family: monospace;background-color: #f0f8ff;border: 1px dotted black;border-radius: 0.25em;box-sizing: border-box;margin-bottom: 0.5em;}#sk-container-id-5 div.sk-estimator:hover {background-color: #d4ebff;}#sk-container-id-5 div.sk-parallel-item::after {content: \"\";width: 100%;border-bottom: 1px solid gray;flex-grow: 1;}#sk-container-id-5 div.sk-label:hover label.sk-toggleable__label {background-color: #d4ebff;}#sk-container-id-5 div.sk-serial::before {content: \"\";position: absolute;border-left: 1px solid gray;box-sizing: border-box;top: 0;bottom: 0;left: 50%;z-index: 0;}#sk-container-id-5 div.sk-serial {display: flex;flex-direction: column;align-items: center;background-color: white;padding-right: 0.2em;padding-left: 0.2em;position: relative;}#sk-container-id-5 div.sk-item {position: relative;z-index: 1;}#sk-container-id-5 div.sk-parallel {display: flex;align-items: stretch;justify-content: center;background-color: white;position: relative;}#sk-container-id-5 div.sk-item::before, #sk-container-id-5 div.sk-parallel-item::before {content: \"\";position: absolute;border-left: 1px solid gray;box-sizing: border-box;top: 0;bottom: 0;left: 50%;z-index: -1;}#sk-container-id-5 div.sk-parallel-item {display: flex;flex-direction: column;z-index: 1;position: relative;background-color: white;}#sk-container-id-5 div.sk-parallel-item:first-child::after {align-self: flex-end;width: 50%;}#sk-container-id-5 div.sk-parallel-item:last-child::after {align-self: flex-start;width: 50%;}#sk-container-id-5 div.sk-parallel-item:only-child::after {width: 0;}#sk-container-id-5 div.sk-dashed-wrapped {border: 1px dashed gray;margin: 0 0.4em 0.5em 0.4em;box-sizing: border-box;padding-bottom: 0.4em;background-color: white;}#sk-container-id-5 div.sk-label label {font-family: monospace;font-weight: bold;display: inline-block;line-height: 1.2em;}#sk-container-id-5 div.sk-label-container {text-align: center;}#sk-container-id-5 div.sk-container {/* jupyter's `normalize.less` sets `[hidden] { display: none; }` but bootstrap.min.css set `[hidden] { display: none !important; }` so we also need the `!important` here to be able to override the default hidden behavior on the sphinx rendered scikit-learn.org. See: https://github.com/scikit-learn/scikit-learn/issues/21755 */display: inline-block !important;position: relative;}#sk-container-id-5 div.sk-text-repr-fallback {display: none;}</style><div id=\"sk-container-id-5\" class=\"sk-top-container\"><div class=\"sk-text-repr-fallback\"><pre>KNeighborsClassifier()</pre><b>In a Jupyter environment, please rerun this cell to show the HTML representation or trust the notebook. <br />On GitHub, the HTML representation is unable to render, please try loading this page with nbviewer.org.</b></div><div class=\"sk-container\" hidden><div class=\"sk-item\"><div class=\"sk-estimator sk-toggleable\"><input class=\"sk-toggleable__control sk-hidden--visually\" id=\"sk-estimator-id-5\" type=\"checkbox\" checked><label for=\"sk-estimator-id-5\" class=\"sk-toggleable__label sk-toggleable__label-arrow\">KNeighborsClassifier</label><div class=\"sk-toggleable__content\"><pre>KNeighborsClassifier()</pre></div></div></div></div></div>"
      ],
      "text/plain": [
       "KNeighborsClassifier()"
      ]
     },
     "execution_count": 167,
     "metadata": {},
     "output_type": "execute_result"
    }
   ],
   "source": [
    "KNN_NS = KNeighborsClassifier()\n",
    "KNN_NS.fit(x_train_NS, y_train)"
   ]
  },
  {
   "cell_type": "code",
   "execution_count": 168,
   "id": "7d2d612d",
   "metadata": {},
   "outputs": [
    {
     "name": "stdout",
     "output_type": "stream",
     "text": [
      "[[336  39]\n",
      " [ 61 140]]\n",
      "************************************************************************************************************************\n",
      "0.8263888888888888\n",
      "************************************************************************************************************************\n",
      "              precision    recall  f1-score   support\n",
      "\n",
      "           0       0.85      0.90      0.87       375\n",
      "           1       0.78      0.70      0.74       201\n",
      "\n",
      "    accuracy                           0.83       576\n",
      "   macro avg       0.81      0.80      0.80       576\n",
      "weighted avg       0.82      0.83      0.82       576\n",
      "\n"
     ]
    }
   ],
   "source": [
    "y_pred_train = KNN_NS.predict(x_train_NS)\n",
    "\n",
    "cnf = confusion_matrix(y_train, y_pred_train)\n",
    "print(cnf)\n",
    "\n",
    "print('****'*30)\n",
    "\n",
    "acc = accuracy_score(y_train, y_pred_train)\n",
    "print(acc)\n",
    "\n",
    "print('****'*30)\n",
    "\n",
    "clf_r = classification_report(y_train, y_pred_train)\n",
    "print(clf_r)"
   ]
  },
  {
   "cell_type": "code",
   "execution_count": 169,
   "id": "bc972e00",
   "metadata": {},
   "outputs": [
    {
     "data": {
      "text/html": [
       "<div>\n",
       "<style scoped>\n",
       "    .dataframe tbody tr th:only-of-type {\n",
       "        vertical-align: middle;\n",
       "    }\n",
       "\n",
       "    .dataframe tbody tr th {\n",
       "        vertical-align: top;\n",
       "    }\n",
       "\n",
       "    .dataframe thead th {\n",
       "        text-align: right;\n",
       "    }\n",
       "</style>\n",
       "<table border=\"1\" class=\"dataframe\">\n",
       "  <thead>\n",
       "    <tr style=\"text-align: right;\">\n",
       "      <th></th>\n",
       "      <th>Glucose</th>\n",
       "      <th>BloodPressure</th>\n",
       "      <th>SkinThickness</th>\n",
       "      <th>Insulin</th>\n",
       "      <th>BMI</th>\n",
       "      <th>DiabetesPedigreeFunction</th>\n",
       "      <th>Age</th>\n",
       "    </tr>\n",
       "  </thead>\n",
       "  <tbody>\n",
       "    <tr>\n",
       "      <th>0</th>\n",
       "      <td>0.384615</td>\n",
       "      <td>0.484848</td>\n",
       "      <td>0.444444</td>\n",
       "      <td>0.000000</td>\n",
       "      <td>0.180952</td>\n",
       "      <td>0.291780</td>\n",
       "      <td>0.133333</td>\n",
       "    </tr>\n",
       "    <tr>\n",
       "      <th>1</th>\n",
       "      <td>0.580420</td>\n",
       "      <td>0.606061</td>\n",
       "      <td>0.555556</td>\n",
       "      <td>0.516129</td>\n",
       "      <td>0.425397</td>\n",
       "      <td>0.250226</td>\n",
       "      <td>0.088889</td>\n",
       "    </tr>\n",
       "  </tbody>\n",
       "</table>\n",
       "</div>"
      ],
      "text/plain": [
       "    Glucose  BloodPressure  SkinThickness   Insulin       BMI  \\\n",
       "0  0.384615       0.484848       0.444444  0.000000  0.180952   \n",
       "1  0.580420       0.606061       0.555556  0.516129  0.425397   \n",
       "\n",
       "   DiabetesPedigreeFunction       Age  \n",
       "0                  0.291780  0.133333  \n",
       "1                  0.250226  0.088889  "
      ]
     },
     "execution_count": 169,
     "metadata": {},
     "output_type": "execute_result"
    }
   ],
   "source": [
    "#For Testing Data Evaluation\n",
    "\n",
    "transform_test = NS.transform(x_test)\n",
    "x_test_NS = pd.DataFrame(transform_test, columns= x.columns)\n",
    "x_test_NS.head(2)"
   ]
  },
  {
   "cell_type": "code",
   "execution_count": 170,
   "id": "626f308e",
   "metadata": {},
   "outputs": [
    {
     "name": "stdout",
     "output_type": "stream",
     "text": [
      "[[94 31]\n",
      " [28 39]]\n",
      "************************************************************************************************************************\n",
      "0.6927083333333334\n",
      "************************************************************************************************************************\n",
      "              precision    recall  f1-score   support\n",
      "\n",
      "           0       0.77      0.75      0.76       125\n",
      "           1       0.56      0.58      0.57        67\n",
      "\n",
      "    accuracy                           0.69       192\n",
      "   macro avg       0.66      0.67      0.67       192\n",
      "weighted avg       0.70      0.69      0.69       192\n",
      "\n"
     ]
    }
   ],
   "source": [
    "y_pred_test = KNN_NS.predict(x_test_NS)\n",
    "\n",
    "cnf = confusion_matrix(y_test, y_pred_test)\n",
    "print(cnf)\n",
    "\n",
    "print('****'*30)\n",
    "\n",
    "acc = accuracy_score(y_test, y_pred_test)\n",
    "print(acc)\n",
    "\n",
    "print('****'*30)\n",
    "\n",
    "clf_r = classification_report(y_test, y_pred_test)\n",
    "print(clf_r)"
   ]
  },
  {
   "cell_type": "markdown",
   "id": "0b421047",
   "metadata": {},
   "source": [
    "## 2. Standardization"
   ]
  },
  {
   "cell_type": "code",
   "execution_count": 171,
   "id": "0ae3f203",
   "metadata": {},
   "outputs": [],
   "source": [
    "std = StandardScaler()"
   ]
  },
  {
   "cell_type": "code",
   "execution_count": 172,
   "id": "a0a53a83",
   "metadata": {},
   "outputs": [
    {
     "data": {
      "text/html": [
       "<style>#sk-container-id-6 {color: black;background-color: white;}#sk-container-id-6 pre{padding: 0;}#sk-container-id-6 div.sk-toggleable {background-color: white;}#sk-container-id-6 label.sk-toggleable__label {cursor: pointer;display: block;width: 100%;margin-bottom: 0;padding: 0.3em;box-sizing: border-box;text-align: center;}#sk-container-id-6 label.sk-toggleable__label-arrow:before {content: \"▸\";float: left;margin-right: 0.25em;color: #696969;}#sk-container-id-6 label.sk-toggleable__label-arrow:hover:before {color: black;}#sk-container-id-6 div.sk-estimator:hover label.sk-toggleable__label-arrow:before {color: black;}#sk-container-id-6 div.sk-toggleable__content {max-height: 0;max-width: 0;overflow: hidden;text-align: left;background-color: #f0f8ff;}#sk-container-id-6 div.sk-toggleable__content pre {margin: 0.2em;color: black;border-radius: 0.25em;background-color: #f0f8ff;}#sk-container-id-6 input.sk-toggleable__control:checked~div.sk-toggleable__content {max-height: 200px;max-width: 100%;overflow: auto;}#sk-container-id-6 input.sk-toggleable__control:checked~label.sk-toggleable__label-arrow:before {content: \"▾\";}#sk-container-id-6 div.sk-estimator input.sk-toggleable__control:checked~label.sk-toggleable__label {background-color: #d4ebff;}#sk-container-id-6 div.sk-label input.sk-toggleable__control:checked~label.sk-toggleable__label {background-color: #d4ebff;}#sk-container-id-6 input.sk-hidden--visually {border: 0;clip: rect(1px 1px 1px 1px);clip: rect(1px, 1px, 1px, 1px);height: 1px;margin: -1px;overflow: hidden;padding: 0;position: absolute;width: 1px;}#sk-container-id-6 div.sk-estimator {font-family: monospace;background-color: #f0f8ff;border: 1px dotted black;border-radius: 0.25em;box-sizing: border-box;margin-bottom: 0.5em;}#sk-container-id-6 div.sk-estimator:hover {background-color: #d4ebff;}#sk-container-id-6 div.sk-parallel-item::after {content: \"\";width: 100%;border-bottom: 1px solid gray;flex-grow: 1;}#sk-container-id-6 div.sk-label:hover label.sk-toggleable__label {background-color: #d4ebff;}#sk-container-id-6 div.sk-serial::before {content: \"\";position: absolute;border-left: 1px solid gray;box-sizing: border-box;top: 0;bottom: 0;left: 50%;z-index: 0;}#sk-container-id-6 div.sk-serial {display: flex;flex-direction: column;align-items: center;background-color: white;padding-right: 0.2em;padding-left: 0.2em;position: relative;}#sk-container-id-6 div.sk-item {position: relative;z-index: 1;}#sk-container-id-6 div.sk-parallel {display: flex;align-items: stretch;justify-content: center;background-color: white;position: relative;}#sk-container-id-6 div.sk-item::before, #sk-container-id-6 div.sk-parallel-item::before {content: \"\";position: absolute;border-left: 1px solid gray;box-sizing: border-box;top: 0;bottom: 0;left: 50%;z-index: -1;}#sk-container-id-6 div.sk-parallel-item {display: flex;flex-direction: column;z-index: 1;position: relative;background-color: white;}#sk-container-id-6 div.sk-parallel-item:first-child::after {align-self: flex-end;width: 50%;}#sk-container-id-6 div.sk-parallel-item:last-child::after {align-self: flex-start;width: 50%;}#sk-container-id-6 div.sk-parallel-item:only-child::after {width: 0;}#sk-container-id-6 div.sk-dashed-wrapped {border: 1px dashed gray;margin: 0 0.4em 0.5em 0.4em;box-sizing: border-box;padding-bottom: 0.4em;background-color: white;}#sk-container-id-6 div.sk-label label {font-family: monospace;font-weight: bold;display: inline-block;line-height: 1.2em;}#sk-container-id-6 div.sk-label-container {text-align: center;}#sk-container-id-6 div.sk-container {/* jupyter's `normalize.less` sets `[hidden] { display: none; }` but bootstrap.min.css set `[hidden] { display: none !important; }` so we also need the `!important` here to be able to override the default hidden behavior on the sphinx rendered scikit-learn.org. See: https://github.com/scikit-learn/scikit-learn/issues/21755 */display: inline-block !important;position: relative;}#sk-container-id-6 div.sk-text-repr-fallback {display: none;}</style><div id=\"sk-container-id-6\" class=\"sk-top-container\"><div class=\"sk-text-repr-fallback\"><pre>StandardScaler()</pre><b>In a Jupyter environment, please rerun this cell to show the HTML representation or trust the notebook. <br />On GitHub, the HTML representation is unable to render, please try loading this page with nbviewer.org.</b></div><div class=\"sk-container\" hidden><div class=\"sk-item\"><div class=\"sk-estimator sk-toggleable\"><input class=\"sk-toggleable__control sk-hidden--visually\" id=\"sk-estimator-id-6\" type=\"checkbox\" checked><label for=\"sk-estimator-id-6\" class=\"sk-toggleable__label sk-toggleable__label-arrow\">StandardScaler</label><div class=\"sk-toggleable__content\"><pre>StandardScaler()</pre></div></div></div></div></div>"
      ],
      "text/plain": [
       "StandardScaler()"
      ]
     },
     "execution_count": 172,
     "metadata": {},
     "output_type": "execute_result"
    }
   ],
   "source": [
    "std.fit(x_train)"
   ]
  },
  {
   "cell_type": "code",
   "execution_count": 173,
   "id": "5063a4fd",
   "metadata": {},
   "outputs": [
    {
     "data": {
      "text/html": [
       "<div>\n",
       "<style scoped>\n",
       "    .dataframe tbody tr th:only-of-type {\n",
       "        vertical-align: middle;\n",
       "    }\n",
       "\n",
       "    .dataframe tbody tr th {\n",
       "        vertical-align: top;\n",
       "    }\n",
       "\n",
       "    .dataframe thead th {\n",
       "        text-align: right;\n",
       "    }\n",
       "</style>\n",
       "<table border=\"1\" class=\"dataframe\">\n",
       "  <thead>\n",
       "    <tr style=\"text-align: right;\">\n",
       "      <th></th>\n",
       "      <th>Glucose</th>\n",
       "      <th>BloodPressure</th>\n",
       "      <th>SkinThickness</th>\n",
       "      <th>Insulin</th>\n",
       "      <th>BMI</th>\n",
       "      <th>DiabetesPedigreeFunction</th>\n",
       "      <th>Age</th>\n",
       "    </tr>\n",
       "  </thead>\n",
       "  <tbody>\n",
       "    <tr>\n",
       "      <th>0</th>\n",
       "      <td>-0.932717</td>\n",
       "      <td>-0.022352</td>\n",
       "      <td>-0.146090</td>\n",
       "      <td>-0.802961</td>\n",
       "      <td>-1.468624</td>\n",
       "      <td>0.632268</td>\n",
       "      <td>2.044856</td>\n",
       "    </tr>\n",
       "    <tr>\n",
       "      <th>1</th>\n",
       "      <td>-1.401937</td>\n",
       "      <td>-0.553542</td>\n",
       "      <td>0.616905</td>\n",
       "      <td>-0.802961</td>\n",
       "      <td>-0.975785</td>\n",
       "      <td>-0.493505</td>\n",
       "      <td>0.705507</td>\n",
       "    </tr>\n",
       "  </tbody>\n",
       "</table>\n",
       "</div>"
      ],
      "text/plain": [
       "    Glucose  BloodPressure  SkinThickness   Insulin       BMI  \\\n",
       "0 -0.932717      -0.022352      -0.146090 -0.802961 -1.468624   \n",
       "1 -1.401937      -0.553542       0.616905 -0.802961 -0.975785   \n",
       "\n",
       "   DiabetesPedigreeFunction       Age  \n",
       "0                  0.632268  2.044856  \n",
       "1                 -0.493505  0.705507  "
      ]
     },
     "execution_count": 173,
     "metadata": {},
     "output_type": "execute_result"
    }
   ],
   "source": [
    "#Training Evaluation\n",
    "\n",
    "transform_train = std.transform(x_train)\n",
    "x_train_std = pd.DataFrame(transform_train, columns = x.columns)\n",
    "x_train_std.head(2)"
   ]
  },
  {
   "cell_type": "code",
   "execution_count": 174,
   "id": "1bbbebc9",
   "metadata": {},
   "outputs": [
    {
     "data": {
      "text/html": [
       "<style>#sk-container-id-7 {color: black;background-color: white;}#sk-container-id-7 pre{padding: 0;}#sk-container-id-7 div.sk-toggleable {background-color: white;}#sk-container-id-7 label.sk-toggleable__label {cursor: pointer;display: block;width: 100%;margin-bottom: 0;padding: 0.3em;box-sizing: border-box;text-align: center;}#sk-container-id-7 label.sk-toggleable__label-arrow:before {content: \"▸\";float: left;margin-right: 0.25em;color: #696969;}#sk-container-id-7 label.sk-toggleable__label-arrow:hover:before {color: black;}#sk-container-id-7 div.sk-estimator:hover label.sk-toggleable__label-arrow:before {color: black;}#sk-container-id-7 div.sk-toggleable__content {max-height: 0;max-width: 0;overflow: hidden;text-align: left;background-color: #f0f8ff;}#sk-container-id-7 div.sk-toggleable__content pre {margin: 0.2em;color: black;border-radius: 0.25em;background-color: #f0f8ff;}#sk-container-id-7 input.sk-toggleable__control:checked~div.sk-toggleable__content {max-height: 200px;max-width: 100%;overflow: auto;}#sk-container-id-7 input.sk-toggleable__control:checked~label.sk-toggleable__label-arrow:before {content: \"▾\";}#sk-container-id-7 div.sk-estimator input.sk-toggleable__control:checked~label.sk-toggleable__label {background-color: #d4ebff;}#sk-container-id-7 div.sk-label input.sk-toggleable__control:checked~label.sk-toggleable__label {background-color: #d4ebff;}#sk-container-id-7 input.sk-hidden--visually {border: 0;clip: rect(1px 1px 1px 1px);clip: rect(1px, 1px, 1px, 1px);height: 1px;margin: -1px;overflow: hidden;padding: 0;position: absolute;width: 1px;}#sk-container-id-7 div.sk-estimator {font-family: monospace;background-color: #f0f8ff;border: 1px dotted black;border-radius: 0.25em;box-sizing: border-box;margin-bottom: 0.5em;}#sk-container-id-7 div.sk-estimator:hover {background-color: #d4ebff;}#sk-container-id-7 div.sk-parallel-item::after {content: \"\";width: 100%;border-bottom: 1px solid gray;flex-grow: 1;}#sk-container-id-7 div.sk-label:hover label.sk-toggleable__label {background-color: #d4ebff;}#sk-container-id-7 div.sk-serial::before {content: \"\";position: absolute;border-left: 1px solid gray;box-sizing: border-box;top: 0;bottom: 0;left: 50%;z-index: 0;}#sk-container-id-7 div.sk-serial {display: flex;flex-direction: column;align-items: center;background-color: white;padding-right: 0.2em;padding-left: 0.2em;position: relative;}#sk-container-id-7 div.sk-item {position: relative;z-index: 1;}#sk-container-id-7 div.sk-parallel {display: flex;align-items: stretch;justify-content: center;background-color: white;position: relative;}#sk-container-id-7 div.sk-item::before, #sk-container-id-7 div.sk-parallel-item::before {content: \"\";position: absolute;border-left: 1px solid gray;box-sizing: border-box;top: 0;bottom: 0;left: 50%;z-index: -1;}#sk-container-id-7 div.sk-parallel-item {display: flex;flex-direction: column;z-index: 1;position: relative;background-color: white;}#sk-container-id-7 div.sk-parallel-item:first-child::after {align-self: flex-end;width: 50%;}#sk-container-id-7 div.sk-parallel-item:last-child::after {align-self: flex-start;width: 50%;}#sk-container-id-7 div.sk-parallel-item:only-child::after {width: 0;}#sk-container-id-7 div.sk-dashed-wrapped {border: 1px dashed gray;margin: 0 0.4em 0.5em 0.4em;box-sizing: border-box;padding-bottom: 0.4em;background-color: white;}#sk-container-id-7 div.sk-label label {font-family: monospace;font-weight: bold;display: inline-block;line-height: 1.2em;}#sk-container-id-7 div.sk-label-container {text-align: center;}#sk-container-id-7 div.sk-container {/* jupyter's `normalize.less` sets `[hidden] { display: none; }` but bootstrap.min.css set `[hidden] { display: none !important; }` so we also need the `!important` here to be able to override the default hidden behavior on the sphinx rendered scikit-learn.org. See: https://github.com/scikit-learn/scikit-learn/issues/21755 */display: inline-block !important;position: relative;}#sk-container-id-7 div.sk-text-repr-fallback {display: none;}</style><div id=\"sk-container-id-7\" class=\"sk-top-container\"><div class=\"sk-text-repr-fallback\"><pre>KNeighborsClassifier()</pre><b>In a Jupyter environment, please rerun this cell to show the HTML representation or trust the notebook. <br />On GitHub, the HTML representation is unable to render, please try loading this page with nbviewer.org.</b></div><div class=\"sk-container\" hidden><div class=\"sk-item\"><div class=\"sk-estimator sk-toggleable\"><input class=\"sk-toggleable__control sk-hidden--visually\" id=\"sk-estimator-id-7\" type=\"checkbox\" checked><label for=\"sk-estimator-id-7\" class=\"sk-toggleable__label sk-toggleable__label-arrow\">KNeighborsClassifier</label><div class=\"sk-toggleable__content\"><pre>KNeighborsClassifier()</pre></div></div></div></div></div>"
      ],
      "text/plain": [
       "KNeighborsClassifier()"
      ]
     },
     "execution_count": 174,
     "metadata": {},
     "output_type": "execute_result"
    }
   ],
   "source": [
    "KNN_std = KNeighborsClassifier()\n",
    "KNN_std.fit(x_train_std, y_train)"
   ]
  },
  {
   "cell_type": "code",
   "execution_count": 175,
   "id": "c63d8379",
   "metadata": {},
   "outputs": [
    {
     "name": "stdout",
     "output_type": "stream",
     "text": [
      "[[336  39]\n",
      " [ 56 145]]\n",
      "************************************************************************************************************************\n",
      "0.8350694444444444\n",
      "************************************************************************************************************************\n",
      "              precision    recall  f1-score   support\n",
      "\n",
      "           0       0.86      0.90      0.88       375\n",
      "           1       0.79      0.72      0.75       201\n",
      "\n",
      "    accuracy                           0.84       576\n",
      "   macro avg       0.82      0.81      0.81       576\n",
      "weighted avg       0.83      0.84      0.83       576\n",
      "\n"
     ]
    }
   ],
   "source": [
    "y_pred_train = KNN_std.predict(x_train_std)\n",
    "\n",
    "cnf = confusion_matrix(y_train, y_pred_train)\n",
    "print(cnf)\n",
    "\n",
    "print('****'*30)\n",
    "\n",
    "acc = accuracy_score(y_train, y_pred_train)\n",
    "print(acc)\n",
    "\n",
    "print('****'*30)\n",
    "\n",
    "clf_r = classification_report(y_train, y_pred_train)\n",
    "print(clf_r)"
   ]
  },
  {
   "cell_type": "code",
   "execution_count": 176,
   "id": "57283272",
   "metadata": {},
   "outputs": [
    {
     "data": {
      "text/html": [
       "<div>\n",
       "<style scoped>\n",
       "    .dataframe tbody tr th:only-of-type {\n",
       "        vertical-align: middle;\n",
       "    }\n",
       "\n",
       "    .dataframe tbody tr th {\n",
       "        vertical-align: top;\n",
       "    }\n",
       "\n",
       "    .dataframe thead th {\n",
       "        text-align: right;\n",
       "    }\n",
       "</style>\n",
       "<table border=\"1\" class=\"dataframe\">\n",
       "  <thead>\n",
       "    <tr style=\"text-align: right;\">\n",
       "      <th></th>\n",
       "      <th>Glucose</th>\n",
       "      <th>BloodPressure</th>\n",
       "      <th>SkinThickness</th>\n",
       "      <th>Insulin</th>\n",
       "      <th>BMI</th>\n",
       "      <th>DiabetesPedigreeFunction</th>\n",
       "      <th>Age</th>\n",
       "    </tr>\n",
       "  </thead>\n",
       "  <tbody>\n",
       "    <tr>\n",
       "      <th>0</th>\n",
       "      <td>-0.36295</td>\n",
       "      <td>-0.022352</td>\n",
       "      <td>0.489739</td>\n",
       "      <td>-0.802961</td>\n",
       "      <td>-1.341440</td>\n",
       "      <td>-0.118247</td>\n",
       "      <td>-0.544552</td>\n",
       "    </tr>\n",
       "    <tr>\n",
       "      <th>1</th>\n",
       "      <td>0.57549</td>\n",
       "      <td>0.685902</td>\n",
       "      <td>0.934819</td>\n",
       "      <td>1.295805</td>\n",
       "      <td>-0.117291</td>\n",
       "      <td>-0.301884</td>\n",
       "      <td>-0.723132</td>\n",
       "    </tr>\n",
       "  </tbody>\n",
       "</table>\n",
       "</div>"
      ],
      "text/plain": [
       "   Glucose  BloodPressure  SkinThickness   Insulin       BMI  \\\n",
       "0 -0.36295      -0.022352       0.489739 -0.802961 -1.341440   \n",
       "1  0.57549       0.685902       0.934819  1.295805 -0.117291   \n",
       "\n",
       "   DiabetesPedigreeFunction       Age  \n",
       "0                 -0.118247 -0.544552  \n",
       "1                 -0.301884 -0.723132  "
      ]
     },
     "execution_count": 176,
     "metadata": {},
     "output_type": "execute_result"
    }
   ],
   "source": [
    "#Testing Evaluation\n",
    "\n",
    "transform_test = std.transform(x_test)\n",
    "x_test_std = pd.DataFrame(transform_test, columns = x.columns)\n",
    "x_test_std.head(2)"
   ]
  },
  {
   "cell_type": "code",
   "execution_count": 177,
   "id": "341c457f",
   "metadata": {},
   "outputs": [
    {
     "name": "stdout",
     "output_type": "stream",
     "text": [
      "[[97 28]\n",
      " [32 35]]\n",
      "************************************************************************************************************************\n",
      "0.6875\n",
      "************************************************************************************************************************\n",
      "              precision    recall  f1-score   support\n",
      "\n",
      "           0       0.75      0.78      0.76       125\n",
      "           1       0.56      0.52      0.54        67\n",
      "\n",
      "    accuracy                           0.69       192\n",
      "   macro avg       0.65      0.65      0.65       192\n",
      "weighted avg       0.68      0.69      0.69       192\n",
      "\n"
     ]
    }
   ],
   "source": [
    "y_pred_test = KNN_std.predict(x_test_std)\n",
    "\n",
    "cnf = confusion_matrix(y_test, y_pred_test)\n",
    "print(cnf)\n",
    "\n",
    "print('****'*30)\n",
    "\n",
    "acc = accuracy_score(y_test, y_pred_test)\n",
    "print(acc)\n",
    "\n",
    "print('****'*30)\n",
    "\n",
    "clf_r = classification_report(y_test, y_pred_test)\n",
    "print(clf_r)"
   ]
  },
  {
   "cell_type": "markdown",
   "id": "6849d517",
   "metadata": {},
   "source": [
    "## KNN_Hyper Parameter Model"
   ]
  },
  {
   "cell_type": "code",
   "execution_count": 178,
   "id": "6e982cc2",
   "metadata": {},
   "outputs": [],
   "source": [
    "from sklearn.model_selection import GridSearchCV"
   ]
  },
  {
   "cell_type": "code",
   "execution_count": 179,
   "id": "3b2ee8e4",
   "metadata": {},
   "outputs": [],
   "source": [
    "KNN_hyp = KNeighborsClassifier()"
   ]
  },
  {
   "cell_type": "code",
   "execution_count": 180,
   "id": "9cf06cb9",
   "metadata": {},
   "outputs": [
    {
     "data": {
      "text/html": [
       "<style>#sk-container-id-8 {color: black;background-color: white;}#sk-container-id-8 pre{padding: 0;}#sk-container-id-8 div.sk-toggleable {background-color: white;}#sk-container-id-8 label.sk-toggleable__label {cursor: pointer;display: block;width: 100%;margin-bottom: 0;padding: 0.3em;box-sizing: border-box;text-align: center;}#sk-container-id-8 label.sk-toggleable__label-arrow:before {content: \"▸\";float: left;margin-right: 0.25em;color: #696969;}#sk-container-id-8 label.sk-toggleable__label-arrow:hover:before {color: black;}#sk-container-id-8 div.sk-estimator:hover label.sk-toggleable__label-arrow:before {color: black;}#sk-container-id-8 div.sk-toggleable__content {max-height: 0;max-width: 0;overflow: hidden;text-align: left;background-color: #f0f8ff;}#sk-container-id-8 div.sk-toggleable__content pre {margin: 0.2em;color: black;border-radius: 0.25em;background-color: #f0f8ff;}#sk-container-id-8 input.sk-toggleable__control:checked~div.sk-toggleable__content {max-height: 200px;max-width: 100%;overflow: auto;}#sk-container-id-8 input.sk-toggleable__control:checked~label.sk-toggleable__label-arrow:before {content: \"▾\";}#sk-container-id-8 div.sk-estimator input.sk-toggleable__control:checked~label.sk-toggleable__label {background-color: #d4ebff;}#sk-container-id-8 div.sk-label input.sk-toggleable__control:checked~label.sk-toggleable__label {background-color: #d4ebff;}#sk-container-id-8 input.sk-hidden--visually {border: 0;clip: rect(1px 1px 1px 1px);clip: rect(1px, 1px, 1px, 1px);height: 1px;margin: -1px;overflow: hidden;padding: 0;position: absolute;width: 1px;}#sk-container-id-8 div.sk-estimator {font-family: monospace;background-color: #f0f8ff;border: 1px dotted black;border-radius: 0.25em;box-sizing: border-box;margin-bottom: 0.5em;}#sk-container-id-8 div.sk-estimator:hover {background-color: #d4ebff;}#sk-container-id-8 div.sk-parallel-item::after {content: \"\";width: 100%;border-bottom: 1px solid gray;flex-grow: 1;}#sk-container-id-8 div.sk-label:hover label.sk-toggleable__label {background-color: #d4ebff;}#sk-container-id-8 div.sk-serial::before {content: \"\";position: absolute;border-left: 1px solid gray;box-sizing: border-box;top: 0;bottom: 0;left: 50%;z-index: 0;}#sk-container-id-8 div.sk-serial {display: flex;flex-direction: column;align-items: center;background-color: white;padding-right: 0.2em;padding-left: 0.2em;position: relative;}#sk-container-id-8 div.sk-item {position: relative;z-index: 1;}#sk-container-id-8 div.sk-parallel {display: flex;align-items: stretch;justify-content: center;background-color: white;position: relative;}#sk-container-id-8 div.sk-item::before, #sk-container-id-8 div.sk-parallel-item::before {content: \"\";position: absolute;border-left: 1px solid gray;box-sizing: border-box;top: 0;bottom: 0;left: 50%;z-index: -1;}#sk-container-id-8 div.sk-parallel-item {display: flex;flex-direction: column;z-index: 1;position: relative;background-color: white;}#sk-container-id-8 div.sk-parallel-item:first-child::after {align-self: flex-end;width: 50%;}#sk-container-id-8 div.sk-parallel-item:last-child::after {align-self: flex-start;width: 50%;}#sk-container-id-8 div.sk-parallel-item:only-child::after {width: 0;}#sk-container-id-8 div.sk-dashed-wrapped {border: 1px dashed gray;margin: 0 0.4em 0.5em 0.4em;box-sizing: border-box;padding-bottom: 0.4em;background-color: white;}#sk-container-id-8 div.sk-label label {font-family: monospace;font-weight: bold;display: inline-block;line-height: 1.2em;}#sk-container-id-8 div.sk-label-container {text-align: center;}#sk-container-id-8 div.sk-container {/* jupyter's `normalize.less` sets `[hidden] { display: none; }` but bootstrap.min.css set `[hidden] { display: none !important; }` so we also need the `!important` here to be able to override the default hidden behavior on the sphinx rendered scikit-learn.org. See: https://github.com/scikit-learn/scikit-learn/issues/21755 */display: inline-block !important;position: relative;}#sk-container-id-8 div.sk-text-repr-fallback {display: none;}</style><div id=\"sk-container-id-8\" class=\"sk-top-container\"><div class=\"sk-text-repr-fallback\"><pre>KNeighborsClassifier(metric=&#x27;manhattan&#x27;, n_neighbors=23, p=1,\n",
       "                     weights=&#x27;distance&#x27;)</pre><b>In a Jupyter environment, please rerun this cell to show the HTML representation or trust the notebook. <br />On GitHub, the HTML representation is unable to render, please try loading this page with nbviewer.org.</b></div><div class=\"sk-container\" hidden><div class=\"sk-item\"><div class=\"sk-estimator sk-toggleable\"><input class=\"sk-toggleable__control sk-hidden--visually\" id=\"sk-estimator-id-8\" type=\"checkbox\" checked><label for=\"sk-estimator-id-8\" class=\"sk-toggleable__label sk-toggleable__label-arrow\">KNeighborsClassifier</label><div class=\"sk-toggleable__content\"><pre>KNeighborsClassifier(metric=&#x27;manhattan&#x27;, n_neighbors=23, p=1,\n",
       "                     weights=&#x27;distance&#x27;)</pre></div></div></div></div></div>"
      ],
      "text/plain": [
       "KNeighborsClassifier(metric='manhattan', n_neighbors=23, p=1,\n",
       "                     weights='distance')"
      ]
     },
     "execution_count": 180,
     "metadata": {},
     "output_type": "execute_result"
    }
   ],
   "source": [
    "hyp= {'n_neighbors' : np.arange(15,25),\n",
    "      'p' : [1,2],\n",
    "      'weights' : ['uniform', 'distance'],\n",
    "      'metric' : ['euclidean', 'manhattan', 'minkowski']}\n",
    "\n",
    "gscv_KNN = GridSearchCV(KNN_hyp, hyp, cv=5)\n",
    "gscv_KNN.fit(x_train, y_train)\n",
    "\n",
    "gscv_KNN.best_estimator_"
   ]
  },
  {
   "cell_type": "code",
   "execution_count": 181,
   "id": "f0a3a6bf",
   "metadata": {},
   "outputs": [],
   "source": [
    "KNN_hy = gscv_KNN.best_estimator_"
   ]
  },
  {
   "cell_type": "code",
   "execution_count": 182,
   "id": "e55135d5",
   "metadata": {},
   "outputs": [
    {
     "name": "stdout",
     "output_type": "stream",
     "text": [
      "[[375   0]\n",
      " [  0 201]]\n",
      "************************************************************************************************************************\n",
      "1.0\n",
      "************************************************************************************************************************\n",
      "              precision    recall  f1-score   support\n",
      "\n",
      "           0       1.00      1.00      1.00       375\n",
      "           1       1.00      1.00      1.00       201\n",
      "\n",
      "    accuracy                           1.00       576\n",
      "   macro avg       1.00      1.00      1.00       576\n",
      "weighted avg       1.00      1.00      1.00       576\n",
      "\n"
     ]
    }
   ],
   "source": [
    "# Evaluation for Training,\n",
    "\n",
    "\n",
    "y_pred_train= KNN_hy.predict(x_train)\n",
    "\n",
    "cnf = confusion_matrix(y_train, y_pred_train)\n",
    "print(cnf)\n",
    "\n",
    "print('****'*30)\n",
    "\n",
    "acc = accuracy_score(y_train, y_pred_train)\n",
    "print(acc)\n",
    "\n",
    "print('****'*30)\n",
    "\n",
    "clf_r = classification_report(y_train, y_pred_train)\n",
    "print(clf_r)"
   ]
  },
  {
   "cell_type": "code",
   "execution_count": 183,
   "id": "300e38c9",
   "metadata": {},
   "outputs": [
    {
     "name": "stdout",
     "output_type": "stream",
     "text": [
      "[[106  19]\n",
      " [ 31  36]]\n",
      "************************************************************************************************************************\n",
      "0.7395833333333334\n",
      "************************************************************************************************************************\n",
      "              precision    recall  f1-score   support\n",
      "\n",
      "           0       0.77      0.85      0.81       125\n",
      "           1       0.65      0.54      0.59        67\n",
      "\n",
      "    accuracy                           0.74       192\n",
      "   macro avg       0.71      0.69      0.70       192\n",
      "weighted avg       0.73      0.74      0.73       192\n",
      "\n"
     ]
    }
   ],
   "source": [
    "# Evaluation for Testing,\n",
    "\n",
    "y_pred_test= KNN_hy.predict(x_test)\n",
    "\n",
    "cnf = confusion_matrix(y_test, y_pred_test)\n",
    "print(cnf)\n",
    "\n",
    "print('****'*30)\n",
    "\n",
    "acc = accuracy_score(y_test, y_pred_test)\n",
    "print(acc)\n",
    "\n",
    "print('****'*30)\n",
    "\n",
    "clf_r = classification_report(y_test, y_pred_test)\n",
    "print(clf_r)"
   ]
  },
  {
   "cell_type": "markdown",
   "id": "a3bee301",
   "metadata": {},
   "source": [
    "# Decision Tree"
   ]
  },
  {
   "cell_type": "code",
   "execution_count": 184,
   "id": "6fc3fdd7",
   "metadata": {},
   "outputs": [
    {
     "data": {
      "text/html": [
       "<style>#sk-container-id-9 {color: black;background-color: white;}#sk-container-id-9 pre{padding: 0;}#sk-container-id-9 div.sk-toggleable {background-color: white;}#sk-container-id-9 label.sk-toggleable__label {cursor: pointer;display: block;width: 100%;margin-bottom: 0;padding: 0.3em;box-sizing: border-box;text-align: center;}#sk-container-id-9 label.sk-toggleable__label-arrow:before {content: \"▸\";float: left;margin-right: 0.25em;color: #696969;}#sk-container-id-9 label.sk-toggleable__label-arrow:hover:before {color: black;}#sk-container-id-9 div.sk-estimator:hover label.sk-toggleable__label-arrow:before {color: black;}#sk-container-id-9 div.sk-toggleable__content {max-height: 0;max-width: 0;overflow: hidden;text-align: left;background-color: #f0f8ff;}#sk-container-id-9 div.sk-toggleable__content pre {margin: 0.2em;color: black;border-radius: 0.25em;background-color: #f0f8ff;}#sk-container-id-9 input.sk-toggleable__control:checked~div.sk-toggleable__content {max-height: 200px;max-width: 100%;overflow: auto;}#sk-container-id-9 input.sk-toggleable__control:checked~label.sk-toggleable__label-arrow:before {content: \"▾\";}#sk-container-id-9 div.sk-estimator input.sk-toggleable__control:checked~label.sk-toggleable__label {background-color: #d4ebff;}#sk-container-id-9 div.sk-label input.sk-toggleable__control:checked~label.sk-toggleable__label {background-color: #d4ebff;}#sk-container-id-9 input.sk-hidden--visually {border: 0;clip: rect(1px 1px 1px 1px);clip: rect(1px, 1px, 1px, 1px);height: 1px;margin: -1px;overflow: hidden;padding: 0;position: absolute;width: 1px;}#sk-container-id-9 div.sk-estimator {font-family: monospace;background-color: #f0f8ff;border: 1px dotted black;border-radius: 0.25em;box-sizing: border-box;margin-bottom: 0.5em;}#sk-container-id-9 div.sk-estimator:hover {background-color: #d4ebff;}#sk-container-id-9 div.sk-parallel-item::after {content: \"\";width: 100%;border-bottom: 1px solid gray;flex-grow: 1;}#sk-container-id-9 div.sk-label:hover label.sk-toggleable__label {background-color: #d4ebff;}#sk-container-id-9 div.sk-serial::before {content: \"\";position: absolute;border-left: 1px solid gray;box-sizing: border-box;top: 0;bottom: 0;left: 50%;z-index: 0;}#sk-container-id-9 div.sk-serial {display: flex;flex-direction: column;align-items: center;background-color: white;padding-right: 0.2em;padding-left: 0.2em;position: relative;}#sk-container-id-9 div.sk-item {position: relative;z-index: 1;}#sk-container-id-9 div.sk-parallel {display: flex;align-items: stretch;justify-content: center;background-color: white;position: relative;}#sk-container-id-9 div.sk-item::before, #sk-container-id-9 div.sk-parallel-item::before {content: \"\";position: absolute;border-left: 1px solid gray;box-sizing: border-box;top: 0;bottom: 0;left: 50%;z-index: -1;}#sk-container-id-9 div.sk-parallel-item {display: flex;flex-direction: column;z-index: 1;position: relative;background-color: white;}#sk-container-id-9 div.sk-parallel-item:first-child::after {align-self: flex-end;width: 50%;}#sk-container-id-9 div.sk-parallel-item:last-child::after {align-self: flex-start;width: 50%;}#sk-container-id-9 div.sk-parallel-item:only-child::after {width: 0;}#sk-container-id-9 div.sk-dashed-wrapped {border: 1px dashed gray;margin: 0 0.4em 0.5em 0.4em;box-sizing: border-box;padding-bottom: 0.4em;background-color: white;}#sk-container-id-9 div.sk-label label {font-family: monospace;font-weight: bold;display: inline-block;line-height: 1.2em;}#sk-container-id-9 div.sk-label-container {text-align: center;}#sk-container-id-9 div.sk-container {/* jupyter's `normalize.less` sets `[hidden] { display: none; }` but bootstrap.min.css set `[hidden] { display: none !important; }` so we also need the `!important` here to be able to override the default hidden behavior on the sphinx rendered scikit-learn.org. See: https://github.com/scikit-learn/scikit-learn/issues/21755 */display: inline-block !important;position: relative;}#sk-container-id-9 div.sk-text-repr-fallback {display: none;}</style><div id=\"sk-container-id-9\" class=\"sk-top-container\"><div class=\"sk-text-repr-fallback\"><pre>DecisionTreeClassifier()</pre><b>In a Jupyter environment, please rerun this cell to show the HTML representation or trust the notebook. <br />On GitHub, the HTML representation is unable to render, please try loading this page with nbviewer.org.</b></div><div class=\"sk-container\" hidden><div class=\"sk-item\"><div class=\"sk-estimator sk-toggleable\"><input class=\"sk-toggleable__control sk-hidden--visually\" id=\"sk-estimator-id-9\" type=\"checkbox\" checked><label for=\"sk-estimator-id-9\" class=\"sk-toggleable__label sk-toggleable__label-arrow\">DecisionTreeClassifier</label><div class=\"sk-toggleable__content\"><pre>DecisionTreeClassifier()</pre></div></div></div></div></div>"
      ],
      "text/plain": [
       "DecisionTreeClassifier()"
      ]
     },
     "execution_count": 184,
     "metadata": {},
     "output_type": "execute_result"
    }
   ],
   "source": [
    "DT = DecisionTreeClassifier()\n",
    "DT.fit(x_train, y_train)"
   ]
  },
  {
   "cell_type": "code",
   "execution_count": 185,
   "id": "16d29aed",
   "metadata": {},
   "outputs": [
    {
     "name": "stdout",
     "output_type": "stream",
     "text": [
      "[[375   0]\n",
      " [  0 201]]\n",
      "************************************************************************************************************************\n",
      "1.0\n",
      "************************************************************************************************************************\n",
      "              precision    recall  f1-score   support\n",
      "\n",
      "           0       1.00      1.00      1.00       375\n",
      "           1       1.00      1.00      1.00       201\n",
      "\n",
      "    accuracy                           1.00       576\n",
      "   macro avg       1.00      1.00      1.00       576\n",
      "weighted avg       1.00      1.00      1.00       576\n",
      "\n"
     ]
    }
   ],
   "source": [
    "# Evaluation for Training,\n",
    "\n",
    "y_pred_train = DT.predict(x_train)\n",
    "\n",
    "cnf = confusion_matrix(y_train, y_pred_train)\n",
    "print(cnf)\n",
    "\n",
    "print('****'*30)\n",
    "\n",
    "acc = accuracy_score(y_train, y_pred_train)\n",
    "print(acc)\n",
    "\n",
    "print('****'*30)\n",
    "\n",
    "clf_r = classification_report(y_train, y_pred_train)\n",
    "print(clf_r)"
   ]
  },
  {
   "cell_type": "code",
   "execution_count": 186,
   "id": "7990c1e6",
   "metadata": {},
   "outputs": [
    {
     "name": "stdout",
     "output_type": "stream",
     "text": [
      "[[95 30]\n",
      " [31 36]]\n",
      "************************************************************************************************************************\n",
      "0.6822916666666666\n",
      "************************************************************************************************************************\n",
      "              precision    recall  f1-score   support\n",
      "\n",
      "           0       0.75      0.76      0.76       125\n",
      "           1       0.55      0.54      0.54        67\n",
      "\n",
      "    accuracy                           0.68       192\n",
      "   macro avg       0.65      0.65      0.65       192\n",
      "weighted avg       0.68      0.68      0.68       192\n",
      "\n"
     ]
    }
   ],
   "source": [
    "#Evaluation for Testing,\n",
    "\n",
    "y_pred_test= DT.predict(x_test)\n",
    "\n",
    "cnf = confusion_matrix(y_test, y_pred_test)\n",
    "print(cnf)\n",
    "\n",
    "print('****'*30)\n",
    "\n",
    "acc = accuracy_score(y_test, y_pred_test)\n",
    "print(acc)\n",
    "\n",
    "print('****'*30)\n",
    "\n",
    "clf_r = classification_report(y_test, y_pred_test)\n",
    "print(clf_r)"
   ]
  },
  {
   "cell_type": "markdown",
   "id": "c53f4732",
   "metadata": {},
   "source": [
    "# DT_Hyper"
   ]
  },
  {
   "cell_type": "code",
   "execution_count": 187,
   "id": "d1f25903",
   "metadata": {},
   "outputs": [],
   "source": [
    "DT_hyper = DecisionTreeClassifier()"
   ]
  },
  {
   "cell_type": "code",
   "execution_count": null,
   "id": "2d819632",
   "metadata": {},
   "outputs": [],
   "source": [
    "hyp =   {'criterion' : ['mse','mae'],\n",
    "         'max_depth' : np.arange(3,30),\n",
    "         'min_samples_split' : np.arange(2,20),\n",
    "         'min_samples_leaf' : np.arange(2,20)}\n",
    "\n",
    "gscv_hyp = GridSearchCV(DT_hyper, hyp, cv=5)\n",
    "gscv_hyp.fit(x_train, y_train)\n",
    "\n",
    "gscv_hyp.best_estimator_"
   ]
  },
  {
   "cell_type": "code",
   "execution_count": null,
   "id": "ced3200c",
   "metadata": {},
   "outputs": [],
   "source": [
    "model= gscv_hyp.best_estimator_"
   ]
  },
  {
   "cell_type": "code",
   "execution_count": null,
   "id": "89c0b940",
   "metadata": {},
   "outputs": [],
   "source": [
    "# Evaluation for Training,\n",
    "\n",
    "y_pred_train = model.predict(x_train)\n",
    "\n",
    "cnf = confusion_matrix(y_train, y_pred_train)\n",
    "print(cnf)\n",
    "\n",
    "print('****'*30)\n",
    "\n",
    "acc = accuracy_score(y_train, y_pred_train)\n",
    "print(acc)\n",
    "\n",
    "print('****'*30)\n",
    "\n",
    "clf_r = classification_report(y_train, y_pred_train)\n",
    "print(clf_r)"
   ]
  },
  {
   "cell_type": "code",
   "execution_count": null,
   "id": "c15ccd84",
   "metadata": {},
   "outputs": [],
   "source": [
    "#Evaluation for Testing,\n",
    "\n",
    "y_pred_test= model.predict(x_test)\n",
    "\n",
    "cnf = confusion_matrix(y_test, y_pred_test)\n",
    "print(cnf)\n",
    "\n",
    "print('****'*30)\n",
    "\n",
    "acc = accuracy_score(y_test, y_pred_test)\n",
    "print(acc)\n",
    "\n",
    "print('****'*30)\n",
    "\n",
    "clf_r = classification_report(y_test, y_pred_test)\n",
    "print(clf_r)"
   ]
  },
  {
   "cell_type": "markdown",
   "id": "df8f7c48",
   "metadata": {},
   "source": [
    "# Comprison of Models,"
   ]
  },
  {
   "cell_type": "code",
   "execution_count": null,
   "id": "33d3ec59",
   "metadata": {},
   "outputs": [],
   "source": [
    "Data Accuracy,\n",
    "           Training     Testing\n",
    "LR=          0.331       0.222\n",
    "LO=          0.781       0.75\n",
    "KNN=         0.813       0.703\n",
    "KNN_NS=      0.826       0.693\n",
    "KNN_std=     0.835       0.688\n",
    "KNN_hyp=     1.0         0.693\n",
    "DT=          1.0         0.69"
   ]
  },
  {
   "cell_type": "markdown",
   "id": "07349487",
   "metadata": {},
   "source": [
    "#### we Use normal KNN for prediction,"
   ]
  },
  {
   "cell_type": "code",
   "execution_count": 189,
   "id": "191f8967",
   "metadata": {},
   "outputs": [
    {
     "data": {
      "text/html": [
       "<div>\n",
       "<style scoped>\n",
       "    .dataframe tbody tr th:only-of-type {\n",
       "        vertical-align: middle;\n",
       "    }\n",
       "\n",
       "    .dataframe tbody tr th {\n",
       "        vertical-align: top;\n",
       "    }\n",
       "\n",
       "    .dataframe thead th {\n",
       "        text-align: right;\n",
       "    }\n",
       "</style>\n",
       "<table border=\"1\" class=\"dataframe\">\n",
       "  <thead>\n",
       "    <tr style=\"text-align: right;\">\n",
       "      <th></th>\n",
       "      <th>Glucose</th>\n",
       "      <th>BloodPressure</th>\n",
       "      <th>SkinThickness</th>\n",
       "      <th>Insulin</th>\n",
       "      <th>BMI</th>\n",
       "      <th>DiabetesPedigreeFunction</th>\n",
       "      <th>Age</th>\n",
       "      <th>Outcome</th>\n",
       "    </tr>\n",
       "  </thead>\n",
       "  <tbody>\n",
       "    <tr>\n",
       "      <th>0</th>\n",
       "      <td>148.0</td>\n",
       "      <td>50.0</td>\n",
       "      <td>35.0</td>\n",
       "      <td>0.0</td>\n",
       "      <td>33.6</td>\n",
       "      <td>0.627</td>\n",
       "      <td>50.0</td>\n",
       "      <td>1</td>\n",
       "    </tr>\n",
       "    <tr>\n",
       "      <th>1</th>\n",
       "      <td>85.0</td>\n",
       "      <td>66.0</td>\n",
       "      <td>29.0</td>\n",
       "      <td>0.0</td>\n",
       "      <td>26.6</td>\n",
       "      <td>0.351</td>\n",
       "      <td>31.0</td>\n",
       "      <td>0</td>\n",
       "    </tr>\n",
       "  </tbody>\n",
       "</table>\n",
       "</div>"
      ],
      "text/plain": [
       "   Glucose  BloodPressure  SkinThickness  Insulin   BMI  \\\n",
       "0    148.0           50.0           35.0      0.0  33.6   \n",
       "1     85.0           66.0           29.0      0.0  26.6   \n",
       "\n",
       "   DiabetesPedigreeFunction   Age  Outcome  \n",
       "0                     0.627  50.0        1  \n",
       "1                     0.351  31.0        0  "
      ]
     },
     "execution_count": 189,
     "metadata": {},
     "output_type": "execute_result"
    }
   ],
   "source": [
    "df.head(2)"
   ]
  },
  {
   "cell_type": "code",
   "execution_count": 190,
   "id": "5ca3d2a9",
   "metadata": {},
   "outputs": [
    {
     "data": {
      "text/plain": [
       "Index(['Glucose', 'BloodPressure', 'SkinThickness', 'Insulin', 'BMI',\n",
       "       'DiabetesPedigreeFunction', 'Age'],\n",
       "      dtype='object')"
      ]
     },
     "execution_count": 190,
     "metadata": {},
     "output_type": "execute_result"
    }
   ],
   "source": [
    "x.columns"
   ]
  },
  {
   "cell_type": "code",
   "execution_count": 191,
   "id": "1c29ed2c",
   "metadata": {},
   "outputs": [],
   "source": [
    "Glucose= 148.0\n",
    "BloodPressure= 50\n",
    "SkinThickness= 35.0\n",
    "Insulin=0\n",
    "BMI=33.6\n",
    "DiabetesPedigreeFunction=0.627\n",
    "Age=50"
   ]
  },
  {
   "cell_type": "code",
   "execution_count": 192,
   "id": "52aac774",
   "metadata": {},
   "outputs": [
    {
     "data": {
      "text/plain": [
       "array([[148.   ,  50.   ,  35.   ,   0.   ,  33.6  ,   0.627,  50.   ]])"
      ]
     },
     "execution_count": 192,
     "metadata": {},
     "output_type": "execute_result"
    }
   ],
   "source": [
    "arr = np.array([[Glucose, BloodPressure, SkinThickness, Insulin, BMI, DiabetesPedigreeFunction, Age]])\n",
    "arr"
   ]
  },
  {
   "cell_type": "code",
   "execution_count": 193,
   "id": "dcf40c83",
   "metadata": {},
   "outputs": [
    {
     "name": "stdout",
     "output_type": "stream",
     "text": [
      "yes\n"
     ]
    },
    {
     "name": "stderr",
     "output_type": "stream",
     "text": [
      "C:\\Users\\sai\\anaconda3\\lib\\site-packages\\sklearn\\base.py:450: UserWarning: X does not have valid feature names, but KNeighborsClassifier was fitted with feature names\n",
      "  warnings.warn(\n"
     ]
    }
   ],
   "source": [
    "pred = KNN.predict(arr)\n",
    "\n",
    "if pred[0] ==1:\n",
    "    print('yes')\n",
    "if pred[0] ==0:\n",
    "    print('no')"
   ]
  },
  {
   "cell_type": "code",
   "execution_count": 195,
   "id": "d7175358",
   "metadata": {},
   "outputs": [],
   "source": [
    "import pickle as pkl\n",
    "\n",
    "with open('KNN_model.pkl', 'wb') as f:\n",
    "    pkl.dump(KNN, f)"
   ]
  }
 ],
 "metadata": {
  "kernelspec": {
   "display_name": "Python 3 (ipykernel)",
   "language": "python",
   "name": "python3"
  },
  "language_info": {
   "codemirror_mode": {
    "name": "ipython",
    "version": 3
   },
   "file_extension": ".py",
   "mimetype": "text/x-python",
   "name": "python",
   "nbconvert_exporter": "python",
   "pygments_lexer": "ipython3",
   "version": "3.9.7"
  }
 },
 "nbformat": 4,
 "nbformat_minor": 5
}
